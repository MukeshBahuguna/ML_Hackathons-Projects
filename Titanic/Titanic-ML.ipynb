{
 "cells": [
  {
   "cell_type": "code",
   "execution_count": 232,
   "metadata": {},
   "outputs": [],
   "source": [
    "import pandas as pd\n",
    "import numpy as np\n",
    "import matplotlib.pyplot as plt\n",
    "import seaborn as sns\n",
    "from sklearn.preprocessing import LabelEncoder\n",
    "from sklearn.model_selection import train_test_split\n",
    "from sklearn.preprocessing import MinMaxScaler\n",
    "from sklearn.preprocessing import StandardScaler\n",
    "from sklearn.ensemble import RandomForestClassifier\n",
    "from sklearn.tree import DecisionTreeClassifier\n",
    "from sklearn.metrics import f1_score\n",
    "from sklearn.model_selection import GridSearchCV\n",
    "%matplotlib notebook"
   ]
  },
  {
   "cell_type": "code",
   "execution_count": 170,
   "metadata": {},
   "outputs": [],
   "source": [
    "dataset = pd.read_csv('downloads/train.csv') # reading the training data"
   ]
  },
  {
   "cell_type": "code",
   "execution_count": 171,
   "metadata": {},
   "outputs": [],
   "source": [
    "data = dataset.copy() #so we can retrieve original data anytime, .copy takes different space in memory"
   ]
  },
  {
   "cell_type": "code",
   "execution_count": 172,
   "metadata": {},
   "outputs": [
    {
     "data": {
      "text/html": [
       "<div>\n",
       "<style scoped>\n",
       "    .dataframe tbody tr th:only-of-type {\n",
       "        vertical-align: middle;\n",
       "    }\n",
       "\n",
       "    .dataframe tbody tr th {\n",
       "        vertical-align: top;\n",
       "    }\n",
       "\n",
       "    .dataframe thead th {\n",
       "        text-align: right;\n",
       "    }\n",
       "</style>\n",
       "<table border=\"1\" class=\"dataframe\">\n",
       "  <thead>\n",
       "    <tr style=\"text-align: right;\">\n",
       "      <th></th>\n",
       "      <th>PassengerId</th>\n",
       "      <th>Survived</th>\n",
       "      <th>Pclass</th>\n",
       "      <th>Name</th>\n",
       "      <th>Sex</th>\n",
       "      <th>Age</th>\n",
       "      <th>SibSp</th>\n",
       "      <th>Parch</th>\n",
       "      <th>Ticket</th>\n",
       "      <th>Fare</th>\n",
       "      <th>Cabin</th>\n",
       "      <th>Embarked</th>\n",
       "    </tr>\n",
       "  </thead>\n",
       "  <tbody>\n",
       "    <tr>\n",
       "      <th>0</th>\n",
       "      <td>1</td>\n",
       "      <td>0</td>\n",
       "      <td>3</td>\n",
       "      <td>Braund, Mr. Owen Harris</td>\n",
       "      <td>male</td>\n",
       "      <td>22.0</td>\n",
       "      <td>1</td>\n",
       "      <td>0</td>\n",
       "      <td>A/5 21171</td>\n",
       "      <td>7.2500</td>\n",
       "      <td>NaN</td>\n",
       "      <td>S</td>\n",
       "    </tr>\n",
       "    <tr>\n",
       "      <th>1</th>\n",
       "      <td>2</td>\n",
       "      <td>1</td>\n",
       "      <td>1</td>\n",
       "      <td>Cumings, Mrs. John Bradley (Florence Briggs Th...</td>\n",
       "      <td>female</td>\n",
       "      <td>38.0</td>\n",
       "      <td>1</td>\n",
       "      <td>0</td>\n",
       "      <td>PC 17599</td>\n",
       "      <td>71.2833</td>\n",
       "      <td>C85</td>\n",
       "      <td>C</td>\n",
       "    </tr>\n",
       "    <tr>\n",
       "      <th>2</th>\n",
       "      <td>3</td>\n",
       "      <td>1</td>\n",
       "      <td>3</td>\n",
       "      <td>Heikkinen, Miss. Laina</td>\n",
       "      <td>female</td>\n",
       "      <td>26.0</td>\n",
       "      <td>0</td>\n",
       "      <td>0</td>\n",
       "      <td>STON/O2. 3101282</td>\n",
       "      <td>7.9250</td>\n",
       "      <td>NaN</td>\n",
       "      <td>S</td>\n",
       "    </tr>\n",
       "    <tr>\n",
       "      <th>3</th>\n",
       "      <td>4</td>\n",
       "      <td>1</td>\n",
       "      <td>1</td>\n",
       "      <td>Futrelle, Mrs. Jacques Heath (Lily May Peel)</td>\n",
       "      <td>female</td>\n",
       "      <td>35.0</td>\n",
       "      <td>1</td>\n",
       "      <td>0</td>\n",
       "      <td>113803</td>\n",
       "      <td>53.1000</td>\n",
       "      <td>C123</td>\n",
       "      <td>S</td>\n",
       "    </tr>\n",
       "    <tr>\n",
       "      <th>4</th>\n",
       "      <td>5</td>\n",
       "      <td>0</td>\n",
       "      <td>3</td>\n",
       "      <td>Allen, Mr. William Henry</td>\n",
       "      <td>male</td>\n",
       "      <td>35.0</td>\n",
       "      <td>0</td>\n",
       "      <td>0</td>\n",
       "      <td>373450</td>\n",
       "      <td>8.0500</td>\n",
       "      <td>NaN</td>\n",
       "      <td>S</td>\n",
       "    </tr>\n",
       "  </tbody>\n",
       "</table>\n",
       "</div>"
      ],
      "text/plain": [
       "   PassengerId  Survived  Pclass  \\\n",
       "0            1         0       3   \n",
       "1            2         1       1   \n",
       "2            3         1       3   \n",
       "3            4         1       1   \n",
       "4            5         0       3   \n",
       "\n",
       "                                                Name     Sex   Age  SibSp  \\\n",
       "0                            Braund, Mr. Owen Harris    male  22.0      1   \n",
       "1  Cumings, Mrs. John Bradley (Florence Briggs Th...  female  38.0      1   \n",
       "2                             Heikkinen, Miss. Laina  female  26.0      0   \n",
       "3       Futrelle, Mrs. Jacques Heath (Lily May Peel)  female  35.0      1   \n",
       "4                           Allen, Mr. William Henry    male  35.0      0   \n",
       "\n",
       "   Parch            Ticket     Fare Cabin Embarked  \n",
       "0      0         A/5 21171   7.2500   NaN        S  \n",
       "1      0          PC 17599  71.2833   C85        C  \n",
       "2      0  STON/O2. 3101282   7.9250   NaN        S  \n",
       "3      0            113803  53.1000  C123        S  \n",
       "4      0            373450   8.0500   NaN        S  "
      ]
     },
     "execution_count": 172,
     "metadata": {},
     "output_type": "execute_result"
    }
   ],
   "source": [
    "data.head() #display top 5 records"
   ]
  },
  {
   "cell_type": "markdown",
   "metadata": {},
   "source": [
    "# Data Exploration"
   ]
  },
  {
   "cell_type": "code",
   "execution_count": 6,
   "metadata": {},
   "outputs": [
    {
     "data": {
      "text/plain": [
       "Cabin          687\n",
       "Age            177\n",
       "Embarked         2\n",
       "Fare             0\n",
       "Ticket           0\n",
       "Parch            0\n",
       "SibSp            0\n",
       "Sex              0\n",
       "Name             0\n",
       "Pclass           0\n",
       "Survived         0\n",
       "PassengerId      0\n",
       "dtype: int64"
      ]
     },
     "execution_count": 6,
     "metadata": {},
     "output_type": "execute_result"
    }
   ],
   "source": [
    "data.isnull().sum().sort_values(ascending=False) #finding the number of missing values in each category"
   ]
  },
  {
   "cell_type": "code",
   "execution_count": 7,
   "metadata": {},
   "outputs": [
    {
     "name": "stdout",
     "output_type": "stream",
     "text": [
      "['Name', 'Sex', 'Ticket', 'Cabin', 'Embarked'] ['PassengerId', 'Survived', 'Pclass', 'Age', 'SibSp', 'Parch', 'Fare']\n"
     ]
    }
   ],
   "source": [
    "catcol = [col for col in data.columns if data[col].dtypes == 'O'] # categorical or object type features\n",
    "numcol = [col for col in data.columns if col not in catcol] # numerical features\n",
    "print(catcol,numcol)"
   ]
  },
  {
   "cell_type": "code",
   "execution_count": 8,
   "metadata": {},
   "outputs": [
    {
     "name": "stdout",
     "output_type": "stream",
     "text": [
      "Name has 891 different categories\n",
      "Sex has 2 different categories\n",
      "Ticket has 681 different categories\n",
      "Cabin has 148 different categories\n",
      "Embarked has 4 different categories\n"
     ]
    }
   ],
   "source": [
    "for col in catcol:\n",
    "    print(col,'has',len(data[col].unique()),'different categories')   # finding the amount of unique categories "
   ]
  },
  {
   "cell_type": "code",
   "execution_count": 9,
   "metadata": {},
   "outputs": [
    {
     "data": {
      "text/plain": [
       "<matplotlib.axes._subplots.AxesSubplot at 0x207121ba240>"
      ]
     },
     "execution_count": 9,
     "metadata": {},
     "output_type": "execute_result"
    },
    {
     "data": {
      "image/png": "[encoded data removed]",
      "text/plain": [
       "<Figure size 432x288 with 2 Axes>"
      ]
     },
     "metadata": {
      "needs_background": "light"
     },
     "output_type": "display_data"
    }
   ],
   "source": [
    "plt.figure(figsize=(6,4))\n",
    "sns.heatmap(data.drop('PassengerId',axis=1).corr(),annot=True)"
   ]
  },
  {
   "cell_type": "markdown",
   "metadata": {},
   "source": [
    "It is observed that there is a strong relationship between survival and passenger class, \n",
    "also a correlation between sibling-spouse and parents-children features,\n",
    "there is a strong linking between passenger class and age also,\n",
    "Fare as we might safely guess is highly correlated to the passenger class."
   ]
  },
  {
   "cell_type": "code",
   "execution_count": 20,
   "metadata": {},
   "outputs": [
    {
     "data": {
      "text/plain": [
       "<matplotlib.axes._subplots.AxesSubplot at 0x20712ad07b8>"
      ]
     },
     "execution_count": 20,
     "metadata": {},
     "output_type": "execute_result"
    },
    {
     "data": {
      "image/png": "[encoded data removed]",
      "text/plain": [
       "<Figure size 432x288 with 1 Axes>"
      ]
     },
     "metadata": {
      "needs_background": "light"
     },
     "output_type": "display_data"
    }
   ],
   "source": [
    "#data.groupby('Pclass')['Survived'].mean().plot.bar()\n",
    "plt.xlabel('Passenger Class')\n",
    "plt.ylabel('Survived') \n",
    "sns.countplot(x='Survived',hue='Pclass',data=data,palette='rainbow')\n",
    "# It is observed there is a clear demarkation in the survival rates with respect to class of passenger"
   ]
  },
  {
   "cell_type": "code",
   "execution_count": 18,
   "metadata": {},
   "outputs": [
    {
     "data": {
      "text/plain": [
       "<matplotlib.axes._subplots.AxesSubplot at 0x20712a5abe0>"
      ]
     },
     "execution_count": 18,
     "metadata": {},
     "output_type": "execute_result"
    },
    {
     "data": {
      "image/png": "[encoded data removed]",
      "text/plain": [
       "<Figure size 432x288 with 1 Axes>"
      ]
     },
     "metadata": {
      "needs_background": "light"
     },
     "output_type": "display_data"
    }
   ],
   "source": [
    "sns.countplot(x='Survived',hue='Sex',data=data,palette='RdBu_r')\n",
    "# There is a huge demarkation btw % of men and women that surived"
   ]
  },
  {
   "cell_type": "code",
   "execution_count": 14,
   "metadata": {},
   "outputs": [
    {
     "data": {
      "text/plain": [
       "<matplotlib.axes._subplots.AxesSubplot at 0x207128ed240>"
      ]
     },
     "execution_count": 14,
     "metadata": {},
     "output_type": "execute_result"
    },
    {
     "data": {
      "image/png": "[encoded data removed]",
      "text/plain": [
       "<Figure size 432x288 with 1 Axes>"
      ]
     },
     "metadata": {
      "needs_background": "light"
     },
     "output_type": "display_data"
    }
   ],
   "source": [
    "x =sns.violinplot(x='Pclass',y='Age',data=data,palette='winter')\n",
    "#it is observed that the mean age of a passenger increases as the passenger class is inmporved, thus pclass will \n",
    "#an important parameter to determine the missing ages, along with gender"
   ]
  },
  {
   "cell_type": "code",
   "execution_count": 22,
   "metadata": {},
   "outputs": [
    {
     "data": {
      "text/plain": [
       "<matplotlib.axes._subplots.AxesSubplot at 0x20712bf62b0>"
      ]
     },
     "execution_count": 22,
     "metadata": {},
     "output_type": "execute_result"
    },
    {
     "data": {
      "image/png": "[encoded data removed]",
      "text/plain": [
       "<Figure size 432x288 with 1 Axes>"
      ]
     },
     "metadata": {
      "needs_background": "light"
     },
     "output_type": "display_data"
    }
   ],
   "source": [
    "sns.distplot(data['Age'].dropna(),kde=False,color='green',bins=30)"
   ]
  },
  {
   "cell_type": "code",
   "execution_count": 25,
   "metadata": {},
   "outputs": [
    {
     "name": "stdout",
     "output_type": "stream",
     "text": [
      "Skew: 4.787316519674893 and Kurtosis : 33.39814088089868\n"
     ]
    }
   ],
   "source": [
    "print('Skew: {} and Kurtosis : {}'.format(data.Fare.skew(),data.Fare.kurt()))\n",
    "# This shows that the fare data is highly skewed hence we may apply log transformation to make it fit normal distribution"
   ]
  },
  {
   "cell_type": "code",
   "execution_count": 27,
   "metadata": {},
   "outputs": [
    {
     "name": "stdout",
     "output_type": "stream",
     "text": [
      "For PassengerId Skew: 0.0 and Kurtosis : -1.1999999999999997\n",
      "For Survived Skew: 0.4785234382949897 and Kurtosis : -1.775004671066304\n",
      "For Pclass Skew: -0.6305479068752845 and Kurtosis : -1.2800149715782825\n",
      "For Age Skew: 0.38910778230082704 and Kurtosis : 0.17827415364210353\n",
      "For SibSp Skew: 3.6953517271630565 and Kurtosis : 17.880419726645968\n",
      "For Parch Skew: 2.7491170471010933 and Kurtosis : 9.778125179021648\n",
      "For Fare Skew: 4.787316519674893 and Kurtosis : 33.39814088089868\n"
     ]
    }
   ],
   "source": [
    "for col in numcol:\n",
    "    print('For {} Skew: {} and Kurtosis : {}'.format(col,data[col].skew(),data[col].kurt()))\n",
    "# Sibsp and Parch can be refined further"
   ]
  },
  {
   "cell_type": "code",
   "execution_count": 29,
   "metadata": {},
   "outputs": [],
   "source": [
    "data['Cab'] = data.Cabin.str.extract('([A-Z]+)')"
   ]
  },
  {
   "cell_type": "code",
   "execution_count": 30,
   "metadata": {},
   "outputs": [
    {
     "data": {
      "text/plain": [
       "array([nan, 'C', 'E', 'G', 'D', 'A', 'B', 'F', 'T'], dtype=object)"
      ]
     },
     "execution_count": 30,
     "metadata": {},
     "output_type": "execute_result"
    }
   ],
   "source": [
    "data.Cab.unique()"
   ]
  },
  {
   "cell_type": "code",
   "execution_count": 31,
   "metadata": {},
   "outputs": [],
   "source": [
    "data.Cab = data.Cab.replace(np.nan,'N') #converting none values to a N category"
   ]
  },
  {
   "cell_type": "code",
   "execution_count": 39,
   "metadata": {},
   "outputs": [
    {
     "data": {
      "text/plain": [
       "<matplotlib.axes._subplots.AxesSubplot at 0x20714c372b0>"
      ]
     },
     "execution_count": 39,
     "metadata": {},
     "output_type": "execute_result"
    },
    {
     "data": {
      "image/png": "[encoded data removed]",
      "text/plain": [
       "<Figure size 432x288 with 1 Axes>"
      ]
     },
     "metadata": {
      "needs_background": "light"
     },
     "output_type": "display_data"
    }
   ],
   "source": [
    "sns.countplot(x='Cab',hue='Survived',data=data) # ignoring the difference of scales it should be observed that\n",
    "#classes C,E,D,B,F have more numer of survived cases as compared to others"
   ]
  },
  {
   "cell_type": "markdown",
   "metadata": {},
   "source": [
    "# Data Cleaning and Feature Engineering"
   ]
  },
  {
   "cell_type": "code",
   "execution_count": 40,
   "metadata": {},
   "outputs": [
    {
     "data": {
      "text/plain": [
       "PassengerId      0\n",
       "Survived         0\n",
       "Pclass           0\n",
       "Name             0\n",
       "Sex              0\n",
       "Age            177\n",
       "SibSp            0\n",
       "Parch            0\n",
       "Ticket           0\n",
       "Fare             0\n",
       "Cabin          687\n",
       "Embarked         2\n",
       "Cab              0\n",
       "dtype: int64"
      ]
     },
     "execution_count": 40,
     "metadata": {},
     "output_type": "execute_result"
    }
   ],
   "source": [
    "data.isna().sum()"
   ]
  },
  {
   "cell_type": "code",
   "execution_count": 41,
   "metadata": {},
   "outputs": [],
   "source": [
    "#we'll simply fill the embarked by the mode of the data since they are only 2\n",
    "data.Embarked = data.Embarked.fillna(data.Embarked.mode()[0])"
   ]
  },
  {
   "cell_type": "code",
   "execution_count": 42,
   "metadata": {},
   "outputs": [],
   "source": [
    "#Cab feature has been extracted from cabin and hence can be dropped\n",
    "#Age has dependancy on Pclass thus we'll fill them wrt pclass , it slightly varies with sex as well\n",
    "data.Age = data.groupby(['Pclass','Sex'])['Age'].apply(lambda x:x.fillna(x.median()))"
   ]
  },
  {
   "cell_type": "code",
   "execution_count": 43,
   "metadata": {},
   "outputs": [],
   "source": [
    "data = data.drop('Cabin',axis=1)"
   ]
  },
  {
   "cell_type": "code",
   "execution_count": 47,
   "metadata": {},
   "outputs": [
    {
     "data": {
      "text/plain": [
       "[0, 0, 0, 0, 0, 0, 0, 0, 0, 0, 0, 0]"
      ]
     },
     "execution_count": 47,
     "metadata": {},
     "output_type": "execute_result"
    }
   ],
   "source": [
    "data.isna().sum().tolist() # all missing values have been filled"
   ]
  },
  {
   "cell_type": "code",
   "execution_count": 48,
   "metadata": {},
   "outputs": [],
   "source": [
    "# SibSp and Parch can be essentially converted into just 1 feature ie Family members\n",
    "data['Family'] = data.SibSp + data.Parch + 1 # +1 so that if he is alone, atleast 1 mumber in family"
   ]
  },
  {
   "cell_type": "code",
   "execution_count": 49,
   "metadata": {},
   "outputs": [
    {
     "data": {
      "text/plain": [
       "<matplotlib.axes._subplots.AxesSubplot at 0x20714cbbc88>"
      ]
     },
     "execution_count": 49,
     "metadata": {},
     "output_type": "execute_result"
    },
    {
     "data": {
      "image/png": "[encoded data removed]",
      "text/plain": [
       "<Figure size 432x288 with 1 Axes>"
      ]
     },
     "metadata": {
      "needs_background": "light"
     },
     "output_type": "display_data"
    }
   ],
   "source": [
    "sns.countplot(x='Family',hue='Survived',data=data)\n",
    "# it is observed that alone person is most likely to die, and people with families bigger than 4 also likely die\n",
    "#thus we can make a new feature to indicate if a person is alone"
   ]
  },
  {
   "cell_type": "code",
   "execution_count": 50,
   "metadata": {},
   "outputs": [],
   "source": [
    "data['Alone'] = 0\n",
    "data.loc[ data['Family'] > 1 , 'Alone' ] = 1"
   ]
  },
  {
   "cell_type": "code",
   "execution_count": 57,
   "metadata": {},
   "outputs": [],
   "source": [
    "# From the names, the titles can be found which may help in strenghtening the analysis\n",
    "data['Title'] = data.Name.str.extract('([A-za-z]+)\\.')"
   ]
  },
  {
   "cell_type": "code",
   "execution_count": 74,
   "metadata": {},
   "outputs": [
    {
     "data": {
      "text/plain": [
       "Title\n",
       "Capt          0\n",
       "Col           1\n",
       "Countess      1\n",
       "Don           0\n",
       "Dr            3\n",
       "Jonkheer      0\n",
       "Lady          1\n",
       "Major         1\n",
       "Master       23\n",
       "Miss        127\n",
       "Mlle          2\n",
       "Mme           1\n",
       "Mr           81\n",
       "Mrs          99\n",
       "Ms            1\n",
       "Rev           0\n",
       "Sir           1\n",
       "Name: Survived, dtype: int64"
      ]
     },
     "execution_count": 74,
     "metadata": {},
     "output_type": "execute_result"
    }
   ],
   "source": [
    "data.groupby('Title')['Survived'].sum()\n",
    "#Mr,Master,Miss,Mrs are the only major titles, others can be converted into rare"
   ]
  },
  {
   "cell_type": "code",
   "execution_count": 79,
   "metadata": {},
   "outputs": [],
   "source": [
    "# making titles category less populated\n",
    "common = ['Master','Miss','Mr','Mrs']\n",
    "rare = [x for x in data.Title.unique().tolist() if x not in common]\n",
    "data.Title = data.Title.replace(rare,'Rare')"
   ]
  },
  {
   "cell_type": "code",
   "execution_count": 80,
   "metadata": {},
   "outputs": [],
   "source": [
    "data.Title = data.Title.replace(['Miss','Ms'],'Mrs')"
   ]
  },
  {
   "cell_type": "code",
   "execution_count": 81,
   "metadata": {},
   "outputs": [
    {
     "data": {
      "text/plain": [
       "(array([0, 1, 2, 3]), <a list of 4 Text xticklabel objects>)"
      ]
     },
     "execution_count": 81,
     "metadata": {},
     "output_type": "execute_result"
    },
    {
     "data": {
      "image/png": "[encoded data removed]",
      "text/plain": [
       "<Figure size 432x288 with 1 Axes>"
      ]
     },
     "metadata": {
      "needs_background": "light"
     },
     "output_type": "display_data"
    }
   ],
   "source": [
    "# Plotting to see title vs surival\n",
    "sns.countplot(x='Title',hue='Survived',data=data)\n",
    "plt.xticks(rotation=90)"
   ]
  },
  {
   "cell_type": "code",
   "execution_count": 87,
   "metadata": {},
   "outputs": [],
   "source": [
    "# experimenting with different categorical variables whether label encoding will be better or one hot encoding\n",
    "data['LabTitle'] = LabelEncoder().fit_transform(data.Title)\n",
    "data['LabSex'] = LabelEncoder().fit_transform(data.Sex)"
   ]
  },
  {
   "cell_type": "code",
   "execution_count": 90,
   "metadata": {},
   "outputs": [
    {
     "data": {
      "text/plain": [
       "0.38811468354876394"
      ]
     },
     "execution_count": 90,
     "metadata": {},
     "output_type": "execute_result"
    }
   ],
   "source": [
    "data.LabTitle.corr(data.Survived)"
   ]
  },
  {
   "cell_type": "code",
   "execution_count": 91,
   "metadata": {},
   "outputs": [
    {
     "data": {
      "text/plain": [
       "-0.5433513806577552"
      ]
     },
     "execution_count": 91,
     "metadata": {},
     "output_type": "execute_result"
    }
   ],
   "source": [
    "data.LabSex.corr(data.Survived)"
   ]
  },
  {
   "cell_type": "code",
   "execution_count": 92,
   "metadata": {},
   "outputs": [],
   "source": [
    "sex = pd.get_dummies(data.Sex)"
   ]
  },
  {
   "cell_type": "code",
   "execution_count": 98,
   "metadata": {},
   "outputs": [
    {
     "name": "stdout",
     "output_type": "stream",
     "text": [
      "0.5433513806577552\n",
      "-0.5433513806577552\n"
     ]
    }
   ],
   "source": [
    "for i in sex:\n",
    "    print(sex[i].corr(data.Survived))"
   ]
  },
  {
   "cell_type": "code",
   "execution_count": 111,
   "metadata": {},
   "outputs": [],
   "source": [
    "data['em'] = LabelEncoder().fit_transform(data.Embarked)\n",
    "data['tit'] = LabelEncoder().fit_transform(data.Title)"
   ]
  },
  {
   "cell_type": "code",
   "execution_count": 114,
   "metadata": {},
   "outputs": [
    {
     "name": "stdout",
     "output_type": "stream",
     "text": [
      "0.08522056083929429\n",
      "-0.5491991849030085\n",
      "0.5252620634185607\n",
      "0.02203025607922676\n",
      "--------------------\n",
      "0.38811468354876394\n"
     ]
    }
   ],
   "source": [
    "tit = pd.get_dummies(data.Title)\n",
    "for i in tit:\n",
    "    print(tit[i].corr(data.Survived))\n",
    "print('-'*20)\n",
    "print(data.tit.corr(data.Survived))"
   ]
  },
  {
   "cell_type": "code",
   "execution_count": 103,
   "metadata": {},
   "outputs": [
    {
     "name": "stdout",
     "output_type": "stream",
     "text": [
      "0.16824043121823326\n",
      "0.0036503826839721734\n",
      "-0.1496827232706856\n"
     ]
    }
   ],
   "source": [
    "em = pd.get_dummies(data.Embarked)\n",
    "for i in em:\n",
    "    print(em[i].corr(data.Survived))"
   ]
  },
  {
   "cell_type": "code",
   "execution_count": 102,
   "metadata": {},
   "outputs": [
    {
     "data": {
      "text/plain": [
       "-0.1676753138677214"
      ]
     },
     "execution_count": 102,
     "metadata": {},
     "output_type": "execute_result"
    }
   ],
   "source": [
    "data.em.corr(data.Survived)"
   ]
  },
  {
   "cell_type": "code",
   "execution_count": 105,
   "metadata": {},
   "outputs": [
    {
     "data": {
      "text/plain": [
       "0.10723919999999999"
      ]
     },
     "execution_count": 105,
     "metadata": {},
     "output_type": "execute_result"
    }
   ],
   "source": [
    "x = 0.1682404+0.003650+0.1498272\n",
    "x/3"
   ]
  },
  {
   "cell_type": "code",
   "execution_count": null,
   "metadata": {},
   "outputs": [],
   "source": [
    "#thus we choose labelencoding for this dataset as it gives better correlation"
   ]
  },
  {
   "cell_type": "code",
   "execution_count": 109,
   "metadata": {},
   "outputs": [],
   "source": [
    "catcol = [feature for feature in data.columns if data[feature].dtypes == 'O']"
   ]
  },
  {
   "cell_type": "code",
   "execution_count": 156,
   "metadata": {},
   "outputs": [],
   "source": [
    "data = data.drop(['Name','Ticket'],axis=1)"
   ]
  },
  {
   "cell_type": "code",
   "execution_count": 115,
   "metadata": {},
   "outputs": [],
   "source": [
    "#label encoding numbering the catergories of each categorical feature\n",
    "data.Sex = LabelEncoder().fit_transform(data.Sex) \n",
    "data.Embarked = LabelEncoder().fit_transform(data.Embarked)\n",
    "data.Cab = LabelEncoder().fit_transform(data.Cab)\n",
    "data.Title = LabelEncoder().fit_transform(data.Title)"
   ]
  },
  {
   "cell_type": "code",
   "execution_count": 157,
   "metadata": {},
   "outputs": [
    {
     "data": {
      "text/html": [
       "<div>\n",
       "<style scoped>\n",
       "    .dataframe tbody tr th:only-of-type {\n",
       "        vertical-align: middle;\n",
       "    }\n",
       "\n",
       "    .dataframe tbody tr th {\n",
       "        vertical-align: top;\n",
       "    }\n",
       "\n",
       "    .dataframe thead th {\n",
       "        text-align: right;\n",
       "    }\n",
       "</style>\n",
       "<table border=\"1\" class=\"dataframe\">\n",
       "  <thead>\n",
       "    <tr style=\"text-align: right;\">\n",
       "      <th></th>\n",
       "      <th>PassengerId</th>\n",
       "      <th>Pclass</th>\n",
       "      <th>Sex</th>\n",
       "      <th>Age</th>\n",
       "      <th>SibSp</th>\n",
       "      <th>Parch</th>\n",
       "      <th>Fare</th>\n",
       "      <th>Cabin</th>\n",
       "      <th>Embarked</th>\n",
       "    </tr>\n",
       "  </thead>\n",
       "  <tbody>\n",
       "    <tr>\n",
       "      <th>0</th>\n",
       "      <td>892</td>\n",
       "      <td>3</td>\n",
       "      <td>male</td>\n",
       "      <td>34.5</td>\n",
       "      <td>0</td>\n",
       "      <td>0</td>\n",
       "      <td>7.8292</td>\n",
       "      <td>NaN</td>\n",
       "      <td>Q</td>\n",
       "    </tr>\n",
       "    <tr>\n",
       "      <th>1</th>\n",
       "      <td>893</td>\n",
       "      <td>3</td>\n",
       "      <td>female</td>\n",
       "      <td>47.0</td>\n",
       "      <td>1</td>\n",
       "      <td>0</td>\n",
       "      <td>7.0000</td>\n",
       "      <td>NaN</td>\n",
       "      <td>S</td>\n",
       "    </tr>\n",
       "    <tr>\n",
       "      <th>2</th>\n",
       "      <td>894</td>\n",
       "      <td>2</td>\n",
       "      <td>male</td>\n",
       "      <td>62.0</td>\n",
       "      <td>0</td>\n",
       "      <td>0</td>\n",
       "      <td>9.6875</td>\n",
       "      <td>NaN</td>\n",
       "      <td>Q</td>\n",
       "    </tr>\n",
       "    <tr>\n",
       "      <th>3</th>\n",
       "      <td>895</td>\n",
       "      <td>3</td>\n",
       "      <td>male</td>\n",
       "      <td>27.0</td>\n",
       "      <td>0</td>\n",
       "      <td>0</td>\n",
       "      <td>8.6625</td>\n",
       "      <td>NaN</td>\n",
       "      <td>S</td>\n",
       "    </tr>\n",
       "    <tr>\n",
       "      <th>4</th>\n",
       "      <td>896</td>\n",
       "      <td>3</td>\n",
       "      <td>female</td>\n",
       "      <td>22.0</td>\n",
       "      <td>1</td>\n",
       "      <td>1</td>\n",
       "      <td>12.2875</td>\n",
       "      <td>NaN</td>\n",
       "      <td>S</td>\n",
       "    </tr>\n",
       "  </tbody>\n",
       "</table>\n",
       "</div>"
      ],
      "text/plain": [
       "   PassengerId  Pclass     Sex   Age  SibSp  Parch     Fare Cabin Embarked\n",
       "0          892       3    male  34.5      0      0   7.8292   NaN        Q\n",
       "1          893       3  female  47.0      1      0   7.0000   NaN        S\n",
       "2          894       2    male  62.0      0      0   9.6875   NaN        Q\n",
       "3          895       3    male  27.0      0      0   8.6625   NaN        S\n",
       "4          896       3  female  22.0      1      1  12.2875   NaN        S"
      ]
     },
     "execution_count": 157,
     "metadata": {},
     "output_type": "execute_result"
    }
   ],
   "source": [
    "data.head()"
   ]
  },
  {
   "cell_type": "code",
   "execution_count": 129,
   "metadata": {},
   "outputs": [],
   "source": [
    "data = data.drop('PassengerId',axis=1)"
   ]
  },
  {
   "cell_type": "code",
   "execution_count": 119,
   "metadata": {},
   "outputs": [],
   "source": [
    "data = data.drop(['LabTitle','LabSex','em','tit'],axis=1) # dropping the unnecesary columns"
   ]
  },
  {
   "cell_type": "code",
   "execution_count": 139,
   "metadata": {},
   "outputs": [
    {
     "name": "stderr",
     "output_type": "stream",
     "text": [
      "D:\\tanay\\anaconda\\lib\\site-packages\\sklearn\\preprocessing\\data.py:334: DataConversionWarning: Data with input dtype int32, int64, float64 were all converted to float64 by MinMaxScaler.\n",
      "  return self.partial_fit(X, y)\n",
      "D:\\tanay\\anaconda\\lib\\site-packages\\sklearn\\preprocessing\\data.py:645: DataConversionWarning: Data with input dtype int32, int64, float64 were all converted to float64 by StandardScaler.\n",
      "  return self.partial_fit(X, y)\n",
      "D:\\tanay\\anaconda\\lib\\site-packages\\sklearn\\base.py:464: DataConversionWarning: Data with input dtype int32, int64, float64 were all converted to float64 by StandardScaler.\n",
      "  return self.fit(X, **fit_params).transform(X)\n"
     ]
    }
   ],
   "source": [
    "# scaling is an important part of preprocessing, we will observe results acc to both\n",
    "datam = MinMaxScaler().fit_transform(data)\n",
    "datas = StandardScaler().fit_transform(data)"
   ]
  },
  {
   "cell_type": "code",
   "execution_count": 155,
   "metadata": {},
   "outputs": [],
   "source": [
    "datas = pd.DataFrame(datas)\n",
    "datam = pd.DataFrame(datam)\n",
    "\n",
    "#datas.head()"
   ]
  },
  {
   "cell_type": "code",
   "execution_count": 154,
   "metadata": {},
   "outputs": [],
   "source": [
    "#plt.figure(figsize=(10,10))\n",
    "#plt.subplot(311)\n",
    "#sns.heatmap(data.corr(),annot=True)\n",
    "#plt.subplot(312)\n",
    "#sns.heatmap(datam.corr(),annot=True)\n",
    "#plt.subplot(313)\n",
    "#sns.heatmap(datas.corr(),annot=True)"
   ]
  },
  {
   "cell_type": "code",
   "execution_count": 175,
   "metadata": {},
   "outputs": [],
   "source": [
    "data.to_csv('traindf.csv')\n",
    "train = data.copy()"
   ]
  },
  {
   "cell_type": "markdown",
   "metadata": {},
   "source": [
    "# Do the same process for test data"
   ]
  },
  {
   "cell_type": "code",
   "execution_count": 166,
   "metadata": {},
   "outputs": [],
   "source": [
    "#importing test csv\n",
    "test = pd.read_csv('downloads/test.csv')\n",
    "data = test.copy()"
   ]
  },
  {
   "cell_type": "code",
   "execution_count": 173,
   "metadata": {},
   "outputs": [],
   "source": [
    "# all the preprocessing techniques performed for test data, name is kept same for use in both \n",
    "data['Cab'] = data.Cabin.str.extract('([A-Z]+)') # getting 1st alphabet of cabin\n",
    "data.Cab = data.Cab.replace(np.nan,'N') #converting none values to a N category\n",
    "data.Embarked = data.Embarked.fillna(data.Embarked.mode()[0]) # filling embarked with S\n",
    "data.Age = data.groupby(['Pclass','Sex'])['Age'].apply(lambda x:x.fillna(x.median())) #filling missing values of age\n",
    "data = data.drop('Cabin',axis=1)\n",
    "data['Family'] = data.SibSp + data.Parch + 1  # feature generation\n",
    "data['Alone'] = 0\n",
    "data.loc[ data['Family'] > 1 , 'Alone' ] = 1\n",
    "data['Title'] = data.Name.str.extract('([A-za-z]+)\\.') # refining name feature\n",
    "common = ['Master','Miss','Mr','Mrs']    # most common titles\n",
    "rare = [x for x in data.Title.unique().tolist() if x not in common]\n",
    "data.Title = data.Title.replace(rare,'Rare') \n",
    "data.Title = data.Title.replace(['Miss','Ms'],'Mrs')\n",
    "data = data.drop(['Name','Ticket'],axis=1)\n",
    "data.Sex = LabelEncoder().fit_transform(data.Sex)      # making catergorical features numerical\n",
    "data.Embarked = LabelEncoder().fit_transform(data.Embarked)\n",
    "data.Cab = LabelEncoder().fit_transform(data.Cab)\n",
    "data.Title = LabelEncoder().fit_transform(data.Title)\n",
    "data = data.drop('PassengerId',axis=1)"
   ]
  },
  {
   "cell_type": "code",
   "execution_count": 169,
   "metadata": {},
   "outputs": [],
   "source": [
    "testdf = data.copy()"
   ]
  },
  {
   "cell_type": "code",
   "execution_count": 176,
   "metadata": {},
   "outputs": [],
   "source": [
    "testdf.to_csv('testdf.csv')"
   ]
  },
  {
   "cell_type": "code",
   "execution_count": 177,
   "metadata": {},
   "outputs": [
    {
     "data": {
      "text/html": [
       "<div>\n",
       "<style scoped>\n",
       "    .dataframe tbody tr th:only-of-type {\n",
       "        vertical-align: middle;\n",
       "    }\n",
       "\n",
       "    .dataframe tbody tr th {\n",
       "        vertical-align: top;\n",
       "    }\n",
       "\n",
       "    .dataframe thead th {\n",
       "        text-align: right;\n",
       "    }\n",
       "</style>\n",
       "<table border=\"1\" class=\"dataframe\">\n",
       "  <thead>\n",
       "    <tr style=\"text-align: right;\">\n",
       "      <th></th>\n",
       "      <th>Survived</th>\n",
       "      <th>Pclass</th>\n",
       "      <th>Sex</th>\n",
       "      <th>Age</th>\n",
       "      <th>SibSp</th>\n",
       "      <th>Parch</th>\n",
       "      <th>Fare</th>\n",
       "      <th>Embarked</th>\n",
       "      <th>Cab</th>\n",
       "      <th>Family</th>\n",
       "      <th>Alone</th>\n",
       "      <th>Title</th>\n",
       "    </tr>\n",
       "  </thead>\n",
       "  <tbody>\n",
       "    <tr>\n",
       "      <th>0</th>\n",
       "      <td>0</td>\n",
       "      <td>3</td>\n",
       "      <td>1</td>\n",
       "      <td>22.0</td>\n",
       "      <td>1</td>\n",
       "      <td>0</td>\n",
       "      <td>7.2500</td>\n",
       "      <td>2</td>\n",
       "      <td>7</td>\n",
       "      <td>2</td>\n",
       "      <td>1</td>\n",
       "      <td>1</td>\n",
       "    </tr>\n",
       "    <tr>\n",
       "      <th>1</th>\n",
       "      <td>1</td>\n",
       "      <td>1</td>\n",
       "      <td>0</td>\n",
       "      <td>38.0</td>\n",
       "      <td>1</td>\n",
       "      <td>0</td>\n",
       "      <td>71.2833</td>\n",
       "      <td>0</td>\n",
       "      <td>2</td>\n",
       "      <td>2</td>\n",
       "      <td>1</td>\n",
       "      <td>2</td>\n",
       "    </tr>\n",
       "    <tr>\n",
       "      <th>2</th>\n",
       "      <td>1</td>\n",
       "      <td>3</td>\n",
       "      <td>0</td>\n",
       "      <td>26.0</td>\n",
       "      <td>0</td>\n",
       "      <td>0</td>\n",
       "      <td>7.9250</td>\n",
       "      <td>2</td>\n",
       "      <td>7</td>\n",
       "      <td>1</td>\n",
       "      <td>0</td>\n",
       "      <td>2</td>\n",
       "    </tr>\n",
       "    <tr>\n",
       "      <th>3</th>\n",
       "      <td>1</td>\n",
       "      <td>1</td>\n",
       "      <td>0</td>\n",
       "      <td>35.0</td>\n",
       "      <td>1</td>\n",
       "      <td>0</td>\n",
       "      <td>53.1000</td>\n",
       "      <td>2</td>\n",
       "      <td>2</td>\n",
       "      <td>2</td>\n",
       "      <td>1</td>\n",
       "      <td>2</td>\n",
       "    </tr>\n",
       "    <tr>\n",
       "      <th>4</th>\n",
       "      <td>0</td>\n",
       "      <td>3</td>\n",
       "      <td>1</td>\n",
       "      <td>35.0</td>\n",
       "      <td>0</td>\n",
       "      <td>0</td>\n",
       "      <td>8.0500</td>\n",
       "      <td>2</td>\n",
       "      <td>7</td>\n",
       "      <td>1</td>\n",
       "      <td>0</td>\n",
       "      <td>1</td>\n",
       "    </tr>\n",
       "  </tbody>\n",
       "</table>\n",
       "</div>"
      ],
      "text/plain": [
       "   Survived  Pclass  Sex   Age  SibSp  Parch     Fare  Embarked  Cab  Family  \\\n",
       "0         0       3    1  22.0      1      0   7.2500         2    7       2   \n",
       "1         1       1    0  38.0      1      0  71.2833         0    2       2   \n",
       "2         1       3    0  26.0      0      0   7.9250         2    7       1   \n",
       "3         1       1    0  35.0      1      0  53.1000         2    2       2   \n",
       "4         0       3    1  35.0      0      0   8.0500         2    7       1   \n",
       "\n",
       "   Alone  Title  \n",
       "0      1      1  \n",
       "1      1      2  \n",
       "2      0      2  \n",
       "3      1      2  \n",
       "4      0      1  "
      ]
     },
     "execution_count": 177,
     "metadata": {},
     "output_type": "execute_result"
    }
   ],
   "source": [
    "train.head()"
   ]
  },
  {
   "cell_type": "code",
   "execution_count": 178,
   "metadata": {},
   "outputs": [
    {
     "data": {
      "text/html": [
       "<div>\n",
       "<style scoped>\n",
       "    .dataframe tbody tr th:only-of-type {\n",
       "        vertical-align: middle;\n",
       "    }\n",
       "\n",
       "    .dataframe tbody tr th {\n",
       "        vertical-align: top;\n",
       "    }\n",
       "\n",
       "    .dataframe thead th {\n",
       "        text-align: right;\n",
       "    }\n",
       "</style>\n",
       "<table border=\"1\" class=\"dataframe\">\n",
       "  <thead>\n",
       "    <tr style=\"text-align: right;\">\n",
       "      <th></th>\n",
       "      <th>Pclass</th>\n",
       "      <th>Sex</th>\n",
       "      <th>Age</th>\n",
       "      <th>SibSp</th>\n",
       "      <th>Parch</th>\n",
       "      <th>Fare</th>\n",
       "      <th>Embarked</th>\n",
       "      <th>Cab</th>\n",
       "      <th>Family</th>\n",
       "      <th>Alone</th>\n",
       "      <th>Title</th>\n",
       "    </tr>\n",
       "  </thead>\n",
       "  <tbody>\n",
       "    <tr>\n",
       "      <th>0</th>\n",
       "      <td>3</td>\n",
       "      <td>1</td>\n",
       "      <td>34.5</td>\n",
       "      <td>0</td>\n",
       "      <td>0</td>\n",
       "      <td>7.8292</td>\n",
       "      <td>1</td>\n",
       "      <td>7</td>\n",
       "      <td>1</td>\n",
       "      <td>0</td>\n",
       "      <td>1</td>\n",
       "    </tr>\n",
       "    <tr>\n",
       "      <th>1</th>\n",
       "      <td>3</td>\n",
       "      <td>0</td>\n",
       "      <td>47.0</td>\n",
       "      <td>1</td>\n",
       "      <td>0</td>\n",
       "      <td>7.0000</td>\n",
       "      <td>2</td>\n",
       "      <td>7</td>\n",
       "      <td>2</td>\n",
       "      <td>1</td>\n",
       "      <td>2</td>\n",
       "    </tr>\n",
       "    <tr>\n",
       "      <th>2</th>\n",
       "      <td>2</td>\n",
       "      <td>1</td>\n",
       "      <td>62.0</td>\n",
       "      <td>0</td>\n",
       "      <td>0</td>\n",
       "      <td>9.6875</td>\n",
       "      <td>1</td>\n",
       "      <td>7</td>\n",
       "      <td>1</td>\n",
       "      <td>0</td>\n",
       "      <td>1</td>\n",
       "    </tr>\n",
       "    <tr>\n",
       "      <th>3</th>\n",
       "      <td>3</td>\n",
       "      <td>1</td>\n",
       "      <td>27.0</td>\n",
       "      <td>0</td>\n",
       "      <td>0</td>\n",
       "      <td>8.6625</td>\n",
       "      <td>2</td>\n",
       "      <td>7</td>\n",
       "      <td>1</td>\n",
       "      <td>0</td>\n",
       "      <td>1</td>\n",
       "    </tr>\n",
       "    <tr>\n",
       "      <th>4</th>\n",
       "      <td>3</td>\n",
       "      <td>0</td>\n",
       "      <td>22.0</td>\n",
       "      <td>1</td>\n",
       "      <td>1</td>\n",
       "      <td>12.2875</td>\n",
       "      <td>2</td>\n",
       "      <td>7</td>\n",
       "      <td>3</td>\n",
       "      <td>1</td>\n",
       "      <td>2</td>\n",
       "    </tr>\n",
       "  </tbody>\n",
       "</table>\n",
       "</div>"
      ],
      "text/plain": [
       "   Pclass  Sex   Age  SibSp  Parch     Fare  Embarked  Cab  Family  Alone  \\\n",
       "0       3    1  34.5      0      0   7.8292         1    7       1      0   \n",
       "1       3    0  47.0      1      0   7.0000         2    7       2      1   \n",
       "2       2    1  62.0      0      0   9.6875         1    7       1      0   \n",
       "3       3    1  27.0      0      0   8.6625         2    7       1      0   \n",
       "4       3    0  22.0      1      1  12.2875         2    7       3      1   \n",
       "\n",
       "   Title  \n",
       "0      1  \n",
       "1      2  \n",
       "2      1  \n",
       "3      1  \n",
       "4      2  "
      ]
     },
     "execution_count": 178,
     "metadata": {},
     "output_type": "execute_result"
    }
   ],
   "source": [
    "testdf.head()"
   ]
  },
  {
   "cell_type": "markdown",
   "metadata": {},
   "source": [
    "# Modelling"
   ]
  },
  {
   "cell_type": "code",
   "execution_count": 181,
   "metadata": {},
   "outputs": [],
   "source": [
    "df = pd.read_csv('traindf.csv')\n",
    "X = df.drop('Survived',axis=1)\n",
    "y = df['Survived']"
   ]
  },
  {
   "cell_type": "code",
   "execution_count": 283,
   "metadata": {},
   "outputs": [
    {
     "data": {
      "text/plain": [
       "Unnamed: 0    0\n",
       "Pclass        0\n",
       "Sex           0\n",
       "Age           0\n",
       "SibSp         0\n",
       "Parch         0\n",
       "Fare          1\n",
       "Embarked      0\n",
       "Cab           0\n",
       "Family        0\n",
       "Alone         0\n",
       "Title         0\n",
       "dtype: int64"
      ]
     },
     "execution_count": 283,
     "metadata": {},
     "output_type": "execute_result"
    }
   ],
   "source": [
    "Xtest = pd.read_csv('testdf.csv')\n",
    "Xtest.isna().sum()"
   ]
  },
  {
   "cell_type": "code",
   "execution_count": 284,
   "metadata": {},
   "outputs": [],
   "source": [
    "Xtest.Fare = Xtest.groupby('Pclass').Fare.fillna(Xtest.Fare.median())"
   ]
  },
  {
   "cell_type": "code",
   "execution_count": 185,
   "metadata": {},
   "outputs": [],
   "source": [
    "xtrain,xtest,ytrain,ytest = train_test_split(X,y,random_state = 0) #split"
   ]
  },
  {
   "cell_type": "code",
   "execution_count": 225,
   "metadata": {},
   "outputs": [
    {
     "data": {
      "text/plain": [
       "0.7741935483870968"
      ]
     },
     "execution_count": 225,
     "metadata": {},
     "output_type": "execute_result"
    }
   ],
   "source": [
    "# testing before gridsearchcv\n",
    "clf = RandomForestClassifier(n_estimators =100,random_state=0,max_features=11,max_depth=11).fit(xtrain, ytrain)\n",
    "pred = clf.predict(xtest)\n",
    "f1_score(ytest,pred)"
   ]
  },
  {
   "cell_type": "code",
   "execution_count": 252,
   "metadata": {},
   "outputs": [],
   "source": [
    "# defining the parameter grid to be tested during grid search\n",
    "param_grid = {\n",
    "    'bootstrap': [True],\n",
    "    'max_depth': [8, 9, 10, 11],\n",
    "    'max_features': [2, 3],\n",
    "    'min_samples_leaf': [3, 4, 5],\n",
    "    'min_samples_split': [8, 10, 12],\n",
    "    'n_estimators': [100, 200, 300, 1000]\n",
    "}"
   ]
  },
  {
   "cell_type": "code",
   "execution_count": 253,
   "metadata": {},
   "outputs": [],
   "source": [
    "# Defining the grid search model\n",
    "mod = GridSearchCV(estimator = RandomForestClassifier(), param_grid=param_grid, scoring='roc_auc',\n",
    "                   cv=3, verbose=2,refit=True)"
   ]
  },
  {
   "cell_type": "code",
   "execution_count": 254,
   "metadata": {},
   "outputs": [
    {
     "name": "stdout",
     "output_type": "stream",
     "text": [
      "Fitting 3 folds for each of 288 candidates, totalling 864 fits\n",
      "[CV] bootstrap=True, max_depth=8, max_features=2, min_samples_leaf=3, min_samples_split=8, n_estimators=100 \n",
      "[CV]  bootstrap=True, max_depth=8, max_features=2, min_samples_leaf=3, min_samples_split=8, n_estimators=100, total=   0.0s\n",
      "[CV] bootstrap=True, max_depth=8, max_features=2, min_samples_leaf=3, min_samples_split=8, n_estimators=100 \n"
     ]
    },
    {
     "name": "stderr",
     "output_type": "stream",
     "text": [
      "[Parallel(n_jobs=1)]: Using backend SequentialBackend with 1 concurrent workers.\n",
      "[Parallel(n_jobs=1)]: Done   1 out of   1 | elapsed:    0.0s remaining:    0.0s\n"
     ]
    },
    {
     "name": "stdout",
     "output_type": "stream",
     "text": [
      "[CV]  bootstrap=True, max_depth=8, max_features=2, min_samples_leaf=3, min_samples_split=8, n_estimators=100, total=   0.0s\n",
      "[CV] bootstrap=True, max_depth=8, max_features=2, min_samples_leaf=3, min_samples_split=8, n_estimators=100 \n",
      "[CV]  bootstrap=True, max_depth=8, max_features=2, min_samples_leaf=3, min_samples_split=8, n_estimators=100, total=   0.0s\n",
      "[CV] bootstrap=True, max_depth=8, max_features=2, min_samples_leaf=3, min_samples_split=8, n_estimators=200 \n",
      "[CV]  bootstrap=True, max_depth=8, max_features=2, min_samples_leaf=3, min_samples_split=8, n_estimators=200, total=   0.1s\n",
      "[CV] bootstrap=True, max_depth=8, max_features=2, min_samples_leaf=3, min_samples_split=8, n_estimators=200 \n",
      "[CV]  bootstrap=True, max_depth=8, max_features=2, min_samples_leaf=3, min_samples_split=8, n_estimators=200, total=   0.1s\n",
      "[CV] bootstrap=True, max_depth=8, max_features=2, min_samples_leaf=3, min_samples_split=8, n_estimators=200 \n",
      "[CV]  bootstrap=True, max_depth=8, max_features=2, min_samples_leaf=3, min_samples_split=8, n_estimators=200, total=   0.1s\n",
      "[CV] bootstrap=True, max_depth=8, max_features=2, min_samples_leaf=3, min_samples_split=8, n_estimators=300 \n",
      "[CV]  bootstrap=True, max_depth=8, max_features=2, min_samples_leaf=3, min_samples_split=8, n_estimators=300, total=   0.2s\n",
      "[CV] bootstrap=True, max_depth=8, max_features=2, min_samples_leaf=3, min_samples_split=8, n_estimators=300 \n",
      "[CV]  bootstrap=True, max_depth=8, max_features=2, min_samples_leaf=3, min_samples_split=8, n_estimators=300, total=   0.2s\n",
      "[CV] bootstrap=True, max_depth=8, max_features=2, min_samples_leaf=3, min_samples_split=8, n_estimators=300 \n",
      "[CV]  bootstrap=True, max_depth=8, max_features=2, min_samples_leaf=3, min_samples_split=8, n_estimators=300, total=   0.2s\n",
      "[CV] bootstrap=True, max_depth=8, max_features=2, min_samples_leaf=3, min_samples_split=8, n_estimators=1000 \n",
      "[CV]  bootstrap=True, max_depth=8, max_features=2, min_samples_leaf=3, min_samples_split=8, n_estimators=1000, total=   1.0s\n",
      "[CV] bootstrap=True, max_depth=8, max_features=2, min_samples_leaf=3, min_samples_split=8, n_estimators=1000 \n",
      "[CV]  bootstrap=True, max_depth=8, max_features=2, min_samples_leaf=3, min_samples_split=8, n_estimators=1000, total=   1.1s\n",
      "[CV] bootstrap=True, max_depth=8, max_features=2, min_samples_leaf=3, min_samples_split=8, n_estimators=1000 \n",
      "[CV]  bootstrap=True, max_depth=8, max_features=2, min_samples_leaf=3, min_samples_split=8, n_estimators=1000, total=   1.1s\n",
      "[CV] bootstrap=True, max_depth=8, max_features=2, min_samples_leaf=3, min_samples_split=10, n_estimators=100 \n",
      "[CV]  bootstrap=True, max_depth=8, max_features=2, min_samples_leaf=3, min_samples_split=10, n_estimators=100, total=   0.0s\n",
      "[CV] bootstrap=True, max_depth=8, max_features=2, min_samples_leaf=3, min_samples_split=10, n_estimators=100 \n",
      "[CV]  bootstrap=True, max_depth=8, max_features=2, min_samples_leaf=3, min_samples_split=10, n_estimators=100, total=   0.0s\n",
      "[CV] bootstrap=True, max_depth=8, max_features=2, min_samples_leaf=3, min_samples_split=10, n_estimators=100 \n",
      "[CV]  bootstrap=True, max_depth=8, max_features=2, min_samples_leaf=3, min_samples_split=10, n_estimators=100, total=   0.0s\n",
      "[CV] bootstrap=True, max_depth=8, max_features=2, min_samples_leaf=3, min_samples_split=10, n_estimators=200 \n",
      "[CV]  bootstrap=True, max_depth=8, max_features=2, min_samples_leaf=3, min_samples_split=10, n_estimators=200, total=   0.1s\n",
      "[CV] bootstrap=True, max_depth=8, max_features=2, min_samples_leaf=3, min_samples_split=10, n_estimators=200 \n",
      "[CV]  bootstrap=True, max_depth=8, max_features=2, min_samples_leaf=3, min_samples_split=10, n_estimators=200, total=   0.1s\n",
      "[CV] bootstrap=True, max_depth=8, max_features=2, min_samples_leaf=3, min_samples_split=10, n_estimators=200 \n",
      "[CV]  bootstrap=True, max_depth=8, max_features=2, min_samples_leaf=3, min_samples_split=10, n_estimators=200, total=   0.1s\n",
      "[CV] bootstrap=True, max_depth=8, max_features=2, min_samples_leaf=3, min_samples_split=10, n_estimators=300 \n",
      "[CV]  bootstrap=True, max_depth=8, max_features=2, min_samples_leaf=3, min_samples_split=10, n_estimators=300, total=   0.2s\n",
      "[CV] bootstrap=True, max_depth=8, max_features=2, min_samples_leaf=3, min_samples_split=10, n_estimators=300 \n",
      "[CV]  bootstrap=True, max_depth=8, max_features=2, min_samples_leaf=3, min_samples_split=10, n_estimators=300, total=   0.2s\n",
      "[CV] bootstrap=True, max_depth=8, max_features=2, min_samples_leaf=3, min_samples_split=10, n_estimators=300 \n",
      "[CV]  bootstrap=True, max_depth=8, max_features=2, min_samples_leaf=3, min_samples_split=10, n_estimators=300, total=   0.2s\n",
      "[CV] bootstrap=True, max_depth=8, max_features=2, min_samples_leaf=3, min_samples_split=10, n_estimators=1000 \n",
      "[CV]  bootstrap=True, max_depth=8, max_features=2, min_samples_leaf=3, min_samples_split=10, n_estimators=1000, total=   0.9s\n",
      "[CV] bootstrap=True, max_depth=8, max_features=2, min_samples_leaf=3, min_samples_split=10, n_estimators=1000 \n",
      "[CV]  bootstrap=True, max_depth=8, max_features=2, min_samples_leaf=3, min_samples_split=10, n_estimators=1000, total=   1.0s\n",
      "[CV] bootstrap=True, max_depth=8, max_features=2, min_samples_leaf=3, min_samples_split=10, n_estimators=1000 \n",
      "[CV]  bootstrap=True, max_depth=8, max_features=2, min_samples_leaf=3, min_samples_split=10, n_estimators=1000, total=   1.2s\n",
      "[CV] bootstrap=True, max_depth=8, max_features=2, min_samples_leaf=3, min_samples_split=12, n_estimators=100 \n",
      "[CV]  bootstrap=True, max_depth=8, max_features=2, min_samples_leaf=3, min_samples_split=12, n_estimators=100, total=   0.0s\n",
      "[CV] bootstrap=True, max_depth=8, max_features=2, min_samples_leaf=3, min_samples_split=12, n_estimators=100 \n",
      "[CV]  bootstrap=True, max_depth=8, max_features=2, min_samples_leaf=3, min_samples_split=12, n_estimators=100, total=   0.0s\n",
      "[CV] bootstrap=True, max_depth=8, max_features=2, min_samples_leaf=3, min_samples_split=12, n_estimators=100 \n",
      "[CV]  bootstrap=True, max_depth=8, max_features=2, min_samples_leaf=3, min_samples_split=12, n_estimators=100, total=   0.0s\n",
      "[CV] bootstrap=True, max_depth=8, max_features=2, min_samples_leaf=3, min_samples_split=12, n_estimators=200 \n",
      "[CV]  bootstrap=True, max_depth=8, max_features=2, min_samples_leaf=3, min_samples_split=12, n_estimators=200, total=   0.1s\n",
      "[CV] bootstrap=True, max_depth=8, max_features=2, min_samples_leaf=3, min_samples_split=12, n_estimators=200 \n",
      "[CV]  bootstrap=True, max_depth=8, max_features=2, min_samples_leaf=3, min_samples_split=12, n_estimators=200, total=   0.1s\n",
      "[CV] bootstrap=True, max_depth=8, max_features=2, min_samples_leaf=3, min_samples_split=12, n_estimators=200 \n",
      "[CV]  bootstrap=True, max_depth=8, max_features=2, min_samples_leaf=3, min_samples_split=12, n_estimators=200, total=   0.1s\n",
      "[CV] bootstrap=True, max_depth=8, max_features=2, min_samples_leaf=3, min_samples_split=12, n_estimators=300 \n",
      "[CV]  bootstrap=True, max_depth=8, max_features=2, min_samples_leaf=3, min_samples_split=12, n_estimators=300, total=   0.2s\n",
      "[CV] bootstrap=True, max_depth=8, max_features=2, min_samples_leaf=3, min_samples_split=12, n_estimators=300 \n",
      "[CV]  bootstrap=True, max_depth=8, max_features=2, min_samples_leaf=3, min_samples_split=12, n_estimators=300, total=   0.2s\n",
      "[CV] bootstrap=True, max_depth=8, max_features=2, min_samples_leaf=3, min_samples_split=12, n_estimators=300 \n",
      "[CV]  bootstrap=True, max_depth=8, max_features=2, min_samples_leaf=3, min_samples_split=12, n_estimators=300, total=   0.2s\n",
      "[CV] bootstrap=True, max_depth=8, max_features=2, min_samples_leaf=3, min_samples_split=12, n_estimators=1000 \n",
      "[CV]  bootstrap=True, max_depth=8, max_features=2, min_samples_leaf=3, min_samples_split=12, n_estimators=1000, total=   1.0s\n",
      "[CV] bootstrap=True, max_depth=8, max_features=2, min_samples_leaf=3, min_samples_split=12, n_estimators=1000 \n",
      "[CV]  bootstrap=True, max_depth=8, max_features=2, min_samples_leaf=3, min_samples_split=12, n_estimators=1000, total=   1.0s\n",
      "[CV] bootstrap=True, max_depth=8, max_features=2, min_samples_leaf=3, min_samples_split=12, n_estimators=1000 \n",
      "[CV]  bootstrap=True, max_depth=8, max_features=2, min_samples_leaf=3, min_samples_split=12, n_estimators=1000, total=   0.9s\n",
      "[CV] bootstrap=True, max_depth=8, max_features=2, min_samples_leaf=4, min_samples_split=8, n_estimators=100 \n",
      "[CV]  bootstrap=True, max_depth=8, max_features=2, min_samples_leaf=4, min_samples_split=8, n_estimators=100, total=   0.0s\n",
      "[CV] bootstrap=True, max_depth=8, max_features=2, min_samples_leaf=4, min_samples_split=8, n_estimators=100 \n"
     ]
    },
    {
     "name": "stdout",
     "output_type": "stream",
     "text": [
      "[CV]  bootstrap=True, max_depth=8, max_features=2, min_samples_leaf=4, min_samples_split=8, n_estimators=100, total=   0.0s\n",
      "[CV] bootstrap=True, max_depth=8, max_features=2, min_samples_leaf=4, min_samples_split=8, n_estimators=100 \n",
      "[CV]  bootstrap=True, max_depth=8, max_features=2, min_samples_leaf=4, min_samples_split=8, n_estimators=100, total=   0.0s\n",
      "[CV] bootstrap=True, max_depth=8, max_features=2, min_samples_leaf=4, min_samples_split=8, n_estimators=200 \n",
      "[CV]  bootstrap=True, max_depth=8, max_features=2, min_samples_leaf=4, min_samples_split=8, n_estimators=200, total=   0.1s\n",
      "[CV] bootstrap=True, max_depth=8, max_features=2, min_samples_leaf=4, min_samples_split=8, n_estimators=200 \n",
      "[CV]  bootstrap=True, max_depth=8, max_features=2, min_samples_leaf=4, min_samples_split=8, n_estimators=200, total=   0.1s\n",
      "[CV] bootstrap=True, max_depth=8, max_features=2, min_samples_leaf=4, min_samples_split=8, n_estimators=200 \n",
      "[CV]  bootstrap=True, max_depth=8, max_features=2, min_samples_leaf=4, min_samples_split=8, n_estimators=200, total=   0.1s\n",
      "[CV] bootstrap=True, max_depth=8, max_features=2, min_samples_leaf=4, min_samples_split=8, n_estimators=300 \n",
      "[CV]  bootstrap=True, max_depth=8, max_features=2, min_samples_leaf=4, min_samples_split=8, n_estimators=300, total=   0.2s\n",
      "[CV] bootstrap=True, max_depth=8, max_features=2, min_samples_leaf=4, min_samples_split=8, n_estimators=300 \n",
      "[CV]  bootstrap=True, max_depth=8, max_features=2, min_samples_leaf=4, min_samples_split=8, n_estimators=300, total=   0.3s\n",
      "[CV] bootstrap=True, max_depth=8, max_features=2, min_samples_leaf=4, min_samples_split=8, n_estimators=300 \n",
      "[CV]  bootstrap=True, max_depth=8, max_features=2, min_samples_leaf=4, min_samples_split=8, n_estimators=300, total=   0.2s\n",
      "[CV] bootstrap=True, max_depth=8, max_features=2, min_samples_leaf=4, min_samples_split=8, n_estimators=1000 \n",
      "[CV]  bootstrap=True, max_depth=8, max_features=2, min_samples_leaf=4, min_samples_split=8, n_estimators=1000, total=   1.0s\n",
      "[CV] bootstrap=True, max_depth=8, max_features=2, min_samples_leaf=4, min_samples_split=8, n_estimators=1000 \n",
      "[CV]  bootstrap=True, max_depth=8, max_features=2, min_samples_leaf=4, min_samples_split=8, n_estimators=1000, total=   0.9s\n",
      "[CV] bootstrap=True, max_depth=8, max_features=2, min_samples_leaf=4, min_samples_split=8, n_estimators=1000 \n",
      "[CV]  bootstrap=True, max_depth=8, max_features=2, min_samples_leaf=4, min_samples_split=8, n_estimators=1000, total=   0.9s\n",
      "[CV] bootstrap=True, max_depth=8, max_features=2, min_samples_leaf=4, min_samples_split=10, n_estimators=100 \n",
      "[CV]  bootstrap=True, max_depth=8, max_features=2, min_samples_leaf=4, min_samples_split=10, n_estimators=100, total=   0.0s\n",
      "[CV] bootstrap=True, max_depth=8, max_features=2, min_samples_leaf=4, min_samples_split=10, n_estimators=100 \n",
      "[CV]  bootstrap=True, max_depth=8, max_features=2, min_samples_leaf=4, min_samples_split=10, n_estimators=100, total=   0.0s\n",
      "[CV] bootstrap=True, max_depth=8, max_features=2, min_samples_leaf=4, min_samples_split=10, n_estimators=100 \n",
      "[CV]  bootstrap=True, max_depth=8, max_features=2, min_samples_leaf=4, min_samples_split=10, n_estimators=100, total=   0.0s\n",
      "[CV] bootstrap=True, max_depth=8, max_features=2, min_samples_leaf=4, min_samples_split=10, n_estimators=200 \n",
      "[CV]  bootstrap=True, max_depth=8, max_features=2, min_samples_leaf=4, min_samples_split=10, n_estimators=200, total=   0.1s\n",
      "[CV] bootstrap=True, max_depth=8, max_features=2, min_samples_leaf=4, min_samples_split=10, n_estimators=200 \n",
      "[CV]  bootstrap=True, max_depth=8, max_features=2, min_samples_leaf=4, min_samples_split=10, n_estimators=200, total=   0.2s\n",
      "[CV] bootstrap=True, max_depth=8, max_features=2, min_samples_leaf=4, min_samples_split=10, n_estimators=200 \n",
      "[CV]  bootstrap=True, max_depth=8, max_features=2, min_samples_leaf=4, min_samples_split=10, n_estimators=200, total=   0.1s\n",
      "[CV] bootstrap=True, max_depth=8, max_features=2, min_samples_leaf=4, min_samples_split=10, n_estimators=300 \n",
      "[CV]  bootstrap=True, max_depth=8, max_features=2, min_samples_leaf=4, min_samples_split=10, n_estimators=300, total=   0.2s\n",
      "[CV] bootstrap=True, max_depth=8, max_features=2, min_samples_leaf=4, min_samples_split=10, n_estimators=300 \n",
      "[CV]  bootstrap=True, max_depth=8, max_features=2, min_samples_leaf=4, min_samples_split=10, n_estimators=300, total=   0.2s\n",
      "[CV] bootstrap=True, max_depth=8, max_features=2, min_samples_leaf=4, min_samples_split=10, n_estimators=300 \n",
      "[CV]  bootstrap=True, max_depth=8, max_features=2, min_samples_leaf=4, min_samples_split=10, n_estimators=300, total=   0.2s\n",
      "[CV] bootstrap=True, max_depth=8, max_features=2, min_samples_leaf=4, min_samples_split=10, n_estimators=1000 \n",
      "[CV]  bootstrap=True, max_depth=8, max_features=2, min_samples_leaf=4, min_samples_split=10, n_estimators=1000, total=   0.9s\n",
      "[CV] bootstrap=True, max_depth=8, max_features=2, min_samples_leaf=4, min_samples_split=10, n_estimators=1000 \n",
      "[CV]  bootstrap=True, max_depth=8, max_features=2, min_samples_leaf=4, min_samples_split=10, n_estimators=1000, total=   0.9s\n",
      "[CV] bootstrap=True, max_depth=8, max_features=2, min_samples_leaf=4, min_samples_split=10, n_estimators=1000 \n",
      "[CV]  bootstrap=True, max_depth=8, max_features=2, min_samples_leaf=4, min_samples_split=10, n_estimators=1000, total=   0.9s\n",
      "[CV] bootstrap=True, max_depth=8, max_features=2, min_samples_leaf=4, min_samples_split=12, n_estimators=100 \n",
      "[CV]  bootstrap=True, max_depth=8, max_features=2, min_samples_leaf=4, min_samples_split=12, n_estimators=100, total=   0.0s\n",
      "[CV] bootstrap=True, max_depth=8, max_features=2, min_samples_leaf=4, min_samples_split=12, n_estimators=100 \n",
      "[CV]  bootstrap=True, max_depth=8, max_features=2, min_samples_leaf=4, min_samples_split=12, n_estimators=100, total=   0.0s\n",
      "[CV] bootstrap=True, max_depth=8, max_features=2, min_samples_leaf=4, min_samples_split=12, n_estimators=100 \n",
      "[CV]  bootstrap=True, max_depth=8, max_features=2, min_samples_leaf=4, min_samples_split=12, n_estimators=100, total=   0.0s\n",
      "[CV] bootstrap=True, max_depth=8, max_features=2, min_samples_leaf=4, min_samples_split=12, n_estimators=200 \n",
      "[CV]  bootstrap=True, max_depth=8, max_features=2, min_samples_leaf=4, min_samples_split=12, n_estimators=200, total=   0.1s\n",
      "[CV] bootstrap=True, max_depth=8, max_features=2, min_samples_leaf=4, min_samples_split=12, n_estimators=200 \n",
      "[CV]  bootstrap=True, max_depth=8, max_features=2, min_samples_leaf=4, min_samples_split=12, n_estimators=200, total=   0.1s\n",
      "[CV] bootstrap=True, max_depth=8, max_features=2, min_samples_leaf=4, min_samples_split=12, n_estimators=200 \n",
      "[CV]  bootstrap=True, max_depth=8, max_features=2, min_samples_leaf=4, min_samples_split=12, n_estimators=200, total=   0.1s\n",
      "[CV] bootstrap=True, max_depth=8, max_features=2, min_samples_leaf=4, min_samples_split=12, n_estimators=300 \n",
      "[CV]  bootstrap=True, max_depth=8, max_features=2, min_samples_leaf=4, min_samples_split=12, n_estimators=300, total=   0.2s\n",
      "[CV] bootstrap=True, max_depth=8, max_features=2, min_samples_leaf=4, min_samples_split=12, n_estimators=300 \n",
      "[CV]  bootstrap=True, max_depth=8, max_features=2, min_samples_leaf=4, min_samples_split=12, n_estimators=300, total=   0.2s\n",
      "[CV] bootstrap=True, max_depth=8, max_features=2, min_samples_leaf=4, min_samples_split=12, n_estimators=300 \n",
      "[CV]  bootstrap=True, max_depth=8, max_features=2, min_samples_leaf=4, min_samples_split=12, n_estimators=300, total=   0.2s\n",
      "[CV] bootstrap=True, max_depth=8, max_features=2, min_samples_leaf=4, min_samples_split=12, n_estimators=1000 \n",
      "[CV]  bootstrap=True, max_depth=8, max_features=2, min_samples_leaf=4, min_samples_split=12, n_estimators=1000, total=   0.9s\n",
      "[CV] bootstrap=True, max_depth=8, max_features=2, min_samples_leaf=4, min_samples_split=12, n_estimators=1000 \n",
      "[CV]  bootstrap=True, max_depth=8, max_features=2, min_samples_leaf=4, min_samples_split=12, n_estimators=1000, total=   0.9s\n",
      "[CV] bootstrap=True, max_depth=8, max_features=2, min_samples_leaf=4, min_samples_split=12, n_estimators=1000 \n",
      "[CV]  bootstrap=True, max_depth=8, max_features=2, min_samples_leaf=4, min_samples_split=12, n_estimators=1000, total=   0.9s\n",
      "[CV] bootstrap=True, max_depth=8, max_features=2, min_samples_leaf=5, min_samples_split=8, n_estimators=100 \n",
      "[CV]  bootstrap=True, max_depth=8, max_features=2, min_samples_leaf=5, min_samples_split=8, n_estimators=100, total=   0.0s\n",
      "[CV] bootstrap=True, max_depth=8, max_features=2, min_samples_leaf=5, min_samples_split=8, n_estimators=100 \n"
     ]
    },
    {
     "name": "stdout",
     "output_type": "stream",
     "text": [
      "[CV]  bootstrap=True, max_depth=8, max_features=2, min_samples_leaf=5, min_samples_split=8, n_estimators=100, total=   0.0s\n",
      "[CV] bootstrap=True, max_depth=8, max_features=2, min_samples_leaf=5, min_samples_split=8, n_estimators=100 \n",
      "[CV]  bootstrap=True, max_depth=8, max_features=2, min_samples_leaf=5, min_samples_split=8, n_estimators=100, total=   0.0s\n",
      "[CV] bootstrap=True, max_depth=8, max_features=2, min_samples_leaf=5, min_samples_split=8, n_estimators=200 \n",
      "[CV]  bootstrap=True, max_depth=8, max_features=2, min_samples_leaf=5, min_samples_split=8, n_estimators=200, total=   0.1s\n",
      "[CV] bootstrap=True, max_depth=8, max_features=2, min_samples_leaf=5, min_samples_split=8, n_estimators=200 \n",
      "[CV]  bootstrap=True, max_depth=8, max_features=2, min_samples_leaf=5, min_samples_split=8, n_estimators=200, total=   0.1s\n",
      "[CV] bootstrap=True, max_depth=8, max_features=2, min_samples_leaf=5, min_samples_split=8, n_estimators=200 \n",
      "[CV]  bootstrap=True, max_depth=8, max_features=2, min_samples_leaf=5, min_samples_split=8, n_estimators=200, total=   0.1s\n",
      "[CV] bootstrap=True, max_depth=8, max_features=2, min_samples_leaf=5, min_samples_split=8, n_estimators=300 \n",
      "[CV]  bootstrap=True, max_depth=8, max_features=2, min_samples_leaf=5, min_samples_split=8, n_estimators=300, total=   0.2s\n",
      "[CV] bootstrap=True, max_depth=8, max_features=2, min_samples_leaf=5, min_samples_split=8, n_estimators=300 \n",
      "[CV]  bootstrap=True, max_depth=8, max_features=2, min_samples_leaf=5, min_samples_split=8, n_estimators=300, total=   0.2s\n",
      "[CV] bootstrap=True, max_depth=8, max_features=2, min_samples_leaf=5, min_samples_split=8, n_estimators=300 \n",
      "[CV]  bootstrap=True, max_depth=8, max_features=2, min_samples_leaf=5, min_samples_split=8, n_estimators=300, total=   0.2s\n",
      "[CV] bootstrap=True, max_depth=8, max_features=2, min_samples_leaf=5, min_samples_split=8, n_estimators=1000 \n",
      "[CV]  bootstrap=True, max_depth=8, max_features=2, min_samples_leaf=5, min_samples_split=8, n_estimators=1000, total=   0.9s\n",
      "[CV] bootstrap=True, max_depth=8, max_features=2, min_samples_leaf=5, min_samples_split=8, n_estimators=1000 \n",
      "[CV]  bootstrap=True, max_depth=8, max_features=2, min_samples_leaf=5, min_samples_split=8, n_estimators=1000, total=   0.9s\n",
      "[CV] bootstrap=True, max_depth=8, max_features=2, min_samples_leaf=5, min_samples_split=8, n_estimators=1000 \n",
      "[CV]  bootstrap=True, max_depth=8, max_features=2, min_samples_leaf=5, min_samples_split=8, n_estimators=1000, total=   0.9s\n",
      "[CV] bootstrap=True, max_depth=8, max_features=2, min_samples_leaf=5, min_samples_split=10, n_estimators=100 \n",
      "[CV]  bootstrap=True, max_depth=8, max_features=2, min_samples_leaf=5, min_samples_split=10, n_estimators=100, total=   0.0s\n",
      "[CV] bootstrap=True, max_depth=8, max_features=2, min_samples_leaf=5, min_samples_split=10, n_estimators=100 \n",
      "[CV]  bootstrap=True, max_depth=8, max_features=2, min_samples_leaf=5, min_samples_split=10, n_estimators=100, total=   0.0s\n",
      "[CV] bootstrap=True, max_depth=8, max_features=2, min_samples_leaf=5, min_samples_split=10, n_estimators=100 \n",
      "[CV]  bootstrap=True, max_depth=8, max_features=2, min_samples_leaf=5, min_samples_split=10, n_estimators=100, total=   0.0s\n",
      "[CV] bootstrap=True, max_depth=8, max_features=2, min_samples_leaf=5, min_samples_split=10, n_estimators=200 \n",
      "[CV]  bootstrap=True, max_depth=8, max_features=2, min_samples_leaf=5, min_samples_split=10, n_estimators=200, total=   0.1s\n",
      "[CV] bootstrap=True, max_depth=8, max_features=2, min_samples_leaf=5, min_samples_split=10, n_estimators=200 \n",
      "[CV]  bootstrap=True, max_depth=8, max_features=2, min_samples_leaf=5, min_samples_split=10, n_estimators=200, total=   0.1s\n",
      "[CV] bootstrap=True, max_depth=8, max_features=2, min_samples_leaf=5, min_samples_split=10, n_estimators=200 \n",
      "[CV]  bootstrap=True, max_depth=8, max_features=2, min_samples_leaf=5, min_samples_split=10, n_estimators=200, total=   0.1s\n",
      "[CV] bootstrap=True, max_depth=8, max_features=2, min_samples_leaf=5, min_samples_split=10, n_estimators=300 \n",
      "[CV]  bootstrap=True, max_depth=8, max_features=2, min_samples_leaf=5, min_samples_split=10, n_estimators=300, total=   0.2s\n",
      "[CV] bootstrap=True, max_depth=8, max_features=2, min_samples_leaf=5, min_samples_split=10, n_estimators=300 \n",
      "[CV]  bootstrap=True, max_depth=8, max_features=2, min_samples_leaf=5, min_samples_split=10, n_estimators=300, total=   0.2s\n",
      "[CV] bootstrap=True, max_depth=8, max_features=2, min_samples_leaf=5, min_samples_split=10, n_estimators=300 \n",
      "[CV]  bootstrap=True, max_depth=8, max_features=2, min_samples_leaf=5, min_samples_split=10, n_estimators=300, total=   0.2s\n",
      "[CV] bootstrap=True, max_depth=8, max_features=2, min_samples_leaf=5, min_samples_split=10, n_estimators=1000 \n",
      "[CV]  bootstrap=True, max_depth=8, max_features=2, min_samples_leaf=5, min_samples_split=10, n_estimators=1000, total=   0.9s\n",
      "[CV] bootstrap=True, max_depth=8, max_features=2, min_samples_leaf=5, min_samples_split=10, n_estimators=1000 \n",
      "[CV]  bootstrap=True, max_depth=8, max_features=2, min_samples_leaf=5, min_samples_split=10, n_estimators=1000, total=   0.9s\n",
      "[CV] bootstrap=True, max_depth=8, max_features=2, min_samples_leaf=5, min_samples_split=10, n_estimators=1000 \n",
      "[CV]  bootstrap=True, max_depth=8, max_features=2, min_samples_leaf=5, min_samples_split=10, n_estimators=1000, total=   0.9s\n",
      "[CV] bootstrap=True, max_depth=8, max_features=2, min_samples_leaf=5, min_samples_split=12, n_estimators=100 \n",
      "[CV]  bootstrap=True, max_depth=8, max_features=2, min_samples_leaf=5, min_samples_split=12, n_estimators=100, total=   0.0s\n",
      "[CV] bootstrap=True, max_depth=8, max_features=2, min_samples_leaf=5, min_samples_split=12, n_estimators=100 \n",
      "[CV]  bootstrap=True, max_depth=8, max_features=2, min_samples_leaf=5, min_samples_split=12, n_estimators=100, total=   0.0s\n",
      "[CV] bootstrap=True, max_depth=8, max_features=2, min_samples_leaf=5, min_samples_split=12, n_estimators=100 \n",
      "[CV]  bootstrap=True, max_depth=8, max_features=2, min_samples_leaf=5, min_samples_split=12, n_estimators=100, total=   0.0s\n",
      "[CV] bootstrap=True, max_depth=8, max_features=2, min_samples_leaf=5, min_samples_split=12, n_estimators=200 \n",
      "[CV]  bootstrap=True, max_depth=8, max_features=2, min_samples_leaf=5, min_samples_split=12, n_estimators=200, total=   0.1s\n",
      "[CV] bootstrap=True, max_depth=8, max_features=2, min_samples_leaf=5, min_samples_split=12, n_estimators=200 \n",
      "[CV]  bootstrap=True, max_depth=8, max_features=2, min_samples_leaf=5, min_samples_split=12, n_estimators=200, total=   0.1s\n",
      "[CV] bootstrap=True, max_depth=8, max_features=2, min_samples_leaf=5, min_samples_split=12, n_estimators=200 \n",
      "[CV]  bootstrap=True, max_depth=8, max_features=2, min_samples_leaf=5, min_samples_split=12, n_estimators=200, total=   0.1s\n",
      "[CV] bootstrap=True, max_depth=8, max_features=2, min_samples_leaf=5, min_samples_split=12, n_estimators=300 \n",
      "[CV]  bootstrap=True, max_depth=8, max_features=2, min_samples_leaf=5, min_samples_split=12, n_estimators=300, total=   0.2s\n",
      "[CV] bootstrap=True, max_depth=8, max_features=2, min_samples_leaf=5, min_samples_split=12, n_estimators=300 \n",
      "[CV]  bootstrap=True, max_depth=8, max_features=2, min_samples_leaf=5, min_samples_split=12, n_estimators=300, total=   0.2s\n",
      "[CV] bootstrap=True, max_depth=8, max_features=2, min_samples_leaf=5, min_samples_split=12, n_estimators=300 \n",
      "[CV]  bootstrap=True, max_depth=8, max_features=2, min_samples_leaf=5, min_samples_split=12, n_estimators=300, total=   0.2s\n",
      "[CV] bootstrap=True, max_depth=8, max_features=2, min_samples_leaf=5, min_samples_split=12, n_estimators=1000 \n",
      "[CV]  bootstrap=True, max_depth=8, max_features=2, min_samples_leaf=5, min_samples_split=12, n_estimators=1000, total=   0.9s\n",
      "[CV] bootstrap=True, max_depth=8, max_features=2, min_samples_leaf=5, min_samples_split=12, n_estimators=1000 \n",
      "[CV]  bootstrap=True, max_depth=8, max_features=2, min_samples_leaf=5, min_samples_split=12, n_estimators=1000, total=   0.9s\n",
      "[CV] bootstrap=True, max_depth=8, max_features=2, min_samples_leaf=5, min_samples_split=12, n_estimators=1000 \n",
      "[CV]  bootstrap=True, max_depth=8, max_features=2, min_samples_leaf=5, min_samples_split=12, n_estimators=1000, total=   0.9s\n",
      "[CV] bootstrap=True, max_depth=8, max_features=3, min_samples_leaf=3, min_samples_split=8, n_estimators=100 \n",
      "[CV]  bootstrap=True, max_depth=8, max_features=3, min_samples_leaf=3, min_samples_split=8, n_estimators=100, total=   0.0s\n",
      "[CV] bootstrap=True, max_depth=8, max_features=3, min_samples_leaf=3, min_samples_split=8, n_estimators=100 \n"
     ]
    },
    {
     "name": "stdout",
     "output_type": "stream",
     "text": [
      "[CV]  bootstrap=True, max_depth=8, max_features=3, min_samples_leaf=3, min_samples_split=8, n_estimators=100, total=   0.0s\n",
      "[CV] bootstrap=True, max_depth=8, max_features=3, min_samples_leaf=3, min_samples_split=8, n_estimators=100 \n",
      "[CV]  bootstrap=True, max_depth=8, max_features=3, min_samples_leaf=3, min_samples_split=8, n_estimators=100, total=   0.0s\n",
      "[CV] bootstrap=True, max_depth=8, max_features=3, min_samples_leaf=3, min_samples_split=8, n_estimators=200 \n",
      "[CV]  bootstrap=True, max_depth=8, max_features=3, min_samples_leaf=3, min_samples_split=8, n_estimators=200, total=   0.1s\n",
      "[CV] bootstrap=True, max_depth=8, max_features=3, min_samples_leaf=3, min_samples_split=8, n_estimators=200 \n",
      "[CV]  bootstrap=True, max_depth=8, max_features=3, min_samples_leaf=3, min_samples_split=8, n_estimators=200, total=   0.1s\n",
      "[CV] bootstrap=True, max_depth=8, max_features=3, min_samples_leaf=3, min_samples_split=8, n_estimators=200 \n",
      "[CV]  bootstrap=True, max_depth=8, max_features=3, min_samples_leaf=3, min_samples_split=8, n_estimators=200, total=   0.1s\n",
      "[CV] bootstrap=True, max_depth=8, max_features=3, min_samples_leaf=3, min_samples_split=8, n_estimators=300 \n",
      "[CV]  bootstrap=True, max_depth=8, max_features=3, min_samples_leaf=3, min_samples_split=8, n_estimators=300, total=   0.2s\n",
      "[CV] bootstrap=True, max_depth=8, max_features=3, min_samples_leaf=3, min_samples_split=8, n_estimators=300 \n",
      "[CV]  bootstrap=True, max_depth=8, max_features=3, min_samples_leaf=3, min_samples_split=8, n_estimators=300, total=   0.2s\n",
      "[CV] bootstrap=True, max_depth=8, max_features=3, min_samples_leaf=3, min_samples_split=8, n_estimators=300 \n",
      "[CV]  bootstrap=True, max_depth=8, max_features=3, min_samples_leaf=3, min_samples_split=8, n_estimators=300, total=   0.2s\n",
      "[CV] bootstrap=True, max_depth=8, max_features=3, min_samples_leaf=3, min_samples_split=8, n_estimators=1000 \n",
      "[CV]  bootstrap=True, max_depth=8, max_features=3, min_samples_leaf=3, min_samples_split=8, n_estimators=1000, total=   1.0s\n",
      "[CV] bootstrap=True, max_depth=8, max_features=3, min_samples_leaf=3, min_samples_split=8, n_estimators=1000 \n",
      "[CV]  bootstrap=True, max_depth=8, max_features=3, min_samples_leaf=3, min_samples_split=8, n_estimators=1000, total=   0.9s\n",
      "[CV] bootstrap=True, max_depth=8, max_features=3, min_samples_leaf=3, min_samples_split=8, n_estimators=1000 \n",
      "[CV]  bootstrap=True, max_depth=8, max_features=3, min_samples_leaf=3, min_samples_split=8, n_estimators=1000, total=   1.0s\n",
      "[CV] bootstrap=True, max_depth=8, max_features=3, min_samples_leaf=3, min_samples_split=10, n_estimators=100 \n",
      "[CV]  bootstrap=True, max_depth=8, max_features=3, min_samples_leaf=3, min_samples_split=10, n_estimators=100, total=   0.0s\n",
      "[CV] bootstrap=True, max_depth=8, max_features=3, min_samples_leaf=3, min_samples_split=10, n_estimators=100 \n",
      "[CV]  bootstrap=True, max_depth=8, max_features=3, min_samples_leaf=3, min_samples_split=10, n_estimators=100, total=   0.0s\n",
      "[CV] bootstrap=True, max_depth=8, max_features=3, min_samples_leaf=3, min_samples_split=10, n_estimators=100 \n",
      "[CV]  bootstrap=True, max_depth=8, max_features=3, min_samples_leaf=3, min_samples_split=10, n_estimators=100, total=   0.0s\n",
      "[CV] bootstrap=True, max_depth=8, max_features=3, min_samples_leaf=3, min_samples_split=10, n_estimators=200 \n",
      "[CV]  bootstrap=True, max_depth=8, max_features=3, min_samples_leaf=3, min_samples_split=10, n_estimators=200, total=   0.1s\n",
      "[CV] bootstrap=True, max_depth=8, max_features=3, min_samples_leaf=3, min_samples_split=10, n_estimators=200 \n",
      "[CV]  bootstrap=True, max_depth=8, max_features=3, min_samples_leaf=3, min_samples_split=10, n_estimators=200, total=   0.1s\n",
      "[CV] bootstrap=True, max_depth=8, max_features=3, min_samples_leaf=3, min_samples_split=10, n_estimators=200 \n",
      "[CV]  bootstrap=True, max_depth=8, max_features=3, min_samples_leaf=3, min_samples_split=10, n_estimators=200, total=   0.1s\n",
      "[CV] bootstrap=True, max_depth=8, max_features=3, min_samples_leaf=3, min_samples_split=10, n_estimators=300 \n",
      "[CV]  bootstrap=True, max_depth=8, max_features=3, min_samples_leaf=3, min_samples_split=10, n_estimators=300, total=   0.2s\n",
      "[CV] bootstrap=True, max_depth=8, max_features=3, min_samples_leaf=3, min_samples_split=10, n_estimators=300 \n",
      "[CV]  bootstrap=True, max_depth=8, max_features=3, min_samples_leaf=3, min_samples_split=10, n_estimators=300, total=   0.2s\n",
      "[CV] bootstrap=True, max_depth=8, max_features=3, min_samples_leaf=3, min_samples_split=10, n_estimators=300 \n",
      "[CV]  bootstrap=True, max_depth=8, max_features=3, min_samples_leaf=3, min_samples_split=10, n_estimators=300, total=   0.3s\n",
      "[CV] bootstrap=True, max_depth=8, max_features=3, min_samples_leaf=3, min_samples_split=10, n_estimators=1000 \n",
      "[CV]  bootstrap=True, max_depth=8, max_features=3, min_samples_leaf=3, min_samples_split=10, n_estimators=1000, total=   1.0s\n",
      "[CV] bootstrap=True, max_depth=8, max_features=3, min_samples_leaf=3, min_samples_split=10, n_estimators=1000 \n",
      "[CV]  bootstrap=True, max_depth=8, max_features=3, min_samples_leaf=3, min_samples_split=10, n_estimators=1000, total=   1.0s\n",
      "[CV] bootstrap=True, max_depth=8, max_features=3, min_samples_leaf=3, min_samples_split=10, n_estimators=1000 \n",
      "[CV]  bootstrap=True, max_depth=8, max_features=3, min_samples_leaf=3, min_samples_split=10, n_estimators=1000, total=   1.0s\n",
      "[CV] bootstrap=True, max_depth=8, max_features=3, min_samples_leaf=3, min_samples_split=12, n_estimators=100 \n",
      "[CV]  bootstrap=True, max_depth=8, max_features=3, min_samples_leaf=3, min_samples_split=12, n_estimators=100, total=   0.0s\n",
      "[CV] bootstrap=True, max_depth=8, max_features=3, min_samples_leaf=3, min_samples_split=12, n_estimators=100 \n",
      "[CV]  bootstrap=True, max_depth=8, max_features=3, min_samples_leaf=3, min_samples_split=12, n_estimators=100, total=   0.0s\n",
      "[CV] bootstrap=True, max_depth=8, max_features=3, min_samples_leaf=3, min_samples_split=12, n_estimators=100 \n",
      "[CV]  bootstrap=True, max_depth=8, max_features=3, min_samples_leaf=3, min_samples_split=12, n_estimators=100, total=   0.0s\n",
      "[CV] bootstrap=True, max_depth=8, max_features=3, min_samples_leaf=3, min_samples_split=12, n_estimators=200 \n",
      "[CV]  bootstrap=True, max_depth=8, max_features=3, min_samples_leaf=3, min_samples_split=12, n_estimators=200, total=   0.1s\n",
      "[CV] bootstrap=True, max_depth=8, max_features=3, min_samples_leaf=3, min_samples_split=12, n_estimators=200 \n",
      "[CV]  bootstrap=True, max_depth=8, max_features=3, min_samples_leaf=3, min_samples_split=12, n_estimators=200, total=   0.1s\n",
      "[CV] bootstrap=True, max_depth=8, max_features=3, min_samples_leaf=3, min_samples_split=12, n_estimators=200 \n",
      "[CV]  bootstrap=True, max_depth=8, max_features=3, min_samples_leaf=3, min_samples_split=12, n_estimators=200, total=   0.1s\n",
      "[CV] bootstrap=True, max_depth=8, max_features=3, min_samples_leaf=3, min_samples_split=12, n_estimators=300 \n",
      "[CV]  bootstrap=True, max_depth=8, max_features=3, min_samples_leaf=3, min_samples_split=12, n_estimators=300, total=   0.2s\n",
      "[CV] bootstrap=True, max_depth=8, max_features=3, min_samples_leaf=3, min_samples_split=12, n_estimators=300 \n",
      "[CV]  bootstrap=True, max_depth=8, max_features=3, min_samples_leaf=3, min_samples_split=12, n_estimators=300, total=   0.2s\n",
      "[CV] bootstrap=True, max_depth=8, max_features=3, min_samples_leaf=3, min_samples_split=12, n_estimators=300 \n",
      "[CV]  bootstrap=True, max_depth=8, max_features=3, min_samples_leaf=3, min_samples_split=12, n_estimators=300, total=   0.2s\n",
      "[CV] bootstrap=True, max_depth=8, max_features=3, min_samples_leaf=3, min_samples_split=12, n_estimators=1000 \n",
      "[CV]  bootstrap=True, max_depth=8, max_features=3, min_samples_leaf=3, min_samples_split=12, n_estimators=1000, total=   0.9s\n",
      "[CV] bootstrap=True, max_depth=8, max_features=3, min_samples_leaf=3, min_samples_split=12, n_estimators=1000 \n",
      "[CV]  bootstrap=True, max_depth=8, max_features=3, min_samples_leaf=3, min_samples_split=12, n_estimators=1000, total=   1.0s\n",
      "[CV] bootstrap=True, max_depth=8, max_features=3, min_samples_leaf=3, min_samples_split=12, n_estimators=1000 \n",
      "[CV]  bootstrap=True, max_depth=8, max_features=3, min_samples_leaf=3, min_samples_split=12, n_estimators=1000, total=   0.9s\n",
      "[CV] bootstrap=True, max_depth=8, max_features=3, min_samples_leaf=4, min_samples_split=8, n_estimators=100 \n",
      "[CV]  bootstrap=True, max_depth=8, max_features=3, min_samples_leaf=4, min_samples_split=8, n_estimators=100, total=   0.0s\n",
      "[CV] bootstrap=True, max_depth=8, max_features=3, min_samples_leaf=4, min_samples_split=8, n_estimators=100 \n"
     ]
    },
    {
     "name": "stdout",
     "output_type": "stream",
     "text": [
      "[CV]  bootstrap=True, max_depth=8, max_features=3, min_samples_leaf=4, min_samples_split=8, n_estimators=100, total=   0.0s\n",
      "[CV] bootstrap=True, max_depth=8, max_features=3, min_samples_leaf=4, min_samples_split=8, n_estimators=100 \n",
      "[CV]  bootstrap=True, max_depth=8, max_features=3, min_samples_leaf=4, min_samples_split=8, n_estimators=100, total=   0.0s\n",
      "[CV] bootstrap=True, max_depth=8, max_features=3, min_samples_leaf=4, min_samples_split=8, n_estimators=200 \n",
      "[CV]  bootstrap=True, max_depth=8, max_features=3, min_samples_leaf=4, min_samples_split=8, n_estimators=200, total=   0.1s\n",
      "[CV] bootstrap=True, max_depth=8, max_features=3, min_samples_leaf=4, min_samples_split=8, n_estimators=200 \n",
      "[CV]  bootstrap=True, max_depth=8, max_features=3, min_samples_leaf=4, min_samples_split=8, n_estimators=200, total=   0.1s\n",
      "[CV] bootstrap=True, max_depth=8, max_features=3, min_samples_leaf=4, min_samples_split=8, n_estimators=200 \n",
      "[CV]  bootstrap=True, max_depth=8, max_features=3, min_samples_leaf=4, min_samples_split=8, n_estimators=200, total=   0.1s\n",
      "[CV] bootstrap=True, max_depth=8, max_features=3, min_samples_leaf=4, min_samples_split=8, n_estimators=300 \n",
      "[CV]  bootstrap=True, max_depth=8, max_features=3, min_samples_leaf=4, min_samples_split=8, n_estimators=300, total=   0.2s\n",
      "[CV] bootstrap=True, max_depth=8, max_features=3, min_samples_leaf=4, min_samples_split=8, n_estimators=300 \n",
      "[CV]  bootstrap=True, max_depth=8, max_features=3, min_samples_leaf=4, min_samples_split=8, n_estimators=300, total=   0.2s\n",
      "[CV] bootstrap=True, max_depth=8, max_features=3, min_samples_leaf=4, min_samples_split=8, n_estimators=300 \n",
      "[CV]  bootstrap=True, max_depth=8, max_features=3, min_samples_leaf=4, min_samples_split=8, n_estimators=300, total=   0.2s\n",
      "[CV] bootstrap=True, max_depth=8, max_features=3, min_samples_leaf=4, min_samples_split=8, n_estimators=1000 \n",
      "[CV]  bootstrap=True, max_depth=8, max_features=3, min_samples_leaf=4, min_samples_split=8, n_estimators=1000, total=   0.9s\n",
      "[CV] bootstrap=True, max_depth=8, max_features=3, min_samples_leaf=4, min_samples_split=8, n_estimators=1000 \n",
      "[CV]  bootstrap=True, max_depth=8, max_features=3, min_samples_leaf=4, min_samples_split=8, n_estimators=1000, total=   0.9s\n",
      "[CV] bootstrap=True, max_depth=8, max_features=3, min_samples_leaf=4, min_samples_split=8, n_estimators=1000 \n",
      "[CV]  bootstrap=True, max_depth=8, max_features=3, min_samples_leaf=4, min_samples_split=8, n_estimators=1000, total=   0.9s\n",
      "[CV] bootstrap=True, max_depth=8, max_features=3, min_samples_leaf=4, min_samples_split=10, n_estimators=100 \n",
      "[CV]  bootstrap=True, max_depth=8, max_features=3, min_samples_leaf=4, min_samples_split=10, n_estimators=100, total=   0.0s\n",
      "[CV] bootstrap=True, max_depth=8, max_features=3, min_samples_leaf=4, min_samples_split=10, n_estimators=100 \n",
      "[CV]  bootstrap=True, max_depth=8, max_features=3, min_samples_leaf=4, min_samples_split=10, n_estimators=100, total=   0.0s\n",
      "[CV] bootstrap=True, max_depth=8, max_features=3, min_samples_leaf=4, min_samples_split=10, n_estimators=100 \n",
      "[CV]  bootstrap=True, max_depth=8, max_features=3, min_samples_leaf=4, min_samples_split=10, n_estimators=100, total=   0.0s\n",
      "[CV] bootstrap=True, max_depth=8, max_features=3, min_samples_leaf=4, min_samples_split=10, n_estimators=200 \n",
      "[CV]  bootstrap=True, max_depth=8, max_features=3, min_samples_leaf=4, min_samples_split=10, n_estimators=200, total=   0.1s\n",
      "[CV] bootstrap=True, max_depth=8, max_features=3, min_samples_leaf=4, min_samples_split=10, n_estimators=200 \n",
      "[CV]  bootstrap=True, max_depth=8, max_features=3, min_samples_leaf=4, min_samples_split=10, n_estimators=200, total=   0.1s\n",
      "[CV] bootstrap=True, max_depth=8, max_features=3, min_samples_leaf=4, min_samples_split=10, n_estimators=200 \n",
      "[CV]  bootstrap=True, max_depth=8, max_features=3, min_samples_leaf=4, min_samples_split=10, n_estimators=200, total=   0.1s\n",
      "[CV] bootstrap=True, max_depth=8, max_features=3, min_samples_leaf=4, min_samples_split=10, n_estimators=300 \n",
      "[CV]  bootstrap=True, max_depth=8, max_features=3, min_samples_leaf=4, min_samples_split=10, n_estimators=300, total=   0.2s\n",
      "[CV] bootstrap=True, max_depth=8, max_features=3, min_samples_leaf=4, min_samples_split=10, n_estimators=300 \n",
      "[CV]  bootstrap=True, max_depth=8, max_features=3, min_samples_leaf=4, min_samples_split=10, n_estimators=300, total=   0.2s\n",
      "[CV] bootstrap=True, max_depth=8, max_features=3, min_samples_leaf=4, min_samples_split=10, n_estimators=300 \n",
      "[CV]  bootstrap=True, max_depth=8, max_features=3, min_samples_leaf=4, min_samples_split=10, n_estimators=300, total=   0.2s\n",
      "[CV] bootstrap=True, max_depth=8, max_features=3, min_samples_leaf=4, min_samples_split=10, n_estimators=1000 \n",
      "[CV]  bootstrap=True, max_depth=8, max_features=3, min_samples_leaf=4, min_samples_split=10, n_estimators=1000, total=   0.9s\n",
      "[CV] bootstrap=True, max_depth=8, max_features=3, min_samples_leaf=4, min_samples_split=10, n_estimators=1000 \n",
      "[CV]  bootstrap=True, max_depth=8, max_features=3, min_samples_leaf=4, min_samples_split=10, n_estimators=1000, total=   0.9s\n",
      "[CV] bootstrap=True, max_depth=8, max_features=3, min_samples_leaf=4, min_samples_split=10, n_estimators=1000 \n",
      "[CV]  bootstrap=True, max_depth=8, max_features=3, min_samples_leaf=4, min_samples_split=10, n_estimators=1000, total=   0.9s\n",
      "[CV] bootstrap=True, max_depth=8, max_features=3, min_samples_leaf=4, min_samples_split=12, n_estimators=100 \n",
      "[CV]  bootstrap=True, max_depth=8, max_features=3, min_samples_leaf=4, min_samples_split=12, n_estimators=100, total=   0.0s\n",
      "[CV] bootstrap=True, max_depth=8, max_features=3, min_samples_leaf=4, min_samples_split=12, n_estimators=100 \n",
      "[CV]  bootstrap=True, max_depth=8, max_features=3, min_samples_leaf=4, min_samples_split=12, n_estimators=100, total=   0.0s\n",
      "[CV] bootstrap=True, max_depth=8, max_features=3, min_samples_leaf=4, min_samples_split=12, n_estimators=100 \n",
      "[CV]  bootstrap=True, max_depth=8, max_features=3, min_samples_leaf=4, min_samples_split=12, n_estimators=100, total=   0.0s\n",
      "[CV] bootstrap=True, max_depth=8, max_features=3, min_samples_leaf=4, min_samples_split=12, n_estimators=200 \n",
      "[CV]  bootstrap=True, max_depth=8, max_features=3, min_samples_leaf=4, min_samples_split=12, n_estimators=200, total=   0.1s\n",
      "[CV] bootstrap=True, max_depth=8, max_features=3, min_samples_leaf=4, min_samples_split=12, n_estimators=200 \n",
      "[CV]  bootstrap=True, max_depth=8, max_features=3, min_samples_leaf=4, min_samples_split=12, n_estimators=200, total=   0.1s\n",
      "[CV] bootstrap=True, max_depth=8, max_features=3, min_samples_leaf=4, min_samples_split=12, n_estimators=200 \n",
      "[CV]  bootstrap=True, max_depth=8, max_features=3, min_samples_leaf=4, min_samples_split=12, n_estimators=200, total=   0.1s\n",
      "[CV] bootstrap=True, max_depth=8, max_features=3, min_samples_leaf=4, min_samples_split=12, n_estimators=300 \n",
      "[CV]  bootstrap=True, max_depth=8, max_features=3, min_samples_leaf=4, min_samples_split=12, n_estimators=300, total=   0.2s\n",
      "[CV] bootstrap=True, max_depth=8, max_features=3, min_samples_leaf=4, min_samples_split=12, n_estimators=300 \n",
      "[CV]  bootstrap=True, max_depth=8, max_features=3, min_samples_leaf=4, min_samples_split=12, n_estimators=300, total=   0.2s\n",
      "[CV] bootstrap=True, max_depth=8, max_features=3, min_samples_leaf=4, min_samples_split=12, n_estimators=300 \n",
      "[CV]  bootstrap=True, max_depth=8, max_features=3, min_samples_leaf=4, min_samples_split=12, n_estimators=300, total=   0.2s\n",
      "[CV] bootstrap=True, max_depth=8, max_features=3, min_samples_leaf=4, min_samples_split=12, n_estimators=1000 \n",
      "[CV]  bootstrap=True, max_depth=8, max_features=3, min_samples_leaf=4, min_samples_split=12, n_estimators=1000, total=   0.9s\n",
      "[CV] bootstrap=True, max_depth=8, max_features=3, min_samples_leaf=4, min_samples_split=12, n_estimators=1000 \n",
      "[CV]  bootstrap=True, max_depth=8, max_features=3, min_samples_leaf=4, min_samples_split=12, n_estimators=1000, total=   0.9s\n",
      "[CV] bootstrap=True, max_depth=8, max_features=3, min_samples_leaf=4, min_samples_split=12, n_estimators=1000 \n",
      "[CV]  bootstrap=True, max_depth=8, max_features=3, min_samples_leaf=4, min_samples_split=12, n_estimators=1000, total=   0.9s\n",
      "[CV] bootstrap=True, max_depth=8, max_features=3, min_samples_leaf=5, min_samples_split=8, n_estimators=100 \n",
      "[CV]  bootstrap=True, max_depth=8, max_features=3, min_samples_leaf=5, min_samples_split=8, n_estimators=100, total=   0.0s\n",
      "[CV] bootstrap=True, max_depth=8, max_features=3, min_samples_leaf=5, min_samples_split=8, n_estimators=100 \n"
     ]
    },
    {
     "name": "stdout",
     "output_type": "stream",
     "text": [
      "[CV]  bootstrap=True, max_depth=8, max_features=3, min_samples_leaf=5, min_samples_split=8, n_estimators=100, total=   0.0s\n",
      "[CV] bootstrap=True, max_depth=8, max_features=3, min_samples_leaf=5, min_samples_split=8, n_estimators=100 \n",
      "[CV]  bootstrap=True, max_depth=8, max_features=3, min_samples_leaf=5, min_samples_split=8, n_estimators=100, total=   0.0s\n",
      "[CV] bootstrap=True, max_depth=8, max_features=3, min_samples_leaf=5, min_samples_split=8, n_estimators=200 \n",
      "[CV]  bootstrap=True, max_depth=8, max_features=3, min_samples_leaf=5, min_samples_split=8, n_estimators=200, total=   0.1s\n",
      "[CV] bootstrap=True, max_depth=8, max_features=3, min_samples_leaf=5, min_samples_split=8, n_estimators=200 \n",
      "[CV]  bootstrap=True, max_depth=8, max_features=3, min_samples_leaf=5, min_samples_split=8, n_estimators=200, total=   0.1s\n",
      "[CV] bootstrap=True, max_depth=8, max_features=3, min_samples_leaf=5, min_samples_split=8, n_estimators=200 \n",
      "[CV]  bootstrap=True, max_depth=8, max_features=3, min_samples_leaf=5, min_samples_split=8, n_estimators=200, total=   0.1s\n",
      "[CV] bootstrap=True, max_depth=8, max_features=3, min_samples_leaf=5, min_samples_split=8, n_estimators=300 \n",
      "[CV]  bootstrap=True, max_depth=8, max_features=3, min_samples_leaf=5, min_samples_split=8, n_estimators=300, total=   0.2s\n",
      "[CV] bootstrap=True, max_depth=8, max_features=3, min_samples_leaf=5, min_samples_split=8, n_estimators=300 \n",
      "[CV]  bootstrap=True, max_depth=8, max_features=3, min_samples_leaf=5, min_samples_split=8, n_estimators=300, total=   0.2s\n",
      "[CV] bootstrap=True, max_depth=8, max_features=3, min_samples_leaf=5, min_samples_split=8, n_estimators=300 \n",
      "[CV]  bootstrap=True, max_depth=8, max_features=3, min_samples_leaf=5, min_samples_split=8, n_estimators=300, total=   0.2s\n",
      "[CV] bootstrap=True, max_depth=8, max_features=3, min_samples_leaf=5, min_samples_split=8, n_estimators=1000 \n",
      "[CV]  bootstrap=True, max_depth=8, max_features=3, min_samples_leaf=5, min_samples_split=8, n_estimators=1000, total=   0.9s\n",
      "[CV] bootstrap=True, max_depth=8, max_features=3, min_samples_leaf=5, min_samples_split=8, n_estimators=1000 \n",
      "[CV]  bootstrap=True, max_depth=8, max_features=3, min_samples_leaf=5, min_samples_split=8, n_estimators=1000, total=   0.9s\n",
      "[CV] bootstrap=True, max_depth=8, max_features=3, min_samples_leaf=5, min_samples_split=8, n_estimators=1000 \n",
      "[CV]  bootstrap=True, max_depth=8, max_features=3, min_samples_leaf=5, min_samples_split=8, n_estimators=1000, total=   0.9s\n",
      "[CV] bootstrap=True, max_depth=8, max_features=3, min_samples_leaf=5, min_samples_split=10, n_estimators=100 \n",
      "[CV]  bootstrap=True, max_depth=8, max_features=3, min_samples_leaf=5, min_samples_split=10, n_estimators=100, total=   0.0s\n",
      "[CV] bootstrap=True, max_depth=8, max_features=3, min_samples_leaf=5, min_samples_split=10, n_estimators=100 \n",
      "[CV]  bootstrap=True, max_depth=8, max_features=3, min_samples_leaf=5, min_samples_split=10, n_estimators=100, total=   0.0s\n",
      "[CV] bootstrap=True, max_depth=8, max_features=3, min_samples_leaf=5, min_samples_split=10, n_estimators=100 \n",
      "[CV]  bootstrap=True, max_depth=8, max_features=3, min_samples_leaf=5, min_samples_split=10, n_estimators=100, total=   0.0s\n",
      "[CV] bootstrap=True, max_depth=8, max_features=3, min_samples_leaf=5, min_samples_split=10, n_estimators=200 \n",
      "[CV]  bootstrap=True, max_depth=8, max_features=3, min_samples_leaf=5, min_samples_split=10, n_estimators=200, total=   0.1s\n",
      "[CV] bootstrap=True, max_depth=8, max_features=3, min_samples_leaf=5, min_samples_split=10, n_estimators=200 \n",
      "[CV]  bootstrap=True, max_depth=8, max_features=3, min_samples_leaf=5, min_samples_split=10, n_estimators=200, total=   0.1s\n",
      "[CV] bootstrap=True, max_depth=8, max_features=3, min_samples_leaf=5, min_samples_split=10, n_estimators=200 \n",
      "[CV]  bootstrap=True, max_depth=8, max_features=3, min_samples_leaf=5, min_samples_split=10, n_estimators=200, total=   0.1s\n",
      "[CV] bootstrap=True, max_depth=8, max_features=3, min_samples_leaf=5, min_samples_split=10, n_estimators=300 \n",
      "[CV]  bootstrap=True, max_depth=8, max_features=3, min_samples_leaf=5, min_samples_split=10, n_estimators=300, total=   0.2s\n",
      "[CV] bootstrap=True, max_depth=8, max_features=3, min_samples_leaf=5, min_samples_split=10, n_estimators=300 \n",
      "[CV]  bootstrap=True, max_depth=8, max_features=3, min_samples_leaf=5, min_samples_split=10, n_estimators=300, total=   0.2s\n",
      "[CV] bootstrap=True, max_depth=8, max_features=3, min_samples_leaf=5, min_samples_split=10, n_estimators=300 \n",
      "[CV]  bootstrap=True, max_depth=8, max_features=3, min_samples_leaf=5, min_samples_split=10, n_estimators=300, total=   0.2s\n",
      "[CV] bootstrap=True, max_depth=8, max_features=3, min_samples_leaf=5, min_samples_split=10, n_estimators=1000 \n",
      "[CV]  bootstrap=True, max_depth=8, max_features=3, min_samples_leaf=5, min_samples_split=10, n_estimators=1000, total=   0.9s\n",
      "[CV] bootstrap=True, max_depth=8, max_features=3, min_samples_leaf=5, min_samples_split=10, n_estimators=1000 \n",
      "[CV]  bootstrap=True, max_depth=8, max_features=3, min_samples_leaf=5, min_samples_split=10, n_estimators=1000, total=   0.9s\n",
      "[CV] bootstrap=True, max_depth=8, max_features=3, min_samples_leaf=5, min_samples_split=10, n_estimators=1000 \n",
      "[CV]  bootstrap=True, max_depth=8, max_features=3, min_samples_leaf=5, min_samples_split=10, n_estimators=1000, total=   1.0s\n",
      "[CV] bootstrap=True, max_depth=8, max_features=3, min_samples_leaf=5, min_samples_split=12, n_estimators=100 \n",
      "[CV]  bootstrap=True, max_depth=8, max_features=3, min_samples_leaf=5, min_samples_split=12, n_estimators=100, total=   0.0s\n",
      "[CV] bootstrap=True, max_depth=8, max_features=3, min_samples_leaf=5, min_samples_split=12, n_estimators=100 \n",
      "[CV]  bootstrap=True, max_depth=8, max_features=3, min_samples_leaf=5, min_samples_split=12, n_estimators=100, total=   0.0s\n",
      "[CV] bootstrap=True, max_depth=8, max_features=3, min_samples_leaf=5, min_samples_split=12, n_estimators=100 \n",
      "[CV]  bootstrap=True, max_depth=8, max_features=3, min_samples_leaf=5, min_samples_split=12, n_estimators=100, total=   0.0s\n",
      "[CV] bootstrap=True, max_depth=8, max_features=3, min_samples_leaf=5, min_samples_split=12, n_estimators=200 \n",
      "[CV]  bootstrap=True, max_depth=8, max_features=3, min_samples_leaf=5, min_samples_split=12, n_estimators=200, total=   0.1s\n",
      "[CV] bootstrap=True, max_depth=8, max_features=3, min_samples_leaf=5, min_samples_split=12, n_estimators=200 \n",
      "[CV]  bootstrap=True, max_depth=8, max_features=3, min_samples_leaf=5, min_samples_split=12, n_estimators=200, total=   0.1s\n",
      "[CV] bootstrap=True, max_depth=8, max_features=3, min_samples_leaf=5, min_samples_split=12, n_estimators=200 \n",
      "[CV]  bootstrap=True, max_depth=8, max_features=3, min_samples_leaf=5, min_samples_split=12, n_estimators=200, total=   0.1s\n",
      "[CV] bootstrap=True, max_depth=8, max_features=3, min_samples_leaf=5, min_samples_split=12, n_estimators=300 \n",
      "[CV]  bootstrap=True, max_depth=8, max_features=3, min_samples_leaf=5, min_samples_split=12, n_estimators=300, total=   0.2s\n",
      "[CV] bootstrap=True, max_depth=8, max_features=3, min_samples_leaf=5, min_samples_split=12, n_estimators=300 \n",
      "[CV]  bootstrap=True, max_depth=8, max_features=3, min_samples_leaf=5, min_samples_split=12, n_estimators=300, total=   0.2s\n",
      "[CV] bootstrap=True, max_depth=8, max_features=3, min_samples_leaf=5, min_samples_split=12, n_estimators=300 \n",
      "[CV]  bootstrap=True, max_depth=8, max_features=3, min_samples_leaf=5, min_samples_split=12, n_estimators=300, total=   0.2s\n",
      "[CV] bootstrap=True, max_depth=8, max_features=3, min_samples_leaf=5, min_samples_split=12, n_estimators=1000 \n",
      "[CV]  bootstrap=True, max_depth=8, max_features=3, min_samples_leaf=5, min_samples_split=12, n_estimators=1000, total=   0.9s\n",
      "[CV] bootstrap=True, max_depth=8, max_features=3, min_samples_leaf=5, min_samples_split=12, n_estimators=1000 \n",
      "[CV]  bootstrap=True, max_depth=8, max_features=3, min_samples_leaf=5, min_samples_split=12, n_estimators=1000, total=   0.9s\n",
      "[CV] bootstrap=True, max_depth=8, max_features=3, min_samples_leaf=5, min_samples_split=12, n_estimators=1000 \n",
      "[CV]  bootstrap=True, max_depth=8, max_features=3, min_samples_leaf=5, min_samples_split=12, n_estimators=1000, total=   0.9s\n",
      "[CV] bootstrap=True, max_depth=9, max_features=2, min_samples_leaf=3, min_samples_split=8, n_estimators=100 \n",
      "[CV]  bootstrap=True, max_depth=9, max_features=2, min_samples_leaf=3, min_samples_split=8, n_estimators=100, total=   0.0s\n",
      "[CV] bootstrap=True, max_depth=9, max_features=2, min_samples_leaf=3, min_samples_split=8, n_estimators=100 \n"
     ]
    },
    {
     "name": "stdout",
     "output_type": "stream",
     "text": [
      "[CV]  bootstrap=True, max_depth=9, max_features=2, min_samples_leaf=3, min_samples_split=8, n_estimators=100, total=   0.0s\n",
      "[CV] bootstrap=True, max_depth=9, max_features=2, min_samples_leaf=3, min_samples_split=8, n_estimators=100 \n",
      "[CV]  bootstrap=True, max_depth=9, max_features=2, min_samples_leaf=3, min_samples_split=8, n_estimators=100, total=   0.0s\n",
      "[CV] bootstrap=True, max_depth=9, max_features=2, min_samples_leaf=3, min_samples_split=8, n_estimators=200 \n",
      "[CV]  bootstrap=True, max_depth=9, max_features=2, min_samples_leaf=3, min_samples_split=8, n_estimators=200, total=   0.1s\n",
      "[CV] bootstrap=True, max_depth=9, max_features=2, min_samples_leaf=3, min_samples_split=8, n_estimators=200 \n",
      "[CV]  bootstrap=True, max_depth=9, max_features=2, min_samples_leaf=3, min_samples_split=8, n_estimators=200, total=   0.1s\n",
      "[CV] bootstrap=True, max_depth=9, max_features=2, min_samples_leaf=3, min_samples_split=8, n_estimators=200 \n",
      "[CV]  bootstrap=True, max_depth=9, max_features=2, min_samples_leaf=3, min_samples_split=8, n_estimators=200, total=   0.1s\n",
      "[CV] bootstrap=True, max_depth=9, max_features=2, min_samples_leaf=3, min_samples_split=8, n_estimators=300 \n",
      "[CV]  bootstrap=True, max_depth=9, max_features=2, min_samples_leaf=3, min_samples_split=8, n_estimators=300, total=   0.2s\n",
      "[CV] bootstrap=True, max_depth=9, max_features=2, min_samples_leaf=3, min_samples_split=8, n_estimators=300 \n",
      "[CV]  bootstrap=True, max_depth=9, max_features=2, min_samples_leaf=3, min_samples_split=8, n_estimators=300, total=   0.2s\n",
      "[CV] bootstrap=True, max_depth=9, max_features=2, min_samples_leaf=3, min_samples_split=8, n_estimators=300 \n",
      "[CV]  bootstrap=True, max_depth=9, max_features=2, min_samples_leaf=3, min_samples_split=8, n_estimators=300, total=   0.2s\n",
      "[CV] bootstrap=True, max_depth=9, max_features=2, min_samples_leaf=3, min_samples_split=8, n_estimators=1000 \n",
      "[CV]  bootstrap=True, max_depth=9, max_features=2, min_samples_leaf=3, min_samples_split=8, n_estimators=1000, total=   1.0s\n",
      "[CV] bootstrap=True, max_depth=9, max_features=2, min_samples_leaf=3, min_samples_split=8, n_estimators=1000 \n",
      "[CV]  bootstrap=True, max_depth=9, max_features=2, min_samples_leaf=3, min_samples_split=8, n_estimators=1000, total=   1.1s\n",
      "[CV] bootstrap=True, max_depth=9, max_features=2, min_samples_leaf=3, min_samples_split=8, n_estimators=1000 \n",
      "[CV]  bootstrap=True, max_depth=9, max_features=2, min_samples_leaf=3, min_samples_split=8, n_estimators=1000, total=   1.1s\n",
      "[CV] bootstrap=True, max_depth=9, max_features=2, min_samples_leaf=3, min_samples_split=10, n_estimators=100 \n",
      "[CV]  bootstrap=True, max_depth=9, max_features=2, min_samples_leaf=3, min_samples_split=10, n_estimators=100, total=   0.0s\n",
      "[CV] bootstrap=True, max_depth=9, max_features=2, min_samples_leaf=3, min_samples_split=10, n_estimators=100 \n",
      "[CV]  bootstrap=True, max_depth=9, max_features=2, min_samples_leaf=3, min_samples_split=10, n_estimators=100, total=   0.0s\n",
      "[CV] bootstrap=True, max_depth=9, max_features=2, min_samples_leaf=3, min_samples_split=10, n_estimators=100 \n",
      "[CV]  bootstrap=True, max_depth=9, max_features=2, min_samples_leaf=3, min_samples_split=10, n_estimators=100, total=   0.0s\n",
      "[CV] bootstrap=True, max_depth=9, max_features=2, min_samples_leaf=3, min_samples_split=10, n_estimators=200 \n",
      "[CV]  bootstrap=True, max_depth=9, max_features=2, min_samples_leaf=3, min_samples_split=10, n_estimators=200, total=   0.1s\n",
      "[CV] bootstrap=True, max_depth=9, max_features=2, min_samples_leaf=3, min_samples_split=10, n_estimators=200 \n",
      "[CV]  bootstrap=True, max_depth=9, max_features=2, min_samples_leaf=3, min_samples_split=10, n_estimators=200, total=   0.1s\n",
      "[CV] bootstrap=True, max_depth=9, max_features=2, min_samples_leaf=3, min_samples_split=10, n_estimators=200 \n",
      "[CV]  bootstrap=True, max_depth=9, max_features=2, min_samples_leaf=3, min_samples_split=10, n_estimators=200, total=   0.1s\n",
      "[CV] bootstrap=True, max_depth=9, max_features=2, min_samples_leaf=3, min_samples_split=10, n_estimators=300 \n",
      "[CV]  bootstrap=True, max_depth=9, max_features=2, min_samples_leaf=3, min_samples_split=10, n_estimators=300, total=   0.2s\n",
      "[CV] bootstrap=True, max_depth=9, max_features=2, min_samples_leaf=3, min_samples_split=10, n_estimators=300 \n",
      "[CV]  bootstrap=True, max_depth=9, max_features=2, min_samples_leaf=3, min_samples_split=10, n_estimators=300, total=   0.2s\n",
      "[CV] bootstrap=True, max_depth=9, max_features=2, min_samples_leaf=3, min_samples_split=10, n_estimators=300 \n",
      "[CV]  bootstrap=True, max_depth=9, max_features=2, min_samples_leaf=3, min_samples_split=10, n_estimators=300, total=   0.2s\n",
      "[CV] bootstrap=True, max_depth=9, max_features=2, min_samples_leaf=3, min_samples_split=10, n_estimators=1000 \n",
      "[CV]  bootstrap=True, max_depth=9, max_features=2, min_samples_leaf=3, min_samples_split=10, n_estimators=1000, total=   0.9s\n",
      "[CV] bootstrap=True, max_depth=9, max_features=2, min_samples_leaf=3, min_samples_split=10, n_estimators=1000 \n",
      "[CV]  bootstrap=True, max_depth=9, max_features=2, min_samples_leaf=3, min_samples_split=10, n_estimators=1000, total=   0.9s\n",
      "[CV] bootstrap=True, max_depth=9, max_features=2, min_samples_leaf=3, min_samples_split=10, n_estimators=1000 \n",
      "[CV]  bootstrap=True, max_depth=9, max_features=2, min_samples_leaf=3, min_samples_split=10, n_estimators=1000, total=   0.9s\n",
      "[CV] bootstrap=True, max_depth=9, max_features=2, min_samples_leaf=3, min_samples_split=12, n_estimators=100 \n",
      "[CV]  bootstrap=True, max_depth=9, max_features=2, min_samples_leaf=3, min_samples_split=12, n_estimators=100, total=   0.0s\n",
      "[CV] bootstrap=True, max_depth=9, max_features=2, min_samples_leaf=3, min_samples_split=12, n_estimators=100 \n",
      "[CV]  bootstrap=True, max_depth=9, max_features=2, min_samples_leaf=3, min_samples_split=12, n_estimators=100, total=   0.1s\n",
      "[CV] bootstrap=True, max_depth=9, max_features=2, min_samples_leaf=3, min_samples_split=12, n_estimators=100 \n",
      "[CV]  bootstrap=True, max_depth=9, max_features=2, min_samples_leaf=3, min_samples_split=12, n_estimators=100, total=   0.1s\n",
      "[CV] bootstrap=True, max_depth=9, max_features=2, min_samples_leaf=3, min_samples_split=12, n_estimators=200 \n",
      "[CV]  bootstrap=True, max_depth=9, max_features=2, min_samples_leaf=3, min_samples_split=12, n_estimators=200, total=   0.3s\n",
      "[CV] bootstrap=True, max_depth=9, max_features=2, min_samples_leaf=3, min_samples_split=12, n_estimators=200 \n",
      "[CV]  bootstrap=True, max_depth=9, max_features=2, min_samples_leaf=3, min_samples_split=12, n_estimators=200, total=   0.1s\n",
      "[CV] bootstrap=True, max_depth=9, max_features=2, min_samples_leaf=3, min_samples_split=12, n_estimators=200 \n",
      "[CV]  bootstrap=True, max_depth=9, max_features=2, min_samples_leaf=3, min_samples_split=12, n_estimators=200, total=   0.1s\n",
      "[CV] bootstrap=True, max_depth=9, max_features=2, min_samples_leaf=3, min_samples_split=12, n_estimators=300 \n",
      "[CV]  bootstrap=True, max_depth=9, max_features=2, min_samples_leaf=3, min_samples_split=12, n_estimators=300, total=   0.2s\n",
      "[CV] bootstrap=True, max_depth=9, max_features=2, min_samples_leaf=3, min_samples_split=12, n_estimators=300 \n",
      "[CV]  bootstrap=True, max_depth=9, max_features=2, min_samples_leaf=3, min_samples_split=12, n_estimators=300, total=   0.2s\n",
      "[CV] bootstrap=True, max_depth=9, max_features=2, min_samples_leaf=3, min_samples_split=12, n_estimators=300 \n",
      "[CV]  bootstrap=True, max_depth=9, max_features=2, min_samples_leaf=3, min_samples_split=12, n_estimators=300, total=   0.2s\n",
      "[CV] bootstrap=True, max_depth=9, max_features=2, min_samples_leaf=3, min_samples_split=12, n_estimators=1000 \n",
      "[CV]  bootstrap=True, max_depth=9, max_features=2, min_samples_leaf=3, min_samples_split=12, n_estimators=1000, total=   0.9s\n",
      "[CV] bootstrap=True, max_depth=9, max_features=2, min_samples_leaf=3, min_samples_split=12, n_estimators=1000 \n",
      "[CV]  bootstrap=True, max_depth=9, max_features=2, min_samples_leaf=3, min_samples_split=12, n_estimators=1000, total=   0.9s\n",
      "[CV] bootstrap=True, max_depth=9, max_features=2, min_samples_leaf=3, min_samples_split=12, n_estimators=1000 \n",
      "[CV]  bootstrap=True, max_depth=9, max_features=2, min_samples_leaf=3, min_samples_split=12, n_estimators=1000, total=   0.9s\n",
      "[CV] bootstrap=True, max_depth=9, max_features=2, min_samples_leaf=4, min_samples_split=8, n_estimators=100 \n",
      "[CV]  bootstrap=True, max_depth=9, max_features=2, min_samples_leaf=4, min_samples_split=8, n_estimators=100, total=   0.0s\n",
      "[CV] bootstrap=True, max_depth=9, max_features=2, min_samples_leaf=4, min_samples_split=8, n_estimators=100 \n"
     ]
    },
    {
     "name": "stdout",
     "output_type": "stream",
     "text": [
      "[CV]  bootstrap=True, max_depth=9, max_features=2, min_samples_leaf=4, min_samples_split=8, n_estimators=100, total=   0.0s\n",
      "[CV] bootstrap=True, max_depth=9, max_features=2, min_samples_leaf=4, min_samples_split=8, n_estimators=100 \n",
      "[CV]  bootstrap=True, max_depth=9, max_features=2, min_samples_leaf=4, min_samples_split=8, n_estimators=100, total=   0.0s\n",
      "[CV] bootstrap=True, max_depth=9, max_features=2, min_samples_leaf=4, min_samples_split=8, n_estimators=200 \n",
      "[CV]  bootstrap=True, max_depth=9, max_features=2, min_samples_leaf=4, min_samples_split=8, n_estimators=200, total=   0.1s\n",
      "[CV] bootstrap=True, max_depth=9, max_features=2, min_samples_leaf=4, min_samples_split=8, n_estimators=200 \n",
      "[CV]  bootstrap=True, max_depth=9, max_features=2, min_samples_leaf=4, min_samples_split=8, n_estimators=200, total=   0.1s\n",
      "[CV] bootstrap=True, max_depth=9, max_features=2, min_samples_leaf=4, min_samples_split=8, n_estimators=200 \n",
      "[CV]  bootstrap=True, max_depth=9, max_features=2, min_samples_leaf=4, min_samples_split=8, n_estimators=200, total=   0.1s\n",
      "[CV] bootstrap=True, max_depth=9, max_features=2, min_samples_leaf=4, min_samples_split=8, n_estimators=300 \n",
      "[CV]  bootstrap=True, max_depth=9, max_features=2, min_samples_leaf=4, min_samples_split=8, n_estimators=300, total=   0.2s\n",
      "[CV] bootstrap=True, max_depth=9, max_features=2, min_samples_leaf=4, min_samples_split=8, n_estimators=300 \n",
      "[CV]  bootstrap=True, max_depth=9, max_features=2, min_samples_leaf=4, min_samples_split=8, n_estimators=300, total=   0.2s\n",
      "[CV] bootstrap=True, max_depth=9, max_features=2, min_samples_leaf=4, min_samples_split=8, n_estimators=300 \n",
      "[CV]  bootstrap=True, max_depth=9, max_features=2, min_samples_leaf=4, min_samples_split=8, n_estimators=300, total=   0.2s\n",
      "[CV] bootstrap=True, max_depth=9, max_features=2, min_samples_leaf=4, min_samples_split=8, n_estimators=1000 \n",
      "[CV]  bootstrap=True, max_depth=9, max_features=2, min_samples_leaf=4, min_samples_split=8, n_estimators=1000, total=   0.9s\n",
      "[CV] bootstrap=True, max_depth=9, max_features=2, min_samples_leaf=4, min_samples_split=8, n_estimators=1000 \n",
      "[CV]  bootstrap=True, max_depth=9, max_features=2, min_samples_leaf=4, min_samples_split=8, n_estimators=1000, total=   0.9s\n",
      "[CV] bootstrap=True, max_depth=9, max_features=2, min_samples_leaf=4, min_samples_split=8, n_estimators=1000 \n",
      "[CV]  bootstrap=True, max_depth=9, max_features=2, min_samples_leaf=4, min_samples_split=8, n_estimators=1000, total=   0.9s\n",
      "[CV] bootstrap=True, max_depth=9, max_features=2, min_samples_leaf=4, min_samples_split=10, n_estimators=100 \n",
      "[CV]  bootstrap=True, max_depth=9, max_features=2, min_samples_leaf=4, min_samples_split=10, n_estimators=100, total=   0.0s\n",
      "[CV] bootstrap=True, max_depth=9, max_features=2, min_samples_leaf=4, min_samples_split=10, n_estimators=100 \n",
      "[CV]  bootstrap=True, max_depth=9, max_features=2, min_samples_leaf=4, min_samples_split=10, n_estimators=100, total=   0.0s\n",
      "[CV] bootstrap=True, max_depth=9, max_features=2, min_samples_leaf=4, min_samples_split=10, n_estimators=100 \n",
      "[CV]  bootstrap=True, max_depth=9, max_features=2, min_samples_leaf=4, min_samples_split=10, n_estimators=100, total=   0.0s\n",
      "[CV] bootstrap=True, max_depth=9, max_features=2, min_samples_leaf=4, min_samples_split=10, n_estimators=200 \n",
      "[CV]  bootstrap=True, max_depth=9, max_features=2, min_samples_leaf=4, min_samples_split=10, n_estimators=200, total=   0.1s\n",
      "[CV] bootstrap=True, max_depth=9, max_features=2, min_samples_leaf=4, min_samples_split=10, n_estimators=200 \n",
      "[CV]  bootstrap=True, max_depth=9, max_features=2, min_samples_leaf=4, min_samples_split=10, n_estimators=200, total=   0.1s\n",
      "[CV] bootstrap=True, max_depth=9, max_features=2, min_samples_leaf=4, min_samples_split=10, n_estimators=200 \n",
      "[CV]  bootstrap=True, max_depth=9, max_features=2, min_samples_leaf=4, min_samples_split=10, n_estimators=200, total=   0.1s\n",
      "[CV] bootstrap=True, max_depth=9, max_features=2, min_samples_leaf=4, min_samples_split=10, n_estimators=300 \n",
      "[CV]  bootstrap=True, max_depth=9, max_features=2, min_samples_leaf=4, min_samples_split=10, n_estimators=300, total=   0.2s\n",
      "[CV] bootstrap=True, max_depth=9, max_features=2, min_samples_leaf=4, min_samples_split=10, n_estimators=300 \n",
      "[CV]  bootstrap=True, max_depth=9, max_features=2, min_samples_leaf=4, min_samples_split=10, n_estimators=300, total=   0.2s\n",
      "[CV] bootstrap=True, max_depth=9, max_features=2, min_samples_leaf=4, min_samples_split=10, n_estimators=300 \n",
      "[CV]  bootstrap=True, max_depth=9, max_features=2, min_samples_leaf=4, min_samples_split=10, n_estimators=300, total=   0.2s\n",
      "[CV] bootstrap=True, max_depth=9, max_features=2, min_samples_leaf=4, min_samples_split=10, n_estimators=1000 \n",
      "[CV]  bootstrap=True, max_depth=9, max_features=2, min_samples_leaf=4, min_samples_split=10, n_estimators=1000, total=   0.9s\n",
      "[CV] bootstrap=True, max_depth=9, max_features=2, min_samples_leaf=4, min_samples_split=10, n_estimators=1000 \n",
      "[CV]  bootstrap=True, max_depth=9, max_features=2, min_samples_leaf=4, min_samples_split=10, n_estimators=1000, total=   0.9s\n",
      "[CV] bootstrap=True, max_depth=9, max_features=2, min_samples_leaf=4, min_samples_split=10, n_estimators=1000 \n",
      "[CV]  bootstrap=True, max_depth=9, max_features=2, min_samples_leaf=4, min_samples_split=10, n_estimators=1000, total=   0.9s\n",
      "[CV] bootstrap=True, max_depth=9, max_features=2, min_samples_leaf=4, min_samples_split=12, n_estimators=100 \n",
      "[CV]  bootstrap=True, max_depth=9, max_features=2, min_samples_leaf=4, min_samples_split=12, n_estimators=100, total=   0.0s\n",
      "[CV] bootstrap=True, max_depth=9, max_features=2, min_samples_leaf=4, min_samples_split=12, n_estimators=100 \n",
      "[CV]  bootstrap=True, max_depth=9, max_features=2, min_samples_leaf=4, min_samples_split=12, n_estimators=100, total=   0.0s\n",
      "[CV] bootstrap=True, max_depth=9, max_features=2, min_samples_leaf=4, min_samples_split=12, n_estimators=100 \n",
      "[CV]  bootstrap=True, max_depth=9, max_features=2, min_samples_leaf=4, min_samples_split=12, n_estimators=100, total=   0.0s\n",
      "[CV] bootstrap=True, max_depth=9, max_features=2, min_samples_leaf=4, min_samples_split=12, n_estimators=200 \n",
      "[CV]  bootstrap=True, max_depth=9, max_features=2, min_samples_leaf=4, min_samples_split=12, n_estimators=200, total=   0.1s\n",
      "[CV] bootstrap=True, max_depth=9, max_features=2, min_samples_leaf=4, min_samples_split=12, n_estimators=200 \n",
      "[CV]  bootstrap=True, max_depth=9, max_features=2, min_samples_leaf=4, min_samples_split=12, n_estimators=200, total=   0.1s\n",
      "[CV] bootstrap=True, max_depth=9, max_features=2, min_samples_leaf=4, min_samples_split=12, n_estimators=200 \n",
      "[CV]  bootstrap=True, max_depth=9, max_features=2, min_samples_leaf=4, min_samples_split=12, n_estimators=200, total=   0.1s\n",
      "[CV] bootstrap=True, max_depth=9, max_features=2, min_samples_leaf=4, min_samples_split=12, n_estimators=300 \n",
      "[CV]  bootstrap=True, max_depth=9, max_features=2, min_samples_leaf=4, min_samples_split=12, n_estimators=300, total=   0.2s\n",
      "[CV] bootstrap=True, max_depth=9, max_features=2, min_samples_leaf=4, min_samples_split=12, n_estimators=300 \n",
      "[CV]  bootstrap=True, max_depth=9, max_features=2, min_samples_leaf=4, min_samples_split=12, n_estimators=300, total=   0.2s\n",
      "[CV] bootstrap=True, max_depth=9, max_features=2, min_samples_leaf=4, min_samples_split=12, n_estimators=300 \n",
      "[CV]  bootstrap=True, max_depth=9, max_features=2, min_samples_leaf=4, min_samples_split=12, n_estimators=300, total=   0.2s\n",
      "[CV] bootstrap=True, max_depth=9, max_features=2, min_samples_leaf=4, min_samples_split=12, n_estimators=1000 \n",
      "[CV]  bootstrap=True, max_depth=9, max_features=2, min_samples_leaf=4, min_samples_split=12, n_estimators=1000, total=   0.9s\n",
      "[CV] bootstrap=True, max_depth=9, max_features=2, min_samples_leaf=4, min_samples_split=12, n_estimators=1000 \n",
      "[CV]  bootstrap=True, max_depth=9, max_features=2, min_samples_leaf=4, min_samples_split=12, n_estimators=1000, total=   0.9s\n",
      "[CV] bootstrap=True, max_depth=9, max_features=2, min_samples_leaf=4, min_samples_split=12, n_estimators=1000 \n",
      "[CV]  bootstrap=True, max_depth=9, max_features=2, min_samples_leaf=4, min_samples_split=12, n_estimators=1000, total=   0.9s\n",
      "[CV] bootstrap=True, max_depth=9, max_features=2, min_samples_leaf=5, min_samples_split=8, n_estimators=100 \n",
      "[CV]  bootstrap=True, max_depth=9, max_features=2, min_samples_leaf=5, min_samples_split=8, n_estimators=100, total=   0.0s\n",
      "[CV] bootstrap=True, max_depth=9, max_features=2, min_samples_leaf=5, min_samples_split=8, n_estimators=100 \n"
     ]
    },
    {
     "name": "stdout",
     "output_type": "stream",
     "text": [
      "[CV]  bootstrap=True, max_depth=9, max_features=2, min_samples_leaf=5, min_samples_split=8, n_estimators=100, total=   0.0s\n",
      "[CV] bootstrap=True, max_depth=9, max_features=2, min_samples_leaf=5, min_samples_split=8, n_estimators=100 \n",
      "[CV]  bootstrap=True, max_depth=9, max_features=2, min_samples_leaf=5, min_samples_split=8, n_estimators=100, total=   0.0s\n",
      "[CV] bootstrap=True, max_depth=9, max_features=2, min_samples_leaf=5, min_samples_split=8, n_estimators=200 \n",
      "[CV]  bootstrap=True, max_depth=9, max_features=2, min_samples_leaf=5, min_samples_split=8, n_estimators=200, total=   0.1s\n",
      "[CV] bootstrap=True, max_depth=9, max_features=2, min_samples_leaf=5, min_samples_split=8, n_estimators=200 \n",
      "[CV]  bootstrap=True, max_depth=9, max_features=2, min_samples_leaf=5, min_samples_split=8, n_estimators=200, total=   0.1s\n",
      "[CV] bootstrap=True, max_depth=9, max_features=2, min_samples_leaf=5, min_samples_split=8, n_estimators=200 \n",
      "[CV]  bootstrap=True, max_depth=9, max_features=2, min_samples_leaf=5, min_samples_split=8, n_estimators=200, total=   0.1s\n",
      "[CV] bootstrap=True, max_depth=9, max_features=2, min_samples_leaf=5, min_samples_split=8, n_estimators=300 \n",
      "[CV]  bootstrap=True, max_depth=9, max_features=2, min_samples_leaf=5, min_samples_split=8, n_estimators=300, total=   0.2s\n",
      "[CV] bootstrap=True, max_depth=9, max_features=2, min_samples_leaf=5, min_samples_split=8, n_estimators=300 \n",
      "[CV]  bootstrap=True, max_depth=9, max_features=2, min_samples_leaf=5, min_samples_split=8, n_estimators=300, total=   0.2s\n",
      "[CV] bootstrap=True, max_depth=9, max_features=2, min_samples_leaf=5, min_samples_split=8, n_estimators=300 \n",
      "[CV]  bootstrap=True, max_depth=9, max_features=2, min_samples_leaf=5, min_samples_split=8, n_estimators=300, total=   0.2s\n",
      "[CV] bootstrap=True, max_depth=9, max_features=2, min_samples_leaf=5, min_samples_split=8, n_estimators=1000 \n",
      "[CV]  bootstrap=True, max_depth=9, max_features=2, min_samples_leaf=5, min_samples_split=8, n_estimators=1000, total=   0.9s\n",
      "[CV] bootstrap=True, max_depth=9, max_features=2, min_samples_leaf=5, min_samples_split=8, n_estimators=1000 \n",
      "[CV]  bootstrap=True, max_depth=9, max_features=2, min_samples_leaf=5, min_samples_split=8, n_estimators=1000, total=   0.9s\n",
      "[CV] bootstrap=True, max_depth=9, max_features=2, min_samples_leaf=5, min_samples_split=8, n_estimators=1000 \n",
      "[CV]  bootstrap=True, max_depth=9, max_features=2, min_samples_leaf=5, min_samples_split=8, n_estimators=1000, total=   0.9s\n",
      "[CV] bootstrap=True, max_depth=9, max_features=2, min_samples_leaf=5, min_samples_split=10, n_estimators=100 \n",
      "[CV]  bootstrap=True, max_depth=9, max_features=2, min_samples_leaf=5, min_samples_split=10, n_estimators=100, total=   0.0s\n",
      "[CV] bootstrap=True, max_depth=9, max_features=2, min_samples_leaf=5, min_samples_split=10, n_estimators=100 \n",
      "[CV]  bootstrap=True, max_depth=9, max_features=2, min_samples_leaf=5, min_samples_split=10, n_estimators=100, total=   0.0s\n",
      "[CV] bootstrap=True, max_depth=9, max_features=2, min_samples_leaf=5, min_samples_split=10, n_estimators=100 \n",
      "[CV]  bootstrap=True, max_depth=9, max_features=2, min_samples_leaf=5, min_samples_split=10, n_estimators=100, total=   0.0s\n",
      "[CV] bootstrap=True, max_depth=9, max_features=2, min_samples_leaf=5, min_samples_split=10, n_estimators=200 \n",
      "[CV]  bootstrap=True, max_depth=9, max_features=2, min_samples_leaf=5, min_samples_split=10, n_estimators=200, total=   0.1s\n",
      "[CV] bootstrap=True, max_depth=9, max_features=2, min_samples_leaf=5, min_samples_split=10, n_estimators=200 \n",
      "[CV]  bootstrap=True, max_depth=9, max_features=2, min_samples_leaf=5, min_samples_split=10, n_estimators=200, total=   0.1s\n",
      "[CV] bootstrap=True, max_depth=9, max_features=2, min_samples_leaf=5, min_samples_split=10, n_estimators=200 \n",
      "[CV]  bootstrap=True, max_depth=9, max_features=2, min_samples_leaf=5, min_samples_split=10, n_estimators=200, total=   0.1s\n",
      "[CV] bootstrap=True, max_depth=9, max_features=2, min_samples_leaf=5, min_samples_split=10, n_estimators=300 \n",
      "[CV]  bootstrap=True, max_depth=9, max_features=2, min_samples_leaf=5, min_samples_split=10, n_estimators=300, total=   0.2s\n",
      "[CV] bootstrap=True, max_depth=9, max_features=2, min_samples_leaf=5, min_samples_split=10, n_estimators=300 \n",
      "[CV]  bootstrap=True, max_depth=9, max_features=2, min_samples_leaf=5, min_samples_split=10, n_estimators=300, total=   0.2s\n",
      "[CV] bootstrap=True, max_depth=9, max_features=2, min_samples_leaf=5, min_samples_split=10, n_estimators=300 \n",
      "[CV]  bootstrap=True, max_depth=9, max_features=2, min_samples_leaf=5, min_samples_split=10, n_estimators=300, total=   0.2s\n",
      "[CV] bootstrap=True, max_depth=9, max_features=2, min_samples_leaf=5, min_samples_split=10, n_estimators=1000 \n",
      "[CV]  bootstrap=True, max_depth=9, max_features=2, min_samples_leaf=5, min_samples_split=10, n_estimators=1000, total=   0.9s\n",
      "[CV] bootstrap=True, max_depth=9, max_features=2, min_samples_leaf=5, min_samples_split=10, n_estimators=1000 \n",
      "[CV]  bootstrap=True, max_depth=9, max_features=2, min_samples_leaf=5, min_samples_split=10, n_estimators=1000, total=   0.9s\n",
      "[CV] bootstrap=True, max_depth=9, max_features=2, min_samples_leaf=5, min_samples_split=10, n_estimators=1000 \n",
      "[CV]  bootstrap=True, max_depth=9, max_features=2, min_samples_leaf=5, min_samples_split=10, n_estimators=1000, total=   0.9s\n",
      "[CV] bootstrap=True, max_depth=9, max_features=2, min_samples_leaf=5, min_samples_split=12, n_estimators=100 \n",
      "[CV]  bootstrap=True, max_depth=9, max_features=2, min_samples_leaf=5, min_samples_split=12, n_estimators=100, total=   0.0s\n",
      "[CV] bootstrap=True, max_depth=9, max_features=2, min_samples_leaf=5, min_samples_split=12, n_estimators=100 \n",
      "[CV]  bootstrap=True, max_depth=9, max_features=2, min_samples_leaf=5, min_samples_split=12, n_estimators=100, total=   0.0s\n",
      "[CV] bootstrap=True, max_depth=9, max_features=2, min_samples_leaf=5, min_samples_split=12, n_estimators=100 \n",
      "[CV]  bootstrap=True, max_depth=9, max_features=2, min_samples_leaf=5, min_samples_split=12, n_estimators=100, total=   0.0s\n",
      "[CV] bootstrap=True, max_depth=9, max_features=2, min_samples_leaf=5, min_samples_split=12, n_estimators=200 \n",
      "[CV]  bootstrap=True, max_depth=9, max_features=2, min_samples_leaf=5, min_samples_split=12, n_estimators=200, total=   0.1s\n",
      "[CV] bootstrap=True, max_depth=9, max_features=2, min_samples_leaf=5, min_samples_split=12, n_estimators=200 \n",
      "[CV]  bootstrap=True, max_depth=9, max_features=2, min_samples_leaf=5, min_samples_split=12, n_estimators=200, total=   0.1s\n",
      "[CV] bootstrap=True, max_depth=9, max_features=2, min_samples_leaf=5, min_samples_split=12, n_estimators=200 \n",
      "[CV]  bootstrap=True, max_depth=9, max_features=2, min_samples_leaf=5, min_samples_split=12, n_estimators=200, total=   0.1s\n",
      "[CV] bootstrap=True, max_depth=9, max_features=2, min_samples_leaf=5, min_samples_split=12, n_estimators=300 \n",
      "[CV]  bootstrap=True, max_depth=9, max_features=2, min_samples_leaf=5, min_samples_split=12, n_estimators=300, total=   0.2s\n",
      "[CV] bootstrap=True, max_depth=9, max_features=2, min_samples_leaf=5, min_samples_split=12, n_estimators=300 \n",
      "[CV]  bootstrap=True, max_depth=9, max_features=2, min_samples_leaf=5, min_samples_split=12, n_estimators=300, total=   0.2s\n",
      "[CV] bootstrap=True, max_depth=9, max_features=2, min_samples_leaf=5, min_samples_split=12, n_estimators=300 \n",
      "[CV]  bootstrap=True, max_depth=9, max_features=2, min_samples_leaf=5, min_samples_split=12, n_estimators=300, total=   0.2s\n",
      "[CV] bootstrap=True, max_depth=9, max_features=2, min_samples_leaf=5, min_samples_split=12, n_estimators=1000 \n",
      "[CV]  bootstrap=True, max_depth=9, max_features=2, min_samples_leaf=5, min_samples_split=12, n_estimators=1000, total=   0.9s\n",
      "[CV] bootstrap=True, max_depth=9, max_features=2, min_samples_leaf=5, min_samples_split=12, n_estimators=1000 \n",
      "[CV]  bootstrap=True, max_depth=9, max_features=2, min_samples_leaf=5, min_samples_split=12, n_estimators=1000, total=   0.9s\n",
      "[CV] bootstrap=True, max_depth=9, max_features=2, min_samples_leaf=5, min_samples_split=12, n_estimators=1000 \n",
      "[CV]  bootstrap=True, max_depth=9, max_features=2, min_samples_leaf=5, min_samples_split=12, n_estimators=1000, total=   0.9s\n",
      "[CV] bootstrap=True, max_depth=9, max_features=3, min_samples_leaf=3, min_samples_split=8, n_estimators=100 \n",
      "[CV]  bootstrap=True, max_depth=9, max_features=3, min_samples_leaf=3, min_samples_split=8, n_estimators=100, total=   0.0s\n",
      "[CV] bootstrap=True, max_depth=9, max_features=3, min_samples_leaf=3, min_samples_split=8, n_estimators=100 \n"
     ]
    },
    {
     "name": "stdout",
     "output_type": "stream",
     "text": [
      "[CV]  bootstrap=True, max_depth=9, max_features=3, min_samples_leaf=3, min_samples_split=8, n_estimators=100, total=   0.0s\n",
      "[CV] bootstrap=True, max_depth=9, max_features=3, min_samples_leaf=3, min_samples_split=8, n_estimators=100 \n",
      "[CV]  bootstrap=True, max_depth=9, max_features=3, min_samples_leaf=3, min_samples_split=8, n_estimators=100, total=   0.0s\n",
      "[CV] bootstrap=True, max_depth=9, max_features=3, min_samples_leaf=3, min_samples_split=8, n_estimators=200 \n",
      "[CV]  bootstrap=True, max_depth=9, max_features=3, min_samples_leaf=3, min_samples_split=8, n_estimators=200, total=   0.1s\n",
      "[CV] bootstrap=True, max_depth=9, max_features=3, min_samples_leaf=3, min_samples_split=8, n_estimators=200 \n",
      "[CV]  bootstrap=True, max_depth=9, max_features=3, min_samples_leaf=3, min_samples_split=8, n_estimators=200, total=   0.1s\n",
      "[CV] bootstrap=True, max_depth=9, max_features=3, min_samples_leaf=3, min_samples_split=8, n_estimators=200 \n",
      "[CV]  bootstrap=True, max_depth=9, max_features=3, min_samples_leaf=3, min_samples_split=8, n_estimators=200, total=   0.1s\n",
      "[CV] bootstrap=True, max_depth=9, max_features=3, min_samples_leaf=3, min_samples_split=8, n_estimators=300 \n",
      "[CV]  bootstrap=True, max_depth=9, max_features=3, min_samples_leaf=3, min_samples_split=8, n_estimators=300, total=   0.2s\n",
      "[CV] bootstrap=True, max_depth=9, max_features=3, min_samples_leaf=3, min_samples_split=8, n_estimators=300 \n",
      "[CV]  bootstrap=True, max_depth=9, max_features=3, min_samples_leaf=3, min_samples_split=8, n_estimators=300, total=   0.2s\n",
      "[CV] bootstrap=True, max_depth=9, max_features=3, min_samples_leaf=3, min_samples_split=8, n_estimators=300 \n",
      "[CV]  bootstrap=True, max_depth=9, max_features=3, min_samples_leaf=3, min_samples_split=8, n_estimators=300, total=   0.2s\n",
      "[CV] bootstrap=True, max_depth=9, max_features=3, min_samples_leaf=3, min_samples_split=8, n_estimators=1000 \n",
      "[CV]  bootstrap=True, max_depth=9, max_features=3, min_samples_leaf=3, min_samples_split=8, n_estimators=1000, total=   1.0s\n",
      "[CV] bootstrap=True, max_depth=9, max_features=3, min_samples_leaf=3, min_samples_split=8, n_estimators=1000 \n",
      "[CV]  bootstrap=True, max_depth=9, max_features=3, min_samples_leaf=3, min_samples_split=8, n_estimators=1000, total=   1.0s\n",
      "[CV] bootstrap=True, max_depth=9, max_features=3, min_samples_leaf=3, min_samples_split=8, n_estimators=1000 \n",
      "[CV]  bootstrap=True, max_depth=9, max_features=3, min_samples_leaf=3, min_samples_split=8, n_estimators=1000, total=   0.9s\n",
      "[CV] bootstrap=True, max_depth=9, max_features=3, min_samples_leaf=3, min_samples_split=10, n_estimators=100 \n",
      "[CV]  bootstrap=True, max_depth=9, max_features=3, min_samples_leaf=3, min_samples_split=10, n_estimators=100, total=   0.0s\n",
      "[CV] bootstrap=True, max_depth=9, max_features=3, min_samples_leaf=3, min_samples_split=10, n_estimators=100 \n",
      "[CV]  bootstrap=True, max_depth=9, max_features=3, min_samples_leaf=3, min_samples_split=10, n_estimators=100, total=   0.0s\n",
      "[CV] bootstrap=True, max_depth=9, max_features=3, min_samples_leaf=3, min_samples_split=10, n_estimators=100 \n",
      "[CV]  bootstrap=True, max_depth=9, max_features=3, min_samples_leaf=3, min_samples_split=10, n_estimators=100, total=   0.0s\n",
      "[CV] bootstrap=True, max_depth=9, max_features=3, min_samples_leaf=3, min_samples_split=10, n_estimators=200 \n",
      "[CV]  bootstrap=True, max_depth=9, max_features=3, min_samples_leaf=3, min_samples_split=10, n_estimators=200, total=   0.1s\n",
      "[CV] bootstrap=True, max_depth=9, max_features=3, min_samples_leaf=3, min_samples_split=10, n_estimators=200 \n",
      "[CV]  bootstrap=True, max_depth=9, max_features=3, min_samples_leaf=3, min_samples_split=10, n_estimators=200, total=   0.1s\n",
      "[CV] bootstrap=True, max_depth=9, max_features=3, min_samples_leaf=3, min_samples_split=10, n_estimators=200 \n",
      "[CV]  bootstrap=True, max_depth=9, max_features=3, min_samples_leaf=3, min_samples_split=10, n_estimators=200, total=   0.1s\n",
      "[CV] bootstrap=True, max_depth=9, max_features=3, min_samples_leaf=3, min_samples_split=10, n_estimators=300 \n",
      "[CV]  bootstrap=True, max_depth=9, max_features=3, min_samples_leaf=3, min_samples_split=10, n_estimators=300, total=   0.2s\n",
      "[CV] bootstrap=True, max_depth=9, max_features=3, min_samples_leaf=3, min_samples_split=10, n_estimators=300 \n",
      "[CV]  bootstrap=True, max_depth=9, max_features=3, min_samples_leaf=3, min_samples_split=10, n_estimators=300, total=   0.2s\n",
      "[CV] bootstrap=True, max_depth=9, max_features=3, min_samples_leaf=3, min_samples_split=10, n_estimators=300 \n",
      "[CV]  bootstrap=True, max_depth=9, max_features=3, min_samples_leaf=3, min_samples_split=10, n_estimators=300, total=   0.2s\n",
      "[CV] bootstrap=True, max_depth=9, max_features=3, min_samples_leaf=3, min_samples_split=10, n_estimators=1000 \n",
      "[CV]  bootstrap=True, max_depth=9, max_features=3, min_samples_leaf=3, min_samples_split=10, n_estimators=1000, total=   0.9s\n",
      "[CV] bootstrap=True, max_depth=9, max_features=3, min_samples_leaf=3, min_samples_split=10, n_estimators=1000 \n",
      "[CV]  bootstrap=True, max_depth=9, max_features=3, min_samples_leaf=3, min_samples_split=10, n_estimators=1000, total=   1.0s\n",
      "[CV] bootstrap=True, max_depth=9, max_features=3, min_samples_leaf=3, min_samples_split=10, n_estimators=1000 \n",
      "[CV]  bootstrap=True, max_depth=9, max_features=3, min_samples_leaf=3, min_samples_split=10, n_estimators=1000, total=   0.9s\n",
      "[CV] bootstrap=True, max_depth=9, max_features=3, min_samples_leaf=3, min_samples_split=12, n_estimators=100 \n",
      "[CV]  bootstrap=True, max_depth=9, max_features=3, min_samples_leaf=3, min_samples_split=12, n_estimators=100, total=   0.0s\n",
      "[CV] bootstrap=True, max_depth=9, max_features=3, min_samples_leaf=3, min_samples_split=12, n_estimators=100 \n",
      "[CV]  bootstrap=True, max_depth=9, max_features=3, min_samples_leaf=3, min_samples_split=12, n_estimators=100, total=   0.0s\n",
      "[CV] bootstrap=True, max_depth=9, max_features=3, min_samples_leaf=3, min_samples_split=12, n_estimators=100 \n",
      "[CV]  bootstrap=True, max_depth=9, max_features=3, min_samples_leaf=3, min_samples_split=12, n_estimators=100, total=   0.0s\n",
      "[CV] bootstrap=True, max_depth=9, max_features=3, min_samples_leaf=3, min_samples_split=12, n_estimators=200 \n",
      "[CV]  bootstrap=True, max_depth=9, max_features=3, min_samples_leaf=3, min_samples_split=12, n_estimators=200, total=   0.1s\n",
      "[CV] bootstrap=True, max_depth=9, max_features=3, min_samples_leaf=3, min_samples_split=12, n_estimators=200 \n",
      "[CV]  bootstrap=True, max_depth=9, max_features=3, min_samples_leaf=3, min_samples_split=12, n_estimators=200, total=   0.1s\n",
      "[CV] bootstrap=True, max_depth=9, max_features=3, min_samples_leaf=3, min_samples_split=12, n_estimators=200 \n",
      "[CV]  bootstrap=True, max_depth=9, max_features=3, min_samples_leaf=3, min_samples_split=12, n_estimators=200, total=   0.1s\n",
      "[CV] bootstrap=True, max_depth=9, max_features=3, min_samples_leaf=3, min_samples_split=12, n_estimators=300 \n",
      "[CV]  bootstrap=True, max_depth=9, max_features=3, min_samples_leaf=3, min_samples_split=12, n_estimators=300, total=   0.2s\n",
      "[CV] bootstrap=True, max_depth=9, max_features=3, min_samples_leaf=3, min_samples_split=12, n_estimators=300 \n",
      "[CV]  bootstrap=True, max_depth=9, max_features=3, min_samples_leaf=3, min_samples_split=12, n_estimators=300, total=   0.2s\n",
      "[CV] bootstrap=True, max_depth=9, max_features=3, min_samples_leaf=3, min_samples_split=12, n_estimators=300 \n",
      "[CV]  bootstrap=True, max_depth=9, max_features=3, min_samples_leaf=3, min_samples_split=12, n_estimators=300, total=   0.2s\n",
      "[CV] bootstrap=True, max_depth=9, max_features=3, min_samples_leaf=3, min_samples_split=12, n_estimators=1000 \n",
      "[CV]  bootstrap=True, max_depth=9, max_features=3, min_samples_leaf=3, min_samples_split=12, n_estimators=1000, total=   0.9s\n",
      "[CV] bootstrap=True, max_depth=9, max_features=3, min_samples_leaf=3, min_samples_split=12, n_estimators=1000 \n",
      "[CV]  bootstrap=True, max_depth=9, max_features=3, min_samples_leaf=3, min_samples_split=12, n_estimators=1000, total=   0.9s\n",
      "[CV] bootstrap=True, max_depth=9, max_features=3, min_samples_leaf=3, min_samples_split=12, n_estimators=1000 \n",
      "[CV]  bootstrap=True, max_depth=9, max_features=3, min_samples_leaf=3, min_samples_split=12, n_estimators=1000, total=   0.9s\n",
      "[CV] bootstrap=True, max_depth=9, max_features=3, min_samples_leaf=4, min_samples_split=8, n_estimators=100 \n",
      "[CV]  bootstrap=True, max_depth=9, max_features=3, min_samples_leaf=4, min_samples_split=8, n_estimators=100, total=   0.0s\n",
      "[CV] bootstrap=True, max_depth=9, max_features=3, min_samples_leaf=4, min_samples_split=8, n_estimators=100 \n"
     ]
    },
    {
     "name": "stdout",
     "output_type": "stream",
     "text": [
      "[CV]  bootstrap=True, max_depth=9, max_features=3, min_samples_leaf=4, min_samples_split=8, n_estimators=100, total=   0.0s\n",
      "[CV] bootstrap=True, max_depth=9, max_features=3, min_samples_leaf=4, min_samples_split=8, n_estimators=100 \n",
      "[CV]  bootstrap=True, max_depth=9, max_features=3, min_samples_leaf=4, min_samples_split=8, n_estimators=100, total=   0.0s\n",
      "[CV] bootstrap=True, max_depth=9, max_features=3, min_samples_leaf=4, min_samples_split=8, n_estimators=200 \n",
      "[CV]  bootstrap=True, max_depth=9, max_features=3, min_samples_leaf=4, min_samples_split=8, n_estimators=200, total=   0.1s\n",
      "[CV] bootstrap=True, max_depth=9, max_features=3, min_samples_leaf=4, min_samples_split=8, n_estimators=200 \n",
      "[CV]  bootstrap=True, max_depth=9, max_features=3, min_samples_leaf=4, min_samples_split=8, n_estimators=200, total=   0.1s\n",
      "[CV] bootstrap=True, max_depth=9, max_features=3, min_samples_leaf=4, min_samples_split=8, n_estimators=200 \n",
      "[CV]  bootstrap=True, max_depth=9, max_features=3, min_samples_leaf=4, min_samples_split=8, n_estimators=200, total=   0.1s\n",
      "[CV] bootstrap=True, max_depth=9, max_features=3, min_samples_leaf=4, min_samples_split=8, n_estimators=300 \n",
      "[CV]  bootstrap=True, max_depth=9, max_features=3, min_samples_leaf=4, min_samples_split=8, n_estimators=300, total=   0.2s\n",
      "[CV] bootstrap=True, max_depth=9, max_features=3, min_samples_leaf=4, min_samples_split=8, n_estimators=300 \n",
      "[CV]  bootstrap=True, max_depth=9, max_features=3, min_samples_leaf=4, min_samples_split=8, n_estimators=300, total=   0.2s\n",
      "[CV] bootstrap=True, max_depth=9, max_features=3, min_samples_leaf=4, min_samples_split=8, n_estimators=300 \n",
      "[CV]  bootstrap=True, max_depth=9, max_features=3, min_samples_leaf=4, min_samples_split=8, n_estimators=300, total=   0.2s\n",
      "[CV] bootstrap=True, max_depth=9, max_features=3, min_samples_leaf=4, min_samples_split=8, n_estimators=1000 \n",
      "[CV]  bootstrap=True, max_depth=9, max_features=3, min_samples_leaf=4, min_samples_split=8, n_estimators=1000, total=   1.0s\n",
      "[CV] bootstrap=True, max_depth=9, max_features=3, min_samples_leaf=4, min_samples_split=8, n_estimators=1000 \n",
      "[CV]  bootstrap=True, max_depth=9, max_features=3, min_samples_leaf=4, min_samples_split=8, n_estimators=1000, total=   0.9s\n",
      "[CV] bootstrap=True, max_depth=9, max_features=3, min_samples_leaf=4, min_samples_split=8, n_estimators=1000 \n",
      "[CV]  bootstrap=True, max_depth=9, max_features=3, min_samples_leaf=4, min_samples_split=8, n_estimators=1000, total=   0.9s\n",
      "[CV] bootstrap=True, max_depth=9, max_features=3, min_samples_leaf=4, min_samples_split=10, n_estimators=100 \n",
      "[CV]  bootstrap=True, max_depth=9, max_features=3, min_samples_leaf=4, min_samples_split=10, n_estimators=100, total=   0.0s\n",
      "[CV] bootstrap=True, max_depth=9, max_features=3, min_samples_leaf=4, min_samples_split=10, n_estimators=100 \n",
      "[CV]  bootstrap=True, max_depth=9, max_features=3, min_samples_leaf=4, min_samples_split=10, n_estimators=100, total=   0.0s\n",
      "[CV] bootstrap=True, max_depth=9, max_features=3, min_samples_leaf=4, min_samples_split=10, n_estimators=100 \n",
      "[CV]  bootstrap=True, max_depth=9, max_features=3, min_samples_leaf=4, min_samples_split=10, n_estimators=100, total=   0.0s\n",
      "[CV] bootstrap=True, max_depth=9, max_features=3, min_samples_leaf=4, min_samples_split=10, n_estimators=200 \n",
      "[CV]  bootstrap=True, max_depth=9, max_features=3, min_samples_leaf=4, min_samples_split=10, n_estimators=200, total=   0.1s\n",
      "[CV] bootstrap=True, max_depth=9, max_features=3, min_samples_leaf=4, min_samples_split=10, n_estimators=200 \n",
      "[CV]  bootstrap=True, max_depth=9, max_features=3, min_samples_leaf=4, min_samples_split=10, n_estimators=200, total=   0.1s\n",
      "[CV] bootstrap=True, max_depth=9, max_features=3, min_samples_leaf=4, min_samples_split=10, n_estimators=200 \n",
      "[CV]  bootstrap=True, max_depth=9, max_features=3, min_samples_leaf=4, min_samples_split=10, n_estimators=200, total=   0.1s\n",
      "[CV] bootstrap=True, max_depth=9, max_features=3, min_samples_leaf=4, min_samples_split=10, n_estimators=300 \n",
      "[CV]  bootstrap=True, max_depth=9, max_features=3, min_samples_leaf=4, min_samples_split=10, n_estimators=300, total=   0.2s\n",
      "[CV] bootstrap=True, max_depth=9, max_features=3, min_samples_leaf=4, min_samples_split=10, n_estimators=300 \n",
      "[CV]  bootstrap=True, max_depth=9, max_features=3, min_samples_leaf=4, min_samples_split=10, n_estimators=300, total=   0.2s\n",
      "[CV] bootstrap=True, max_depth=9, max_features=3, min_samples_leaf=4, min_samples_split=10, n_estimators=300 \n",
      "[CV]  bootstrap=True, max_depth=9, max_features=3, min_samples_leaf=4, min_samples_split=10, n_estimators=300, total=   0.2s\n",
      "[CV] bootstrap=True, max_depth=9, max_features=3, min_samples_leaf=4, min_samples_split=10, n_estimators=1000 \n",
      "[CV]  bootstrap=True, max_depth=9, max_features=3, min_samples_leaf=4, min_samples_split=10, n_estimators=1000, total=   1.0s\n",
      "[CV] bootstrap=True, max_depth=9, max_features=3, min_samples_leaf=4, min_samples_split=10, n_estimators=1000 \n",
      "[CV]  bootstrap=True, max_depth=9, max_features=3, min_samples_leaf=4, min_samples_split=10, n_estimators=1000, total=   1.0s\n",
      "[CV] bootstrap=True, max_depth=9, max_features=3, min_samples_leaf=4, min_samples_split=10, n_estimators=1000 \n",
      "[CV]  bootstrap=True, max_depth=9, max_features=3, min_samples_leaf=4, min_samples_split=10, n_estimators=1000, total=   1.0s\n",
      "[CV] bootstrap=True, max_depth=9, max_features=3, min_samples_leaf=4, min_samples_split=12, n_estimators=100 \n",
      "[CV]  bootstrap=True, max_depth=9, max_features=3, min_samples_leaf=4, min_samples_split=12, n_estimators=100, total=   0.0s\n",
      "[CV] bootstrap=True, max_depth=9, max_features=3, min_samples_leaf=4, min_samples_split=12, n_estimators=100 \n",
      "[CV]  bootstrap=True, max_depth=9, max_features=3, min_samples_leaf=4, min_samples_split=12, n_estimators=100, total=   0.0s\n",
      "[CV] bootstrap=True, max_depth=9, max_features=3, min_samples_leaf=4, min_samples_split=12, n_estimators=100 \n",
      "[CV]  bootstrap=True, max_depth=9, max_features=3, min_samples_leaf=4, min_samples_split=12, n_estimators=100, total=   0.0s\n",
      "[CV] bootstrap=True, max_depth=9, max_features=3, min_samples_leaf=4, min_samples_split=12, n_estimators=200 \n",
      "[CV]  bootstrap=True, max_depth=9, max_features=3, min_samples_leaf=4, min_samples_split=12, n_estimators=200, total=   0.1s\n",
      "[CV] bootstrap=True, max_depth=9, max_features=3, min_samples_leaf=4, min_samples_split=12, n_estimators=200 \n",
      "[CV]  bootstrap=True, max_depth=9, max_features=3, min_samples_leaf=4, min_samples_split=12, n_estimators=200, total=   0.1s\n",
      "[CV] bootstrap=True, max_depth=9, max_features=3, min_samples_leaf=4, min_samples_split=12, n_estimators=200 \n",
      "[CV]  bootstrap=True, max_depth=9, max_features=3, min_samples_leaf=4, min_samples_split=12, n_estimators=200, total=   0.1s\n",
      "[CV] bootstrap=True, max_depth=9, max_features=3, min_samples_leaf=4, min_samples_split=12, n_estimators=300 \n",
      "[CV]  bootstrap=True, max_depth=9, max_features=3, min_samples_leaf=4, min_samples_split=12, n_estimators=300, total=   0.2s\n",
      "[CV] bootstrap=True, max_depth=9, max_features=3, min_samples_leaf=4, min_samples_split=12, n_estimators=300 \n",
      "[CV]  bootstrap=True, max_depth=9, max_features=3, min_samples_leaf=4, min_samples_split=12, n_estimators=300, total=   0.2s\n",
      "[CV] bootstrap=True, max_depth=9, max_features=3, min_samples_leaf=4, min_samples_split=12, n_estimators=300 \n",
      "[CV]  bootstrap=True, max_depth=9, max_features=3, min_samples_leaf=4, min_samples_split=12, n_estimators=300, total=   0.2s\n",
      "[CV] bootstrap=True, max_depth=9, max_features=3, min_samples_leaf=4, min_samples_split=12, n_estimators=1000 \n",
      "[CV]  bootstrap=True, max_depth=9, max_features=3, min_samples_leaf=4, min_samples_split=12, n_estimators=1000, total=   1.0s\n",
      "[CV] bootstrap=True, max_depth=9, max_features=3, min_samples_leaf=4, min_samples_split=12, n_estimators=1000 \n",
      "[CV]  bootstrap=True, max_depth=9, max_features=3, min_samples_leaf=4, min_samples_split=12, n_estimators=1000, total=   1.0s\n",
      "[CV] bootstrap=True, max_depth=9, max_features=3, min_samples_leaf=4, min_samples_split=12, n_estimators=1000 \n",
      "[CV]  bootstrap=True, max_depth=9, max_features=3, min_samples_leaf=4, min_samples_split=12, n_estimators=1000, total=   1.0s\n",
      "[CV] bootstrap=True, max_depth=9, max_features=3, min_samples_leaf=5, min_samples_split=8, n_estimators=100 \n",
      "[CV]  bootstrap=True, max_depth=9, max_features=3, min_samples_leaf=5, min_samples_split=8, n_estimators=100, total=   0.0s\n",
      "[CV] bootstrap=True, max_depth=9, max_features=3, min_samples_leaf=5, min_samples_split=8, n_estimators=100 \n"
     ]
    },
    {
     "name": "stdout",
     "output_type": "stream",
     "text": [
      "[CV]  bootstrap=True, max_depth=9, max_features=3, min_samples_leaf=5, min_samples_split=8, n_estimators=100, total=   0.0s\n",
      "[CV] bootstrap=True, max_depth=9, max_features=3, min_samples_leaf=5, min_samples_split=8, n_estimators=100 \n",
      "[CV]  bootstrap=True, max_depth=9, max_features=3, min_samples_leaf=5, min_samples_split=8, n_estimators=100, total=   0.0s\n",
      "[CV] bootstrap=True, max_depth=9, max_features=3, min_samples_leaf=5, min_samples_split=8, n_estimators=200 \n",
      "[CV]  bootstrap=True, max_depth=9, max_features=3, min_samples_leaf=5, min_samples_split=8, n_estimators=200, total=   0.1s\n",
      "[CV] bootstrap=True, max_depth=9, max_features=3, min_samples_leaf=5, min_samples_split=8, n_estimators=200 \n",
      "[CV]  bootstrap=True, max_depth=9, max_features=3, min_samples_leaf=5, min_samples_split=8, n_estimators=200, total=   0.1s\n",
      "[CV] bootstrap=True, max_depth=9, max_features=3, min_samples_leaf=5, min_samples_split=8, n_estimators=200 \n",
      "[CV]  bootstrap=True, max_depth=9, max_features=3, min_samples_leaf=5, min_samples_split=8, n_estimators=200, total=   0.1s\n",
      "[CV] bootstrap=True, max_depth=9, max_features=3, min_samples_leaf=5, min_samples_split=8, n_estimators=300 \n",
      "[CV]  bootstrap=True, max_depth=9, max_features=3, min_samples_leaf=5, min_samples_split=8, n_estimators=300, total=   0.2s\n",
      "[CV] bootstrap=True, max_depth=9, max_features=3, min_samples_leaf=5, min_samples_split=8, n_estimators=300 \n",
      "[CV]  bootstrap=True, max_depth=9, max_features=3, min_samples_leaf=5, min_samples_split=8, n_estimators=300, total=   0.2s\n",
      "[CV] bootstrap=True, max_depth=9, max_features=3, min_samples_leaf=5, min_samples_split=8, n_estimators=300 \n",
      "[CV]  bootstrap=True, max_depth=9, max_features=3, min_samples_leaf=5, min_samples_split=8, n_estimators=300, total=   0.2s\n",
      "[CV] bootstrap=True, max_depth=9, max_features=3, min_samples_leaf=5, min_samples_split=8, n_estimators=1000 \n",
      "[CV]  bootstrap=True, max_depth=9, max_features=3, min_samples_leaf=5, min_samples_split=8, n_estimators=1000, total=   1.0s\n",
      "[CV] bootstrap=True, max_depth=9, max_features=3, min_samples_leaf=5, min_samples_split=8, n_estimators=1000 \n",
      "[CV]  bootstrap=True, max_depth=9, max_features=3, min_samples_leaf=5, min_samples_split=8, n_estimators=1000, total=   0.9s\n",
      "[CV] bootstrap=True, max_depth=9, max_features=3, min_samples_leaf=5, min_samples_split=8, n_estimators=1000 \n",
      "[CV]  bootstrap=True, max_depth=9, max_features=3, min_samples_leaf=5, min_samples_split=8, n_estimators=1000, total=   1.0s\n",
      "[CV] bootstrap=True, max_depth=9, max_features=3, min_samples_leaf=5, min_samples_split=10, n_estimators=100 \n",
      "[CV]  bootstrap=True, max_depth=9, max_features=3, min_samples_leaf=5, min_samples_split=10, n_estimators=100, total=   0.0s\n",
      "[CV] bootstrap=True, max_depth=9, max_features=3, min_samples_leaf=5, min_samples_split=10, n_estimators=100 \n",
      "[CV]  bootstrap=True, max_depth=9, max_features=3, min_samples_leaf=5, min_samples_split=10, n_estimators=100, total=   0.0s\n",
      "[CV] bootstrap=True, max_depth=9, max_features=3, min_samples_leaf=5, min_samples_split=10, n_estimators=100 \n",
      "[CV]  bootstrap=True, max_depth=9, max_features=3, min_samples_leaf=5, min_samples_split=10, n_estimators=100, total=   0.0s\n",
      "[CV] bootstrap=True, max_depth=9, max_features=3, min_samples_leaf=5, min_samples_split=10, n_estimators=200 \n",
      "[CV]  bootstrap=True, max_depth=9, max_features=3, min_samples_leaf=5, min_samples_split=10, n_estimators=200, total=   0.1s\n",
      "[CV] bootstrap=True, max_depth=9, max_features=3, min_samples_leaf=5, min_samples_split=10, n_estimators=200 \n",
      "[CV]  bootstrap=True, max_depth=9, max_features=3, min_samples_leaf=5, min_samples_split=10, n_estimators=200, total=   0.1s\n",
      "[CV] bootstrap=True, max_depth=9, max_features=3, min_samples_leaf=5, min_samples_split=10, n_estimators=200 \n",
      "[CV]  bootstrap=True, max_depth=9, max_features=3, min_samples_leaf=5, min_samples_split=10, n_estimators=200, total=   0.1s\n",
      "[CV] bootstrap=True, max_depth=9, max_features=3, min_samples_leaf=5, min_samples_split=10, n_estimators=300 \n",
      "[CV]  bootstrap=True, max_depth=9, max_features=3, min_samples_leaf=5, min_samples_split=10, n_estimators=300, total=   0.2s\n",
      "[CV] bootstrap=True, max_depth=9, max_features=3, min_samples_leaf=5, min_samples_split=10, n_estimators=300 \n",
      "[CV]  bootstrap=True, max_depth=9, max_features=3, min_samples_leaf=5, min_samples_split=10, n_estimators=300, total=   0.2s\n",
      "[CV] bootstrap=True, max_depth=9, max_features=3, min_samples_leaf=5, min_samples_split=10, n_estimators=300 \n",
      "[CV]  bootstrap=True, max_depth=9, max_features=3, min_samples_leaf=5, min_samples_split=10, n_estimators=300, total=   0.2s\n",
      "[CV] bootstrap=True, max_depth=9, max_features=3, min_samples_leaf=5, min_samples_split=10, n_estimators=1000 \n",
      "[CV]  bootstrap=True, max_depth=9, max_features=3, min_samples_leaf=5, min_samples_split=10, n_estimators=1000, total=   0.9s\n",
      "[CV] bootstrap=True, max_depth=9, max_features=3, min_samples_leaf=5, min_samples_split=10, n_estimators=1000 \n",
      "[CV]  bootstrap=True, max_depth=9, max_features=3, min_samples_leaf=5, min_samples_split=10, n_estimators=1000, total=   0.9s\n",
      "[CV] bootstrap=True, max_depth=9, max_features=3, min_samples_leaf=5, min_samples_split=10, n_estimators=1000 \n",
      "[CV]  bootstrap=True, max_depth=9, max_features=3, min_samples_leaf=5, min_samples_split=10, n_estimators=1000, total=   0.9s\n",
      "[CV] bootstrap=True, max_depth=9, max_features=3, min_samples_leaf=5, min_samples_split=12, n_estimators=100 \n",
      "[CV]  bootstrap=True, max_depth=9, max_features=3, min_samples_leaf=5, min_samples_split=12, n_estimators=100, total=   0.0s\n",
      "[CV] bootstrap=True, max_depth=9, max_features=3, min_samples_leaf=5, min_samples_split=12, n_estimators=100 \n",
      "[CV]  bootstrap=True, max_depth=9, max_features=3, min_samples_leaf=5, min_samples_split=12, n_estimators=100, total=   0.0s\n",
      "[CV] bootstrap=True, max_depth=9, max_features=3, min_samples_leaf=5, min_samples_split=12, n_estimators=100 \n",
      "[CV]  bootstrap=True, max_depth=9, max_features=3, min_samples_leaf=5, min_samples_split=12, n_estimators=100, total=   0.0s\n",
      "[CV] bootstrap=True, max_depth=9, max_features=3, min_samples_leaf=5, min_samples_split=12, n_estimators=200 \n",
      "[CV]  bootstrap=True, max_depth=9, max_features=3, min_samples_leaf=5, min_samples_split=12, n_estimators=200, total=   0.1s\n",
      "[CV] bootstrap=True, max_depth=9, max_features=3, min_samples_leaf=5, min_samples_split=12, n_estimators=200 \n",
      "[CV]  bootstrap=True, max_depth=9, max_features=3, min_samples_leaf=5, min_samples_split=12, n_estimators=200, total=   0.1s\n",
      "[CV] bootstrap=True, max_depth=9, max_features=3, min_samples_leaf=5, min_samples_split=12, n_estimators=200 \n",
      "[CV]  bootstrap=True, max_depth=9, max_features=3, min_samples_leaf=5, min_samples_split=12, n_estimators=200, total=   0.1s\n",
      "[CV] bootstrap=True, max_depth=9, max_features=3, min_samples_leaf=5, min_samples_split=12, n_estimators=300 \n",
      "[CV]  bootstrap=True, max_depth=9, max_features=3, min_samples_leaf=5, min_samples_split=12, n_estimators=300, total=   0.2s\n",
      "[CV] bootstrap=True, max_depth=9, max_features=3, min_samples_leaf=5, min_samples_split=12, n_estimators=300 \n",
      "[CV]  bootstrap=True, max_depth=9, max_features=3, min_samples_leaf=5, min_samples_split=12, n_estimators=300, total=   0.2s\n",
      "[CV] bootstrap=True, max_depth=9, max_features=3, min_samples_leaf=5, min_samples_split=12, n_estimators=300 \n",
      "[CV]  bootstrap=True, max_depth=9, max_features=3, min_samples_leaf=5, min_samples_split=12, n_estimators=300, total=   0.2s\n",
      "[CV] bootstrap=True, max_depth=9, max_features=3, min_samples_leaf=5, min_samples_split=12, n_estimators=1000 \n",
      "[CV]  bootstrap=True, max_depth=9, max_features=3, min_samples_leaf=5, min_samples_split=12, n_estimators=1000, total=   0.9s\n",
      "[CV] bootstrap=True, max_depth=9, max_features=3, min_samples_leaf=5, min_samples_split=12, n_estimators=1000 \n",
      "[CV]  bootstrap=True, max_depth=9, max_features=3, min_samples_leaf=5, min_samples_split=12, n_estimators=1000, total=   0.9s\n",
      "[CV] bootstrap=True, max_depth=9, max_features=3, min_samples_leaf=5, min_samples_split=12, n_estimators=1000 \n",
      "[CV]  bootstrap=True, max_depth=9, max_features=3, min_samples_leaf=5, min_samples_split=12, n_estimators=1000, total=   1.0s\n",
      "[CV] bootstrap=True, max_depth=10, max_features=2, min_samples_leaf=3, min_samples_split=8, n_estimators=100 \n",
      "[CV]  bootstrap=True, max_depth=10, max_features=2, min_samples_leaf=3, min_samples_split=8, n_estimators=100, total=   0.0s\n",
      "[CV] bootstrap=True, max_depth=10, max_features=2, min_samples_leaf=3, min_samples_split=8, n_estimators=100 \n"
     ]
    },
    {
     "name": "stdout",
     "output_type": "stream",
     "text": [
      "[CV]  bootstrap=True, max_depth=10, max_features=2, min_samples_leaf=3, min_samples_split=8, n_estimators=100, total=   0.0s\n",
      "[CV] bootstrap=True, max_depth=10, max_features=2, min_samples_leaf=3, min_samples_split=8, n_estimators=100 \n",
      "[CV]  bootstrap=True, max_depth=10, max_features=2, min_samples_leaf=3, min_samples_split=8, n_estimators=100, total=   0.0s\n",
      "[CV] bootstrap=True, max_depth=10, max_features=2, min_samples_leaf=3, min_samples_split=8, n_estimators=200 \n",
      "[CV]  bootstrap=True, max_depth=10, max_features=2, min_samples_leaf=3, min_samples_split=8, n_estimators=200, total=   0.1s\n",
      "[CV] bootstrap=True, max_depth=10, max_features=2, min_samples_leaf=3, min_samples_split=8, n_estimators=200 \n",
      "[CV]  bootstrap=True, max_depth=10, max_features=2, min_samples_leaf=3, min_samples_split=8, n_estimators=200, total=   0.1s\n",
      "[CV] bootstrap=True, max_depth=10, max_features=2, min_samples_leaf=3, min_samples_split=8, n_estimators=200 \n",
      "[CV]  bootstrap=True, max_depth=10, max_features=2, min_samples_leaf=3, min_samples_split=8, n_estimators=200, total=   0.1s\n",
      "[CV] bootstrap=True, max_depth=10, max_features=2, min_samples_leaf=3, min_samples_split=8, n_estimators=300 \n",
      "[CV]  bootstrap=True, max_depth=10, max_features=2, min_samples_leaf=3, min_samples_split=8, n_estimators=300, total=   0.2s\n",
      "[CV] bootstrap=True, max_depth=10, max_features=2, min_samples_leaf=3, min_samples_split=8, n_estimators=300 \n",
      "[CV]  bootstrap=True, max_depth=10, max_features=2, min_samples_leaf=3, min_samples_split=8, n_estimators=300, total=   0.2s\n",
      "[CV] bootstrap=True, max_depth=10, max_features=2, min_samples_leaf=3, min_samples_split=8, n_estimators=300 \n",
      "[CV]  bootstrap=True, max_depth=10, max_features=2, min_samples_leaf=3, min_samples_split=8, n_estimators=300, total=   0.2s\n",
      "[CV] bootstrap=True, max_depth=10, max_features=2, min_samples_leaf=3, min_samples_split=8, n_estimators=1000 \n",
      "[CV]  bootstrap=True, max_depth=10, max_features=2, min_samples_leaf=3, min_samples_split=8, n_estimators=1000, total=   1.2s\n",
      "[CV] bootstrap=True, max_depth=10, max_features=2, min_samples_leaf=3, min_samples_split=8, n_estimators=1000 \n",
      "[CV]  bootstrap=True, max_depth=10, max_features=2, min_samples_leaf=3, min_samples_split=8, n_estimators=1000, total=   1.0s\n",
      "[CV] bootstrap=True, max_depth=10, max_features=2, min_samples_leaf=3, min_samples_split=8, n_estimators=1000 \n",
      "[CV]  bootstrap=True, max_depth=10, max_features=2, min_samples_leaf=3, min_samples_split=8, n_estimators=1000, total=   1.0s\n",
      "[CV] bootstrap=True, max_depth=10, max_features=2, min_samples_leaf=3, min_samples_split=10, n_estimators=100 \n",
      "[CV]  bootstrap=True, max_depth=10, max_features=2, min_samples_leaf=3, min_samples_split=10, n_estimators=100, total=   0.0s\n",
      "[CV] bootstrap=True, max_depth=10, max_features=2, min_samples_leaf=3, min_samples_split=10, n_estimators=100 \n",
      "[CV]  bootstrap=True, max_depth=10, max_features=2, min_samples_leaf=3, min_samples_split=10, n_estimators=100, total=   0.0s\n",
      "[CV] bootstrap=True, max_depth=10, max_features=2, min_samples_leaf=3, min_samples_split=10, n_estimators=100 \n",
      "[CV]  bootstrap=True, max_depth=10, max_features=2, min_samples_leaf=3, min_samples_split=10, n_estimators=100, total=   0.0s\n",
      "[CV] bootstrap=True, max_depth=10, max_features=2, min_samples_leaf=3, min_samples_split=10, n_estimators=200 \n",
      "[CV]  bootstrap=True, max_depth=10, max_features=2, min_samples_leaf=3, min_samples_split=10, n_estimators=200, total=   0.1s\n",
      "[CV] bootstrap=True, max_depth=10, max_features=2, min_samples_leaf=3, min_samples_split=10, n_estimators=200 \n",
      "[CV]  bootstrap=True, max_depth=10, max_features=2, min_samples_leaf=3, min_samples_split=10, n_estimators=200, total=   0.1s\n",
      "[CV] bootstrap=True, max_depth=10, max_features=2, min_samples_leaf=3, min_samples_split=10, n_estimators=200 \n",
      "[CV]  bootstrap=True, max_depth=10, max_features=2, min_samples_leaf=3, min_samples_split=10, n_estimators=200, total=   0.1s\n",
      "[CV] bootstrap=True, max_depth=10, max_features=2, min_samples_leaf=3, min_samples_split=10, n_estimators=300 \n",
      "[CV]  bootstrap=True, max_depth=10, max_features=2, min_samples_leaf=3, min_samples_split=10, n_estimators=300, total=   0.2s\n",
      "[CV] bootstrap=True, max_depth=10, max_features=2, min_samples_leaf=3, min_samples_split=10, n_estimators=300 \n",
      "[CV]  bootstrap=True, max_depth=10, max_features=2, min_samples_leaf=3, min_samples_split=10, n_estimators=300, total=   0.2s\n",
      "[CV] bootstrap=True, max_depth=10, max_features=2, min_samples_leaf=3, min_samples_split=10, n_estimators=300 \n",
      "[CV]  bootstrap=True, max_depth=10, max_features=2, min_samples_leaf=3, min_samples_split=10, n_estimators=300, total=   0.2s\n",
      "[CV] bootstrap=True, max_depth=10, max_features=2, min_samples_leaf=3, min_samples_split=10, n_estimators=1000 \n",
      "[CV]  bootstrap=True, max_depth=10, max_features=2, min_samples_leaf=3, min_samples_split=10, n_estimators=1000, total=   1.0s\n",
      "[CV] bootstrap=True, max_depth=10, max_features=2, min_samples_leaf=3, min_samples_split=10, n_estimators=1000 \n",
      "[CV]  bootstrap=True, max_depth=10, max_features=2, min_samples_leaf=3, min_samples_split=10, n_estimators=1000, total=   0.9s\n",
      "[CV] bootstrap=True, max_depth=10, max_features=2, min_samples_leaf=3, min_samples_split=10, n_estimators=1000 \n",
      "[CV]  bootstrap=True, max_depth=10, max_features=2, min_samples_leaf=3, min_samples_split=10, n_estimators=1000, total=   1.0s\n",
      "[CV] bootstrap=True, max_depth=10, max_features=2, min_samples_leaf=3, min_samples_split=12, n_estimators=100 \n",
      "[CV]  bootstrap=True, max_depth=10, max_features=2, min_samples_leaf=3, min_samples_split=12, n_estimators=100, total=   0.0s\n",
      "[CV] bootstrap=True, max_depth=10, max_features=2, min_samples_leaf=3, min_samples_split=12, n_estimators=100 \n",
      "[CV]  bootstrap=True, max_depth=10, max_features=2, min_samples_leaf=3, min_samples_split=12, n_estimators=100, total=   0.0s\n",
      "[CV] bootstrap=True, max_depth=10, max_features=2, min_samples_leaf=3, min_samples_split=12, n_estimators=100 \n",
      "[CV]  bootstrap=True, max_depth=10, max_features=2, min_samples_leaf=3, min_samples_split=12, n_estimators=100, total=   0.0s\n",
      "[CV] bootstrap=True, max_depth=10, max_features=2, min_samples_leaf=3, min_samples_split=12, n_estimators=200 \n",
      "[CV]  bootstrap=True, max_depth=10, max_features=2, min_samples_leaf=3, min_samples_split=12, n_estimators=200, total=   0.1s\n",
      "[CV] bootstrap=True, max_depth=10, max_features=2, min_samples_leaf=3, min_samples_split=12, n_estimators=200 \n",
      "[CV]  bootstrap=True, max_depth=10, max_features=2, min_samples_leaf=3, min_samples_split=12, n_estimators=200, total=   0.1s\n",
      "[CV] bootstrap=True, max_depth=10, max_features=2, min_samples_leaf=3, min_samples_split=12, n_estimators=200 \n",
      "[CV]  bootstrap=True, max_depth=10, max_features=2, min_samples_leaf=3, min_samples_split=12, n_estimators=200, total=   0.1s\n",
      "[CV] bootstrap=True, max_depth=10, max_features=2, min_samples_leaf=3, min_samples_split=12, n_estimators=300 \n",
      "[CV]  bootstrap=True, max_depth=10, max_features=2, min_samples_leaf=3, min_samples_split=12, n_estimators=300, total=   0.2s\n",
      "[CV] bootstrap=True, max_depth=10, max_features=2, min_samples_leaf=3, min_samples_split=12, n_estimators=300 \n",
      "[CV]  bootstrap=True, max_depth=10, max_features=2, min_samples_leaf=3, min_samples_split=12, n_estimators=300, total=   0.2s\n",
      "[CV] bootstrap=True, max_depth=10, max_features=2, min_samples_leaf=3, min_samples_split=12, n_estimators=300 \n",
      "[CV]  bootstrap=True, max_depth=10, max_features=2, min_samples_leaf=3, min_samples_split=12, n_estimators=300, total=   0.2s\n",
      "[CV] bootstrap=True, max_depth=10, max_features=2, min_samples_leaf=3, min_samples_split=12, n_estimators=1000 \n",
      "[CV]  bootstrap=True, max_depth=10, max_features=2, min_samples_leaf=3, min_samples_split=12, n_estimators=1000, total=   0.9s\n",
      "[CV] bootstrap=True, max_depth=10, max_features=2, min_samples_leaf=3, min_samples_split=12, n_estimators=1000 \n",
      "[CV]  bootstrap=True, max_depth=10, max_features=2, min_samples_leaf=3, min_samples_split=12, n_estimators=1000, total=   0.9s\n",
      "[CV] bootstrap=True, max_depth=10, max_features=2, min_samples_leaf=3, min_samples_split=12, n_estimators=1000 \n",
      "[CV]  bootstrap=True, max_depth=10, max_features=2, min_samples_leaf=3, min_samples_split=12, n_estimators=1000, total=   0.9s\n",
      "[CV] bootstrap=True, max_depth=10, max_features=2, min_samples_leaf=4, min_samples_split=8, n_estimators=100 \n",
      "[CV]  bootstrap=True, max_depth=10, max_features=2, min_samples_leaf=4, min_samples_split=8, n_estimators=100, total=   0.0s\n",
      "[CV] bootstrap=True, max_depth=10, max_features=2, min_samples_leaf=4, min_samples_split=8, n_estimators=100 \n"
     ]
    },
    {
     "name": "stdout",
     "output_type": "stream",
     "text": [
      "[CV]  bootstrap=True, max_depth=10, max_features=2, min_samples_leaf=4, min_samples_split=8, n_estimators=100, total=   0.0s\n",
      "[CV] bootstrap=True, max_depth=10, max_features=2, min_samples_leaf=4, min_samples_split=8, n_estimators=100 \n",
      "[CV]  bootstrap=True, max_depth=10, max_features=2, min_samples_leaf=4, min_samples_split=8, n_estimators=100, total=   0.0s\n",
      "[CV] bootstrap=True, max_depth=10, max_features=2, min_samples_leaf=4, min_samples_split=8, n_estimators=200 \n",
      "[CV]  bootstrap=True, max_depth=10, max_features=2, min_samples_leaf=4, min_samples_split=8, n_estimators=200, total=   0.1s\n",
      "[CV] bootstrap=True, max_depth=10, max_features=2, min_samples_leaf=4, min_samples_split=8, n_estimators=200 \n",
      "[CV]  bootstrap=True, max_depth=10, max_features=2, min_samples_leaf=4, min_samples_split=8, n_estimators=200, total=   0.1s\n",
      "[CV] bootstrap=True, max_depth=10, max_features=2, min_samples_leaf=4, min_samples_split=8, n_estimators=200 \n",
      "[CV]  bootstrap=True, max_depth=10, max_features=2, min_samples_leaf=4, min_samples_split=8, n_estimators=200, total=   0.1s\n",
      "[CV] bootstrap=True, max_depth=10, max_features=2, min_samples_leaf=4, min_samples_split=8, n_estimators=300 \n",
      "[CV]  bootstrap=True, max_depth=10, max_features=2, min_samples_leaf=4, min_samples_split=8, n_estimators=300, total=   0.2s\n",
      "[CV] bootstrap=True, max_depth=10, max_features=2, min_samples_leaf=4, min_samples_split=8, n_estimators=300 \n",
      "[CV]  bootstrap=True, max_depth=10, max_features=2, min_samples_leaf=4, min_samples_split=8, n_estimators=300, total=   0.2s\n",
      "[CV] bootstrap=True, max_depth=10, max_features=2, min_samples_leaf=4, min_samples_split=8, n_estimators=300 \n",
      "[CV]  bootstrap=True, max_depth=10, max_features=2, min_samples_leaf=4, min_samples_split=8, n_estimators=300, total=   0.2s\n",
      "[CV] bootstrap=True, max_depth=10, max_features=2, min_samples_leaf=4, min_samples_split=8, n_estimators=1000 \n",
      "[CV]  bootstrap=True, max_depth=10, max_features=2, min_samples_leaf=4, min_samples_split=8, n_estimators=1000, total=   1.0s\n",
      "[CV] bootstrap=True, max_depth=10, max_features=2, min_samples_leaf=4, min_samples_split=8, n_estimators=1000 \n",
      "[CV]  bootstrap=True, max_depth=10, max_features=2, min_samples_leaf=4, min_samples_split=8, n_estimators=1000, total=   0.9s\n",
      "[CV] bootstrap=True, max_depth=10, max_features=2, min_samples_leaf=4, min_samples_split=8, n_estimators=1000 \n",
      "[CV]  bootstrap=True, max_depth=10, max_features=2, min_samples_leaf=4, min_samples_split=8, n_estimators=1000, total=   0.9s\n",
      "[CV] bootstrap=True, max_depth=10, max_features=2, min_samples_leaf=4, min_samples_split=10, n_estimators=100 \n",
      "[CV]  bootstrap=True, max_depth=10, max_features=2, min_samples_leaf=4, min_samples_split=10, n_estimators=100, total=   0.0s\n",
      "[CV] bootstrap=True, max_depth=10, max_features=2, min_samples_leaf=4, min_samples_split=10, n_estimators=100 \n",
      "[CV]  bootstrap=True, max_depth=10, max_features=2, min_samples_leaf=4, min_samples_split=10, n_estimators=100, total=   0.0s\n",
      "[CV] bootstrap=True, max_depth=10, max_features=2, min_samples_leaf=4, min_samples_split=10, n_estimators=100 \n",
      "[CV]  bootstrap=True, max_depth=10, max_features=2, min_samples_leaf=4, min_samples_split=10, n_estimators=100, total=   0.0s\n",
      "[CV] bootstrap=True, max_depth=10, max_features=2, min_samples_leaf=4, min_samples_split=10, n_estimators=200 \n",
      "[CV]  bootstrap=True, max_depth=10, max_features=2, min_samples_leaf=4, min_samples_split=10, n_estimators=200, total=   0.1s\n",
      "[CV] bootstrap=True, max_depth=10, max_features=2, min_samples_leaf=4, min_samples_split=10, n_estimators=200 \n",
      "[CV]  bootstrap=True, max_depth=10, max_features=2, min_samples_leaf=4, min_samples_split=10, n_estimators=200, total=   0.1s\n",
      "[CV] bootstrap=True, max_depth=10, max_features=2, min_samples_leaf=4, min_samples_split=10, n_estimators=200 \n",
      "[CV]  bootstrap=True, max_depth=10, max_features=2, min_samples_leaf=4, min_samples_split=10, n_estimators=200, total=   0.1s\n",
      "[CV] bootstrap=True, max_depth=10, max_features=2, min_samples_leaf=4, min_samples_split=10, n_estimators=300 \n",
      "[CV]  bootstrap=True, max_depth=10, max_features=2, min_samples_leaf=4, min_samples_split=10, n_estimators=300, total=   0.2s\n",
      "[CV] bootstrap=True, max_depth=10, max_features=2, min_samples_leaf=4, min_samples_split=10, n_estimators=300 \n",
      "[CV]  bootstrap=True, max_depth=10, max_features=2, min_samples_leaf=4, min_samples_split=10, n_estimators=300, total=   0.2s\n",
      "[CV] bootstrap=True, max_depth=10, max_features=2, min_samples_leaf=4, min_samples_split=10, n_estimators=300 \n",
      "[CV]  bootstrap=True, max_depth=10, max_features=2, min_samples_leaf=4, min_samples_split=10, n_estimators=300, total=   0.2s\n",
      "[CV] bootstrap=True, max_depth=10, max_features=2, min_samples_leaf=4, min_samples_split=10, n_estimators=1000 \n",
      "[CV]  bootstrap=True, max_depth=10, max_features=2, min_samples_leaf=4, min_samples_split=10, n_estimators=1000, total=   0.9s\n",
      "[CV] bootstrap=True, max_depth=10, max_features=2, min_samples_leaf=4, min_samples_split=10, n_estimators=1000 \n",
      "[CV]  bootstrap=True, max_depth=10, max_features=2, min_samples_leaf=4, min_samples_split=10, n_estimators=1000, total=   0.9s\n",
      "[CV] bootstrap=True, max_depth=10, max_features=2, min_samples_leaf=4, min_samples_split=10, n_estimators=1000 \n",
      "[CV]  bootstrap=True, max_depth=10, max_features=2, min_samples_leaf=4, min_samples_split=10, n_estimators=1000, total=   0.9s\n",
      "[CV] bootstrap=True, max_depth=10, max_features=2, min_samples_leaf=4, min_samples_split=12, n_estimators=100 \n",
      "[CV]  bootstrap=True, max_depth=10, max_features=2, min_samples_leaf=4, min_samples_split=12, n_estimators=100, total=   0.0s\n",
      "[CV] bootstrap=True, max_depth=10, max_features=2, min_samples_leaf=4, min_samples_split=12, n_estimators=100 \n",
      "[CV]  bootstrap=True, max_depth=10, max_features=2, min_samples_leaf=4, min_samples_split=12, n_estimators=100, total=   0.0s\n",
      "[CV] bootstrap=True, max_depth=10, max_features=2, min_samples_leaf=4, min_samples_split=12, n_estimators=100 \n",
      "[CV]  bootstrap=True, max_depth=10, max_features=2, min_samples_leaf=4, min_samples_split=12, n_estimators=100, total=   0.0s\n",
      "[CV] bootstrap=True, max_depth=10, max_features=2, min_samples_leaf=4, min_samples_split=12, n_estimators=200 \n",
      "[CV]  bootstrap=True, max_depth=10, max_features=2, min_samples_leaf=4, min_samples_split=12, n_estimators=200, total=   0.1s\n",
      "[CV] bootstrap=True, max_depth=10, max_features=2, min_samples_leaf=4, min_samples_split=12, n_estimators=200 \n",
      "[CV]  bootstrap=True, max_depth=10, max_features=2, min_samples_leaf=4, min_samples_split=12, n_estimators=200, total=   0.1s\n",
      "[CV] bootstrap=True, max_depth=10, max_features=2, min_samples_leaf=4, min_samples_split=12, n_estimators=200 \n",
      "[CV]  bootstrap=True, max_depth=10, max_features=2, min_samples_leaf=4, min_samples_split=12, n_estimators=200, total=   0.2s\n",
      "[CV] bootstrap=True, max_depth=10, max_features=2, min_samples_leaf=4, min_samples_split=12, n_estimators=300 \n",
      "[CV]  bootstrap=True, max_depth=10, max_features=2, min_samples_leaf=4, min_samples_split=12, n_estimators=300, total=   0.3s\n",
      "[CV] bootstrap=True, max_depth=10, max_features=2, min_samples_leaf=4, min_samples_split=12, n_estimators=300 \n",
      "[CV]  bootstrap=True, max_depth=10, max_features=2, min_samples_leaf=4, min_samples_split=12, n_estimators=300, total=   0.3s\n",
      "[CV] bootstrap=True, max_depth=10, max_features=2, min_samples_leaf=4, min_samples_split=12, n_estimators=300 \n",
      "[CV]  bootstrap=True, max_depth=10, max_features=2, min_samples_leaf=4, min_samples_split=12, n_estimators=300, total=   0.3s\n",
      "[CV] bootstrap=True, max_depth=10, max_features=2, min_samples_leaf=4, min_samples_split=12, n_estimators=1000 \n",
      "[CV]  bootstrap=True, max_depth=10, max_features=2, min_samples_leaf=4, min_samples_split=12, n_estimators=1000, total=   1.2s\n",
      "[CV] bootstrap=True, max_depth=10, max_features=2, min_samples_leaf=4, min_samples_split=12, n_estimators=1000 \n",
      "[CV]  bootstrap=True, max_depth=10, max_features=2, min_samples_leaf=4, min_samples_split=12, n_estimators=1000, total=   1.0s\n",
      "[CV] bootstrap=True, max_depth=10, max_features=2, min_samples_leaf=4, min_samples_split=12, n_estimators=1000 \n",
      "[CV]  bootstrap=True, max_depth=10, max_features=2, min_samples_leaf=4, min_samples_split=12, n_estimators=1000, total=   0.9s\n",
      "[CV] bootstrap=True, max_depth=10, max_features=2, min_samples_leaf=5, min_samples_split=8, n_estimators=100 \n",
      "[CV]  bootstrap=True, max_depth=10, max_features=2, min_samples_leaf=5, min_samples_split=8, n_estimators=100, total=   0.0s\n",
      "[CV] bootstrap=True, max_depth=10, max_features=2, min_samples_leaf=5, min_samples_split=8, n_estimators=100 \n"
     ]
    },
    {
     "name": "stdout",
     "output_type": "stream",
     "text": [
      "[CV]  bootstrap=True, max_depth=10, max_features=2, min_samples_leaf=5, min_samples_split=8, n_estimators=100, total=   0.0s\n",
      "[CV] bootstrap=True, max_depth=10, max_features=2, min_samples_leaf=5, min_samples_split=8, n_estimators=100 \n",
      "[CV]  bootstrap=True, max_depth=10, max_features=2, min_samples_leaf=5, min_samples_split=8, n_estimators=100, total=   0.0s\n",
      "[CV] bootstrap=True, max_depth=10, max_features=2, min_samples_leaf=5, min_samples_split=8, n_estimators=200 \n",
      "[CV]  bootstrap=True, max_depth=10, max_features=2, min_samples_leaf=5, min_samples_split=8, n_estimators=200, total=   0.1s\n",
      "[CV] bootstrap=True, max_depth=10, max_features=2, min_samples_leaf=5, min_samples_split=8, n_estimators=200 \n",
      "[CV]  bootstrap=True, max_depth=10, max_features=2, min_samples_leaf=5, min_samples_split=8, n_estimators=200, total=   0.1s\n",
      "[CV] bootstrap=True, max_depth=10, max_features=2, min_samples_leaf=5, min_samples_split=8, n_estimators=200 \n",
      "[CV]  bootstrap=True, max_depth=10, max_features=2, min_samples_leaf=5, min_samples_split=8, n_estimators=200, total=   0.1s\n",
      "[CV] bootstrap=True, max_depth=10, max_features=2, min_samples_leaf=5, min_samples_split=8, n_estimators=300 \n",
      "[CV]  bootstrap=True, max_depth=10, max_features=2, min_samples_leaf=5, min_samples_split=8, n_estimators=300, total=   0.2s\n",
      "[CV] bootstrap=True, max_depth=10, max_features=2, min_samples_leaf=5, min_samples_split=8, n_estimators=300 \n",
      "[CV]  bootstrap=True, max_depth=10, max_features=2, min_samples_leaf=5, min_samples_split=8, n_estimators=300, total=   0.2s\n",
      "[CV] bootstrap=True, max_depth=10, max_features=2, min_samples_leaf=5, min_samples_split=8, n_estimators=300 \n",
      "[CV]  bootstrap=True, max_depth=10, max_features=2, min_samples_leaf=5, min_samples_split=8, n_estimators=300, total=   0.2s\n",
      "[CV] bootstrap=True, max_depth=10, max_features=2, min_samples_leaf=5, min_samples_split=8, n_estimators=1000 \n",
      "[CV]  bootstrap=True, max_depth=10, max_features=2, min_samples_leaf=5, min_samples_split=8, n_estimators=1000, total=   0.9s\n",
      "[CV] bootstrap=True, max_depth=10, max_features=2, min_samples_leaf=5, min_samples_split=8, n_estimators=1000 \n",
      "[CV]  bootstrap=True, max_depth=10, max_features=2, min_samples_leaf=5, min_samples_split=8, n_estimators=1000, total=   0.9s\n",
      "[CV] bootstrap=True, max_depth=10, max_features=2, min_samples_leaf=5, min_samples_split=8, n_estimators=1000 \n",
      "[CV]  bootstrap=True, max_depth=10, max_features=2, min_samples_leaf=5, min_samples_split=8, n_estimators=1000, total=   1.0s\n",
      "[CV] bootstrap=True, max_depth=10, max_features=2, min_samples_leaf=5, min_samples_split=10, n_estimators=100 \n",
      "[CV]  bootstrap=True, max_depth=10, max_features=2, min_samples_leaf=5, min_samples_split=10, n_estimators=100, total=   0.0s\n",
      "[CV] bootstrap=True, max_depth=10, max_features=2, min_samples_leaf=5, min_samples_split=10, n_estimators=100 \n",
      "[CV]  bootstrap=True, max_depth=10, max_features=2, min_samples_leaf=5, min_samples_split=10, n_estimators=100, total=   0.0s\n",
      "[CV] bootstrap=True, max_depth=10, max_features=2, min_samples_leaf=5, min_samples_split=10, n_estimators=100 \n",
      "[CV]  bootstrap=True, max_depth=10, max_features=2, min_samples_leaf=5, min_samples_split=10, n_estimators=100, total=   0.0s\n",
      "[CV] bootstrap=True, max_depth=10, max_features=2, min_samples_leaf=5, min_samples_split=10, n_estimators=200 \n",
      "[CV]  bootstrap=True, max_depth=10, max_features=2, min_samples_leaf=5, min_samples_split=10, n_estimators=200, total=   0.1s\n",
      "[CV] bootstrap=True, max_depth=10, max_features=2, min_samples_leaf=5, min_samples_split=10, n_estimators=200 \n",
      "[CV]  bootstrap=True, max_depth=10, max_features=2, min_samples_leaf=5, min_samples_split=10, n_estimators=200, total=   0.1s\n",
      "[CV] bootstrap=True, max_depth=10, max_features=2, min_samples_leaf=5, min_samples_split=10, n_estimators=200 \n",
      "[CV]  bootstrap=True, max_depth=10, max_features=2, min_samples_leaf=5, min_samples_split=10, n_estimators=200, total=   0.1s\n",
      "[CV] bootstrap=True, max_depth=10, max_features=2, min_samples_leaf=5, min_samples_split=10, n_estimators=300 \n",
      "[CV]  bootstrap=True, max_depth=10, max_features=2, min_samples_leaf=5, min_samples_split=10, n_estimators=300, total=   0.2s\n",
      "[CV] bootstrap=True, max_depth=10, max_features=2, min_samples_leaf=5, min_samples_split=10, n_estimators=300 \n",
      "[CV]  bootstrap=True, max_depth=10, max_features=2, min_samples_leaf=5, min_samples_split=10, n_estimators=300, total=   0.2s\n",
      "[CV] bootstrap=True, max_depth=10, max_features=2, min_samples_leaf=5, min_samples_split=10, n_estimators=300 \n",
      "[CV]  bootstrap=True, max_depth=10, max_features=2, min_samples_leaf=5, min_samples_split=10, n_estimators=300, total=   0.2s\n",
      "[CV] bootstrap=True, max_depth=10, max_features=2, min_samples_leaf=5, min_samples_split=10, n_estimators=1000 \n",
      "[CV]  bootstrap=True, max_depth=10, max_features=2, min_samples_leaf=5, min_samples_split=10, n_estimators=1000, total=   0.9s\n",
      "[CV] bootstrap=True, max_depth=10, max_features=2, min_samples_leaf=5, min_samples_split=10, n_estimators=1000 \n",
      "[CV]  bootstrap=True, max_depth=10, max_features=2, min_samples_leaf=5, min_samples_split=10, n_estimators=1000, total=   0.9s\n",
      "[CV] bootstrap=True, max_depth=10, max_features=2, min_samples_leaf=5, min_samples_split=10, n_estimators=1000 \n",
      "[CV]  bootstrap=True, max_depth=10, max_features=2, min_samples_leaf=5, min_samples_split=10, n_estimators=1000, total=   0.9s\n",
      "[CV] bootstrap=True, max_depth=10, max_features=2, min_samples_leaf=5, min_samples_split=12, n_estimators=100 \n",
      "[CV]  bootstrap=True, max_depth=10, max_features=2, min_samples_leaf=5, min_samples_split=12, n_estimators=100, total=   0.0s\n",
      "[CV] bootstrap=True, max_depth=10, max_features=2, min_samples_leaf=5, min_samples_split=12, n_estimators=100 \n",
      "[CV]  bootstrap=True, max_depth=10, max_features=2, min_samples_leaf=5, min_samples_split=12, n_estimators=100, total=   0.0s\n",
      "[CV] bootstrap=True, max_depth=10, max_features=2, min_samples_leaf=5, min_samples_split=12, n_estimators=100 \n",
      "[CV]  bootstrap=True, max_depth=10, max_features=2, min_samples_leaf=5, min_samples_split=12, n_estimators=100, total=   0.0s\n",
      "[CV] bootstrap=True, max_depth=10, max_features=2, min_samples_leaf=5, min_samples_split=12, n_estimators=200 \n",
      "[CV]  bootstrap=True, max_depth=10, max_features=2, min_samples_leaf=5, min_samples_split=12, n_estimators=200, total=   0.1s\n",
      "[CV] bootstrap=True, max_depth=10, max_features=2, min_samples_leaf=5, min_samples_split=12, n_estimators=200 \n",
      "[CV]  bootstrap=True, max_depth=10, max_features=2, min_samples_leaf=5, min_samples_split=12, n_estimators=200, total=   0.1s\n",
      "[CV] bootstrap=True, max_depth=10, max_features=2, min_samples_leaf=5, min_samples_split=12, n_estimators=200 \n",
      "[CV]  bootstrap=True, max_depth=10, max_features=2, min_samples_leaf=5, min_samples_split=12, n_estimators=200, total=   0.1s\n",
      "[CV] bootstrap=True, max_depth=10, max_features=2, min_samples_leaf=5, min_samples_split=12, n_estimators=300 \n",
      "[CV]  bootstrap=True, max_depth=10, max_features=2, min_samples_leaf=5, min_samples_split=12, n_estimators=300, total=   0.2s\n",
      "[CV] bootstrap=True, max_depth=10, max_features=2, min_samples_leaf=5, min_samples_split=12, n_estimators=300 \n",
      "[CV]  bootstrap=True, max_depth=10, max_features=2, min_samples_leaf=5, min_samples_split=12, n_estimators=300, total=   0.2s\n",
      "[CV] bootstrap=True, max_depth=10, max_features=2, min_samples_leaf=5, min_samples_split=12, n_estimators=300 \n",
      "[CV]  bootstrap=True, max_depth=10, max_features=2, min_samples_leaf=5, min_samples_split=12, n_estimators=300, total=   0.2s\n",
      "[CV] bootstrap=True, max_depth=10, max_features=2, min_samples_leaf=5, min_samples_split=12, n_estimators=1000 \n",
      "[CV]  bootstrap=True, max_depth=10, max_features=2, min_samples_leaf=5, min_samples_split=12, n_estimators=1000, total=   0.9s\n",
      "[CV] bootstrap=True, max_depth=10, max_features=2, min_samples_leaf=5, min_samples_split=12, n_estimators=1000 \n",
      "[CV]  bootstrap=True, max_depth=10, max_features=2, min_samples_leaf=5, min_samples_split=12, n_estimators=1000, total=   0.9s\n",
      "[CV] bootstrap=True, max_depth=10, max_features=2, min_samples_leaf=5, min_samples_split=12, n_estimators=1000 \n",
      "[CV]  bootstrap=True, max_depth=10, max_features=2, min_samples_leaf=5, min_samples_split=12, n_estimators=1000, total=   0.9s\n",
      "[CV] bootstrap=True, max_depth=10, max_features=3, min_samples_leaf=3, min_samples_split=8, n_estimators=100 \n",
      "[CV]  bootstrap=True, max_depth=10, max_features=3, min_samples_leaf=3, min_samples_split=8, n_estimators=100, total=   0.0s\n",
      "[CV] bootstrap=True, max_depth=10, max_features=3, min_samples_leaf=3, min_samples_split=8, n_estimators=100 \n"
     ]
    },
    {
     "name": "stdout",
     "output_type": "stream",
     "text": [
      "[CV]  bootstrap=True, max_depth=10, max_features=3, min_samples_leaf=3, min_samples_split=8, n_estimators=100, total=   0.0s\n",
      "[CV] bootstrap=True, max_depth=10, max_features=3, min_samples_leaf=3, min_samples_split=8, n_estimators=100 \n",
      "[CV]  bootstrap=True, max_depth=10, max_features=3, min_samples_leaf=3, min_samples_split=8, n_estimators=100, total=   0.0s\n",
      "[CV] bootstrap=True, max_depth=10, max_features=3, min_samples_leaf=3, min_samples_split=8, n_estimators=200 \n",
      "[CV]  bootstrap=True, max_depth=10, max_features=3, min_samples_leaf=3, min_samples_split=8, n_estimators=200, total=   0.1s\n",
      "[CV] bootstrap=True, max_depth=10, max_features=3, min_samples_leaf=3, min_samples_split=8, n_estimators=200 \n",
      "[CV]  bootstrap=True, max_depth=10, max_features=3, min_samples_leaf=3, min_samples_split=8, n_estimators=200, total=   0.1s\n",
      "[CV] bootstrap=True, max_depth=10, max_features=3, min_samples_leaf=3, min_samples_split=8, n_estimators=200 \n",
      "[CV]  bootstrap=True, max_depth=10, max_features=3, min_samples_leaf=3, min_samples_split=8, n_estimators=200, total=   0.1s\n",
      "[CV] bootstrap=True, max_depth=10, max_features=3, min_samples_leaf=3, min_samples_split=8, n_estimators=300 \n",
      "[CV]  bootstrap=True, max_depth=10, max_features=3, min_samples_leaf=3, min_samples_split=8, n_estimators=300, total=   0.2s\n",
      "[CV] bootstrap=True, max_depth=10, max_features=3, min_samples_leaf=3, min_samples_split=8, n_estimators=300 \n",
      "[CV]  bootstrap=True, max_depth=10, max_features=3, min_samples_leaf=3, min_samples_split=8, n_estimators=300, total=   0.2s\n",
      "[CV] bootstrap=True, max_depth=10, max_features=3, min_samples_leaf=3, min_samples_split=8, n_estimators=300 \n",
      "[CV]  bootstrap=True, max_depth=10, max_features=3, min_samples_leaf=3, min_samples_split=8, n_estimators=300, total=   0.2s\n",
      "[CV] bootstrap=True, max_depth=10, max_features=3, min_samples_leaf=3, min_samples_split=8, n_estimators=1000 \n",
      "[CV]  bootstrap=True, max_depth=10, max_features=3, min_samples_leaf=3, min_samples_split=8, n_estimators=1000, total=   1.0s\n",
      "[CV] bootstrap=True, max_depth=10, max_features=3, min_samples_leaf=3, min_samples_split=8, n_estimators=1000 \n",
      "[CV]  bootstrap=True, max_depth=10, max_features=3, min_samples_leaf=3, min_samples_split=8, n_estimators=1000, total=   1.0s\n",
      "[CV] bootstrap=True, max_depth=10, max_features=3, min_samples_leaf=3, min_samples_split=8, n_estimators=1000 \n",
      "[CV]  bootstrap=True, max_depth=10, max_features=3, min_samples_leaf=3, min_samples_split=8, n_estimators=1000, total=   1.0s\n",
      "[CV] bootstrap=True, max_depth=10, max_features=3, min_samples_leaf=3, min_samples_split=10, n_estimators=100 \n",
      "[CV]  bootstrap=True, max_depth=10, max_features=3, min_samples_leaf=3, min_samples_split=10, n_estimators=100, total=   0.0s\n",
      "[CV] bootstrap=True, max_depth=10, max_features=3, min_samples_leaf=3, min_samples_split=10, n_estimators=100 \n",
      "[CV]  bootstrap=True, max_depth=10, max_features=3, min_samples_leaf=3, min_samples_split=10, n_estimators=100, total=   0.0s\n",
      "[CV] bootstrap=True, max_depth=10, max_features=3, min_samples_leaf=3, min_samples_split=10, n_estimators=100 \n",
      "[CV]  bootstrap=True, max_depth=10, max_features=3, min_samples_leaf=3, min_samples_split=10, n_estimators=100, total=   0.0s\n",
      "[CV] bootstrap=True, max_depth=10, max_features=3, min_samples_leaf=3, min_samples_split=10, n_estimators=200 \n",
      "[CV]  bootstrap=True, max_depth=10, max_features=3, min_samples_leaf=3, min_samples_split=10, n_estimators=200, total=   0.1s\n",
      "[CV] bootstrap=True, max_depth=10, max_features=3, min_samples_leaf=3, min_samples_split=10, n_estimators=200 \n",
      "[CV]  bootstrap=True, max_depth=10, max_features=3, min_samples_leaf=3, min_samples_split=10, n_estimators=200, total=   0.1s\n",
      "[CV] bootstrap=True, max_depth=10, max_features=3, min_samples_leaf=3, min_samples_split=10, n_estimators=200 \n",
      "[CV]  bootstrap=True, max_depth=10, max_features=3, min_samples_leaf=3, min_samples_split=10, n_estimators=200, total=   0.1s\n",
      "[CV] bootstrap=True, max_depth=10, max_features=3, min_samples_leaf=3, min_samples_split=10, n_estimators=300 \n",
      "[CV]  bootstrap=True, max_depth=10, max_features=3, min_samples_leaf=3, min_samples_split=10, n_estimators=300, total=   0.2s\n",
      "[CV] bootstrap=True, max_depth=10, max_features=3, min_samples_leaf=3, min_samples_split=10, n_estimators=300 \n",
      "[CV]  bootstrap=True, max_depth=10, max_features=3, min_samples_leaf=3, min_samples_split=10, n_estimators=300, total=   0.2s\n",
      "[CV] bootstrap=True, max_depth=10, max_features=3, min_samples_leaf=3, min_samples_split=10, n_estimators=300 \n",
      "[CV]  bootstrap=True, max_depth=10, max_features=3, min_samples_leaf=3, min_samples_split=10, n_estimators=300, total=   0.2s\n",
      "[CV] bootstrap=True, max_depth=10, max_features=3, min_samples_leaf=3, min_samples_split=10, n_estimators=1000 \n",
      "[CV]  bootstrap=True, max_depth=10, max_features=3, min_samples_leaf=3, min_samples_split=10, n_estimators=1000, total=   1.0s\n",
      "[CV] bootstrap=True, max_depth=10, max_features=3, min_samples_leaf=3, min_samples_split=10, n_estimators=1000 \n",
      "[CV]  bootstrap=True, max_depth=10, max_features=3, min_samples_leaf=3, min_samples_split=10, n_estimators=1000, total=   0.9s\n",
      "[CV] bootstrap=True, max_depth=10, max_features=3, min_samples_leaf=3, min_samples_split=10, n_estimators=1000 \n",
      "[CV]  bootstrap=True, max_depth=10, max_features=3, min_samples_leaf=3, min_samples_split=10, n_estimators=1000, total=   1.0s\n",
      "[CV] bootstrap=True, max_depth=10, max_features=3, min_samples_leaf=3, min_samples_split=12, n_estimators=100 \n",
      "[CV]  bootstrap=True, max_depth=10, max_features=3, min_samples_leaf=3, min_samples_split=12, n_estimators=100, total=   0.0s\n",
      "[CV] bootstrap=True, max_depth=10, max_features=3, min_samples_leaf=3, min_samples_split=12, n_estimators=100 \n",
      "[CV]  bootstrap=True, max_depth=10, max_features=3, min_samples_leaf=3, min_samples_split=12, n_estimators=100, total=   0.0s\n",
      "[CV] bootstrap=True, max_depth=10, max_features=3, min_samples_leaf=3, min_samples_split=12, n_estimators=100 \n",
      "[CV]  bootstrap=True, max_depth=10, max_features=3, min_samples_leaf=3, min_samples_split=12, n_estimators=100, total=   0.0s\n",
      "[CV] bootstrap=True, max_depth=10, max_features=3, min_samples_leaf=3, min_samples_split=12, n_estimators=200 \n",
      "[CV]  bootstrap=True, max_depth=10, max_features=3, min_samples_leaf=3, min_samples_split=12, n_estimators=200, total=   0.1s\n",
      "[CV] bootstrap=True, max_depth=10, max_features=3, min_samples_leaf=3, min_samples_split=12, n_estimators=200 \n",
      "[CV]  bootstrap=True, max_depth=10, max_features=3, min_samples_leaf=3, min_samples_split=12, n_estimators=200, total=   0.1s\n",
      "[CV] bootstrap=True, max_depth=10, max_features=3, min_samples_leaf=3, min_samples_split=12, n_estimators=200 \n",
      "[CV]  bootstrap=True, max_depth=10, max_features=3, min_samples_leaf=3, min_samples_split=12, n_estimators=200, total=   0.1s\n",
      "[CV] bootstrap=True, max_depth=10, max_features=3, min_samples_leaf=3, min_samples_split=12, n_estimators=300 \n",
      "[CV]  bootstrap=True, max_depth=10, max_features=3, min_samples_leaf=3, min_samples_split=12, n_estimators=300, total=   0.2s\n",
      "[CV] bootstrap=True, max_depth=10, max_features=3, min_samples_leaf=3, min_samples_split=12, n_estimators=300 \n",
      "[CV]  bootstrap=True, max_depth=10, max_features=3, min_samples_leaf=3, min_samples_split=12, n_estimators=300, total=   0.2s\n",
      "[CV] bootstrap=True, max_depth=10, max_features=3, min_samples_leaf=3, min_samples_split=12, n_estimators=300 \n",
      "[CV]  bootstrap=True, max_depth=10, max_features=3, min_samples_leaf=3, min_samples_split=12, n_estimators=300, total=   0.2s\n",
      "[CV] bootstrap=True, max_depth=10, max_features=3, min_samples_leaf=3, min_samples_split=12, n_estimators=1000 \n",
      "[CV]  bootstrap=True, max_depth=10, max_features=3, min_samples_leaf=3, min_samples_split=12, n_estimators=1000, total=   1.0s\n",
      "[CV] bootstrap=True, max_depth=10, max_features=3, min_samples_leaf=3, min_samples_split=12, n_estimators=1000 \n",
      "[CV]  bootstrap=True, max_depth=10, max_features=3, min_samples_leaf=3, min_samples_split=12, n_estimators=1000, total=   1.0s\n",
      "[CV] bootstrap=True, max_depth=10, max_features=3, min_samples_leaf=3, min_samples_split=12, n_estimators=1000 \n",
      "[CV]  bootstrap=True, max_depth=10, max_features=3, min_samples_leaf=3, min_samples_split=12, n_estimators=1000, total=   1.0s\n",
      "[CV] bootstrap=True, max_depth=10, max_features=3, min_samples_leaf=4, min_samples_split=8, n_estimators=100 \n",
      "[CV]  bootstrap=True, max_depth=10, max_features=3, min_samples_leaf=4, min_samples_split=8, n_estimators=100, total=   0.0s\n",
      "[CV] bootstrap=True, max_depth=10, max_features=3, min_samples_leaf=4, min_samples_split=8, n_estimators=100 \n"
     ]
    },
    {
     "name": "stdout",
     "output_type": "stream",
     "text": [
      "[CV]  bootstrap=True, max_depth=10, max_features=3, min_samples_leaf=4, min_samples_split=8, n_estimators=100, total=   0.0s\n",
      "[CV] bootstrap=True, max_depth=10, max_features=3, min_samples_leaf=4, min_samples_split=8, n_estimators=100 \n",
      "[CV]  bootstrap=True, max_depth=10, max_features=3, min_samples_leaf=4, min_samples_split=8, n_estimators=100, total=   0.0s\n",
      "[CV] bootstrap=True, max_depth=10, max_features=3, min_samples_leaf=4, min_samples_split=8, n_estimators=200 \n",
      "[CV]  bootstrap=True, max_depth=10, max_features=3, min_samples_leaf=4, min_samples_split=8, n_estimators=200, total=   0.1s\n",
      "[CV] bootstrap=True, max_depth=10, max_features=3, min_samples_leaf=4, min_samples_split=8, n_estimators=200 \n",
      "[CV]  bootstrap=True, max_depth=10, max_features=3, min_samples_leaf=4, min_samples_split=8, n_estimators=200, total=   0.1s\n",
      "[CV] bootstrap=True, max_depth=10, max_features=3, min_samples_leaf=4, min_samples_split=8, n_estimators=200 \n",
      "[CV]  bootstrap=True, max_depth=10, max_features=3, min_samples_leaf=4, min_samples_split=8, n_estimators=200, total=   0.1s\n",
      "[CV] bootstrap=True, max_depth=10, max_features=3, min_samples_leaf=4, min_samples_split=8, n_estimators=300 \n",
      "[CV]  bootstrap=True, max_depth=10, max_features=3, min_samples_leaf=4, min_samples_split=8, n_estimators=300, total=   0.2s\n",
      "[CV] bootstrap=True, max_depth=10, max_features=3, min_samples_leaf=4, min_samples_split=8, n_estimators=300 \n",
      "[CV]  bootstrap=True, max_depth=10, max_features=3, min_samples_leaf=4, min_samples_split=8, n_estimators=300, total=   0.2s\n",
      "[CV] bootstrap=True, max_depth=10, max_features=3, min_samples_leaf=4, min_samples_split=8, n_estimators=300 \n",
      "[CV]  bootstrap=True, max_depth=10, max_features=3, min_samples_leaf=4, min_samples_split=8, n_estimators=300, total=   0.2s\n",
      "[CV] bootstrap=True, max_depth=10, max_features=3, min_samples_leaf=4, min_samples_split=8, n_estimators=1000 \n",
      "[CV]  bootstrap=True, max_depth=10, max_features=3, min_samples_leaf=4, min_samples_split=8, n_estimators=1000, total=   1.0s\n",
      "[CV] bootstrap=True, max_depth=10, max_features=3, min_samples_leaf=4, min_samples_split=8, n_estimators=1000 \n",
      "[CV]  bootstrap=True, max_depth=10, max_features=3, min_samples_leaf=4, min_samples_split=8, n_estimators=1000, total=   1.0s\n",
      "[CV] bootstrap=True, max_depth=10, max_features=3, min_samples_leaf=4, min_samples_split=8, n_estimators=1000 \n",
      "[CV]  bootstrap=True, max_depth=10, max_features=3, min_samples_leaf=4, min_samples_split=8, n_estimators=1000, total=   1.0s\n",
      "[CV] bootstrap=True, max_depth=10, max_features=3, min_samples_leaf=4, min_samples_split=10, n_estimators=100 \n",
      "[CV]  bootstrap=True, max_depth=10, max_features=3, min_samples_leaf=4, min_samples_split=10, n_estimators=100, total=   0.0s\n",
      "[CV] bootstrap=True, max_depth=10, max_features=3, min_samples_leaf=4, min_samples_split=10, n_estimators=100 \n",
      "[CV]  bootstrap=True, max_depth=10, max_features=3, min_samples_leaf=4, min_samples_split=10, n_estimators=100, total=   0.0s\n",
      "[CV] bootstrap=True, max_depth=10, max_features=3, min_samples_leaf=4, min_samples_split=10, n_estimators=100 \n",
      "[CV]  bootstrap=True, max_depth=10, max_features=3, min_samples_leaf=4, min_samples_split=10, n_estimators=100, total=   0.0s\n",
      "[CV] bootstrap=True, max_depth=10, max_features=3, min_samples_leaf=4, min_samples_split=10, n_estimators=200 \n",
      "[CV]  bootstrap=True, max_depth=10, max_features=3, min_samples_leaf=4, min_samples_split=10, n_estimators=200, total=   0.1s\n",
      "[CV] bootstrap=True, max_depth=10, max_features=3, min_samples_leaf=4, min_samples_split=10, n_estimators=200 \n",
      "[CV]  bootstrap=True, max_depth=10, max_features=3, min_samples_leaf=4, min_samples_split=10, n_estimators=200, total=   0.1s\n",
      "[CV] bootstrap=True, max_depth=10, max_features=3, min_samples_leaf=4, min_samples_split=10, n_estimators=200 \n",
      "[CV]  bootstrap=True, max_depth=10, max_features=3, min_samples_leaf=4, min_samples_split=10, n_estimators=200, total=   0.1s\n",
      "[CV] bootstrap=True, max_depth=10, max_features=3, min_samples_leaf=4, min_samples_split=10, n_estimators=300 \n",
      "[CV]  bootstrap=True, max_depth=10, max_features=3, min_samples_leaf=4, min_samples_split=10, n_estimators=300, total=   0.2s\n",
      "[CV] bootstrap=True, max_depth=10, max_features=3, min_samples_leaf=4, min_samples_split=10, n_estimators=300 \n",
      "[CV]  bootstrap=True, max_depth=10, max_features=3, min_samples_leaf=4, min_samples_split=10, n_estimators=300, total=   0.2s\n",
      "[CV] bootstrap=True, max_depth=10, max_features=3, min_samples_leaf=4, min_samples_split=10, n_estimators=300 \n",
      "[CV]  bootstrap=True, max_depth=10, max_features=3, min_samples_leaf=4, min_samples_split=10, n_estimators=300, total=   0.2s\n",
      "[CV] bootstrap=True, max_depth=10, max_features=3, min_samples_leaf=4, min_samples_split=10, n_estimators=1000 \n",
      "[CV]  bootstrap=True, max_depth=10, max_features=3, min_samples_leaf=4, min_samples_split=10, n_estimators=1000, total=   0.9s\n",
      "[CV] bootstrap=True, max_depth=10, max_features=3, min_samples_leaf=4, min_samples_split=10, n_estimators=1000 \n",
      "[CV]  bootstrap=True, max_depth=10, max_features=3, min_samples_leaf=4, min_samples_split=10, n_estimators=1000, total=   1.0s\n",
      "[CV] bootstrap=True, max_depth=10, max_features=3, min_samples_leaf=4, min_samples_split=10, n_estimators=1000 \n",
      "[CV]  bootstrap=True, max_depth=10, max_features=3, min_samples_leaf=4, min_samples_split=10, n_estimators=1000, total=   0.9s\n",
      "[CV] bootstrap=True, max_depth=10, max_features=3, min_samples_leaf=4, min_samples_split=12, n_estimators=100 \n",
      "[CV]  bootstrap=True, max_depth=10, max_features=3, min_samples_leaf=4, min_samples_split=12, n_estimators=100, total=   0.0s\n",
      "[CV] bootstrap=True, max_depth=10, max_features=3, min_samples_leaf=4, min_samples_split=12, n_estimators=100 \n",
      "[CV]  bootstrap=True, max_depth=10, max_features=3, min_samples_leaf=4, min_samples_split=12, n_estimators=100, total=   0.0s\n",
      "[CV] bootstrap=True, max_depth=10, max_features=3, min_samples_leaf=4, min_samples_split=12, n_estimators=100 \n",
      "[CV]  bootstrap=True, max_depth=10, max_features=3, min_samples_leaf=4, min_samples_split=12, n_estimators=100, total=   0.0s\n",
      "[CV] bootstrap=True, max_depth=10, max_features=3, min_samples_leaf=4, min_samples_split=12, n_estimators=200 \n",
      "[CV]  bootstrap=True, max_depth=10, max_features=3, min_samples_leaf=4, min_samples_split=12, n_estimators=200, total=   0.1s\n",
      "[CV] bootstrap=True, max_depth=10, max_features=3, min_samples_leaf=4, min_samples_split=12, n_estimators=200 \n",
      "[CV]  bootstrap=True, max_depth=10, max_features=3, min_samples_leaf=4, min_samples_split=12, n_estimators=200, total=   0.1s\n",
      "[CV] bootstrap=True, max_depth=10, max_features=3, min_samples_leaf=4, min_samples_split=12, n_estimators=200 \n",
      "[CV]  bootstrap=True, max_depth=10, max_features=3, min_samples_leaf=4, min_samples_split=12, n_estimators=200, total=   0.1s\n",
      "[CV] bootstrap=True, max_depth=10, max_features=3, min_samples_leaf=4, min_samples_split=12, n_estimators=300 \n",
      "[CV]  bootstrap=True, max_depth=10, max_features=3, min_samples_leaf=4, min_samples_split=12, n_estimators=300, total=   0.2s\n",
      "[CV] bootstrap=True, max_depth=10, max_features=3, min_samples_leaf=4, min_samples_split=12, n_estimators=300 \n",
      "[CV]  bootstrap=True, max_depth=10, max_features=3, min_samples_leaf=4, min_samples_split=12, n_estimators=300, total=   0.2s\n",
      "[CV] bootstrap=True, max_depth=10, max_features=3, min_samples_leaf=4, min_samples_split=12, n_estimators=300 \n",
      "[CV]  bootstrap=True, max_depth=10, max_features=3, min_samples_leaf=4, min_samples_split=12, n_estimators=300, total=   0.2s\n",
      "[CV] bootstrap=True, max_depth=10, max_features=3, min_samples_leaf=4, min_samples_split=12, n_estimators=1000 \n",
      "[CV]  bootstrap=True, max_depth=10, max_features=3, min_samples_leaf=4, min_samples_split=12, n_estimators=1000, total=   1.0s\n",
      "[CV] bootstrap=True, max_depth=10, max_features=3, min_samples_leaf=4, min_samples_split=12, n_estimators=1000 \n",
      "[CV]  bootstrap=True, max_depth=10, max_features=3, min_samples_leaf=4, min_samples_split=12, n_estimators=1000, total=   0.9s\n",
      "[CV] bootstrap=True, max_depth=10, max_features=3, min_samples_leaf=4, min_samples_split=12, n_estimators=1000 \n",
      "[CV]  bootstrap=True, max_depth=10, max_features=3, min_samples_leaf=4, min_samples_split=12, n_estimators=1000, total=   0.9s\n",
      "[CV] bootstrap=True, max_depth=10, max_features=3, min_samples_leaf=5, min_samples_split=8, n_estimators=100 \n",
      "[CV]  bootstrap=True, max_depth=10, max_features=3, min_samples_leaf=5, min_samples_split=8, n_estimators=100, total=   0.0s\n",
      "[CV] bootstrap=True, max_depth=10, max_features=3, min_samples_leaf=5, min_samples_split=8, n_estimators=100 \n"
     ]
    },
    {
     "name": "stdout",
     "output_type": "stream",
     "text": [
      "[CV]  bootstrap=True, max_depth=10, max_features=3, min_samples_leaf=5, min_samples_split=8, n_estimators=100, total=   0.0s\n",
      "[CV] bootstrap=True, max_depth=10, max_features=3, min_samples_leaf=5, min_samples_split=8, n_estimators=100 \n",
      "[CV]  bootstrap=True, max_depth=10, max_features=3, min_samples_leaf=5, min_samples_split=8, n_estimators=100, total=   0.0s\n",
      "[CV] bootstrap=True, max_depth=10, max_features=3, min_samples_leaf=5, min_samples_split=8, n_estimators=200 \n",
      "[CV]  bootstrap=True, max_depth=10, max_features=3, min_samples_leaf=5, min_samples_split=8, n_estimators=200, total=   0.1s\n",
      "[CV] bootstrap=True, max_depth=10, max_features=3, min_samples_leaf=5, min_samples_split=8, n_estimators=200 \n",
      "[CV]  bootstrap=True, max_depth=10, max_features=3, min_samples_leaf=5, min_samples_split=8, n_estimators=200, total=   0.1s\n",
      "[CV] bootstrap=True, max_depth=10, max_features=3, min_samples_leaf=5, min_samples_split=8, n_estimators=200 \n",
      "[CV]  bootstrap=True, max_depth=10, max_features=3, min_samples_leaf=5, min_samples_split=8, n_estimators=200, total=   0.1s\n",
      "[CV] bootstrap=True, max_depth=10, max_features=3, min_samples_leaf=5, min_samples_split=8, n_estimators=300 \n",
      "[CV]  bootstrap=True, max_depth=10, max_features=3, min_samples_leaf=5, min_samples_split=8, n_estimators=300, total=   0.2s\n",
      "[CV] bootstrap=True, max_depth=10, max_features=3, min_samples_leaf=5, min_samples_split=8, n_estimators=300 \n",
      "[CV]  bootstrap=True, max_depth=10, max_features=3, min_samples_leaf=5, min_samples_split=8, n_estimators=300, total=   0.2s\n",
      "[CV] bootstrap=True, max_depth=10, max_features=3, min_samples_leaf=5, min_samples_split=8, n_estimators=300 \n",
      "[CV]  bootstrap=True, max_depth=10, max_features=3, min_samples_leaf=5, min_samples_split=8, n_estimators=300, total=   0.2s\n",
      "[CV] bootstrap=True, max_depth=10, max_features=3, min_samples_leaf=5, min_samples_split=8, n_estimators=1000 \n",
      "[CV]  bootstrap=True, max_depth=10, max_features=3, min_samples_leaf=5, min_samples_split=8, n_estimators=1000, total=   0.9s\n",
      "[CV] bootstrap=True, max_depth=10, max_features=3, min_samples_leaf=5, min_samples_split=8, n_estimators=1000 \n",
      "[CV]  bootstrap=True, max_depth=10, max_features=3, min_samples_leaf=5, min_samples_split=8, n_estimators=1000, total=   0.9s\n",
      "[CV] bootstrap=True, max_depth=10, max_features=3, min_samples_leaf=5, min_samples_split=8, n_estimators=1000 \n",
      "[CV]  bootstrap=True, max_depth=10, max_features=3, min_samples_leaf=5, min_samples_split=8, n_estimators=1000, total=   0.9s\n",
      "[CV] bootstrap=True, max_depth=10, max_features=3, min_samples_leaf=5, min_samples_split=10, n_estimators=100 \n",
      "[CV]  bootstrap=True, max_depth=10, max_features=3, min_samples_leaf=5, min_samples_split=10, n_estimators=100, total=   0.0s\n",
      "[CV] bootstrap=True, max_depth=10, max_features=3, min_samples_leaf=5, min_samples_split=10, n_estimators=100 \n",
      "[CV]  bootstrap=True, max_depth=10, max_features=3, min_samples_leaf=5, min_samples_split=10, n_estimators=100, total=   0.0s\n",
      "[CV] bootstrap=True, max_depth=10, max_features=3, min_samples_leaf=5, min_samples_split=10, n_estimators=100 \n",
      "[CV]  bootstrap=True, max_depth=10, max_features=3, min_samples_leaf=5, min_samples_split=10, n_estimators=100, total=   0.0s\n",
      "[CV] bootstrap=True, max_depth=10, max_features=3, min_samples_leaf=5, min_samples_split=10, n_estimators=200 \n",
      "[CV]  bootstrap=True, max_depth=10, max_features=3, min_samples_leaf=5, min_samples_split=10, n_estimators=200, total=   0.1s\n",
      "[CV] bootstrap=True, max_depth=10, max_features=3, min_samples_leaf=5, min_samples_split=10, n_estimators=200 \n",
      "[CV]  bootstrap=True, max_depth=10, max_features=3, min_samples_leaf=5, min_samples_split=10, n_estimators=200, total=   0.1s\n",
      "[CV] bootstrap=True, max_depth=10, max_features=3, min_samples_leaf=5, min_samples_split=10, n_estimators=200 \n",
      "[CV]  bootstrap=True, max_depth=10, max_features=3, min_samples_leaf=5, min_samples_split=10, n_estimators=200, total=   0.1s\n",
      "[CV] bootstrap=True, max_depth=10, max_features=3, min_samples_leaf=5, min_samples_split=10, n_estimators=300 \n",
      "[CV]  bootstrap=True, max_depth=10, max_features=3, min_samples_leaf=5, min_samples_split=10, n_estimators=300, total=   0.2s\n",
      "[CV] bootstrap=True, max_depth=10, max_features=3, min_samples_leaf=5, min_samples_split=10, n_estimators=300 \n",
      "[CV]  bootstrap=True, max_depth=10, max_features=3, min_samples_leaf=5, min_samples_split=10, n_estimators=300, total=   0.2s\n",
      "[CV] bootstrap=True, max_depth=10, max_features=3, min_samples_leaf=5, min_samples_split=10, n_estimators=300 \n",
      "[CV]  bootstrap=True, max_depth=10, max_features=3, min_samples_leaf=5, min_samples_split=10, n_estimators=300, total=   0.2s\n",
      "[CV] bootstrap=True, max_depth=10, max_features=3, min_samples_leaf=5, min_samples_split=10, n_estimators=1000 \n",
      "[CV]  bootstrap=True, max_depth=10, max_features=3, min_samples_leaf=5, min_samples_split=10, n_estimators=1000, total=   0.9s\n",
      "[CV] bootstrap=True, max_depth=10, max_features=3, min_samples_leaf=5, min_samples_split=10, n_estimators=1000 \n",
      "[CV]  bootstrap=True, max_depth=10, max_features=3, min_samples_leaf=5, min_samples_split=10, n_estimators=1000, total=   0.9s\n",
      "[CV] bootstrap=True, max_depth=10, max_features=3, min_samples_leaf=5, min_samples_split=10, n_estimators=1000 \n",
      "[CV]  bootstrap=True, max_depth=10, max_features=3, min_samples_leaf=5, min_samples_split=10, n_estimators=1000, total=   0.9s\n",
      "[CV] bootstrap=True, max_depth=10, max_features=3, min_samples_leaf=5, min_samples_split=12, n_estimators=100 \n",
      "[CV]  bootstrap=True, max_depth=10, max_features=3, min_samples_leaf=5, min_samples_split=12, n_estimators=100, total=   0.0s\n",
      "[CV] bootstrap=True, max_depth=10, max_features=3, min_samples_leaf=5, min_samples_split=12, n_estimators=100 \n",
      "[CV]  bootstrap=True, max_depth=10, max_features=3, min_samples_leaf=5, min_samples_split=12, n_estimators=100, total=   0.0s\n",
      "[CV] bootstrap=True, max_depth=10, max_features=3, min_samples_leaf=5, min_samples_split=12, n_estimators=100 \n",
      "[CV]  bootstrap=True, max_depth=10, max_features=3, min_samples_leaf=5, min_samples_split=12, n_estimators=100, total=   0.0s\n",
      "[CV] bootstrap=True, max_depth=10, max_features=3, min_samples_leaf=5, min_samples_split=12, n_estimators=200 \n",
      "[CV]  bootstrap=True, max_depth=10, max_features=3, min_samples_leaf=5, min_samples_split=12, n_estimators=200, total=   0.1s\n",
      "[CV] bootstrap=True, max_depth=10, max_features=3, min_samples_leaf=5, min_samples_split=12, n_estimators=200 \n",
      "[CV]  bootstrap=True, max_depth=10, max_features=3, min_samples_leaf=5, min_samples_split=12, n_estimators=200, total=   0.1s\n",
      "[CV] bootstrap=True, max_depth=10, max_features=3, min_samples_leaf=5, min_samples_split=12, n_estimators=200 \n",
      "[CV]  bootstrap=True, max_depth=10, max_features=3, min_samples_leaf=5, min_samples_split=12, n_estimators=200, total=   0.1s\n",
      "[CV] bootstrap=True, max_depth=10, max_features=3, min_samples_leaf=5, min_samples_split=12, n_estimators=300 \n",
      "[CV]  bootstrap=True, max_depth=10, max_features=3, min_samples_leaf=5, min_samples_split=12, n_estimators=300, total=   0.2s\n",
      "[CV] bootstrap=True, max_depth=10, max_features=3, min_samples_leaf=5, min_samples_split=12, n_estimators=300 \n",
      "[CV]  bootstrap=True, max_depth=10, max_features=3, min_samples_leaf=5, min_samples_split=12, n_estimators=300, total=   0.2s\n",
      "[CV] bootstrap=True, max_depth=10, max_features=3, min_samples_leaf=5, min_samples_split=12, n_estimators=300 \n",
      "[CV]  bootstrap=True, max_depth=10, max_features=3, min_samples_leaf=5, min_samples_split=12, n_estimators=300, total=   0.2s\n",
      "[CV] bootstrap=True, max_depth=10, max_features=3, min_samples_leaf=5, min_samples_split=12, n_estimators=1000 \n",
      "[CV]  bootstrap=True, max_depth=10, max_features=3, min_samples_leaf=5, min_samples_split=12, n_estimators=1000, total=   1.0s\n",
      "[CV] bootstrap=True, max_depth=10, max_features=3, min_samples_leaf=5, min_samples_split=12, n_estimators=1000 \n",
      "[CV]  bootstrap=True, max_depth=10, max_features=3, min_samples_leaf=5, min_samples_split=12, n_estimators=1000, total=   1.0s\n",
      "[CV] bootstrap=True, max_depth=10, max_features=3, min_samples_leaf=5, min_samples_split=12, n_estimators=1000 \n",
      "[CV]  bootstrap=True, max_depth=10, max_features=3, min_samples_leaf=5, min_samples_split=12, n_estimators=1000, total=   0.9s\n",
      "[CV] bootstrap=True, max_depth=11, max_features=2, min_samples_leaf=3, min_samples_split=8, n_estimators=100 \n",
      "[CV]  bootstrap=True, max_depth=11, max_features=2, min_samples_leaf=3, min_samples_split=8, n_estimators=100, total=   0.0s\n",
      "[CV] bootstrap=True, max_depth=11, max_features=2, min_samples_leaf=3, min_samples_split=8, n_estimators=100 \n"
     ]
    },
    {
     "name": "stdout",
     "output_type": "stream",
     "text": [
      "[CV]  bootstrap=True, max_depth=11, max_features=2, min_samples_leaf=3, min_samples_split=8, n_estimators=100, total=   0.0s\n",
      "[CV] bootstrap=True, max_depth=11, max_features=2, min_samples_leaf=3, min_samples_split=8, n_estimators=100 \n",
      "[CV]  bootstrap=True, max_depth=11, max_features=2, min_samples_leaf=3, min_samples_split=8, n_estimators=100, total=   0.0s\n",
      "[CV] bootstrap=True, max_depth=11, max_features=2, min_samples_leaf=3, min_samples_split=8, n_estimators=200 \n",
      "[CV]  bootstrap=True, max_depth=11, max_features=2, min_samples_leaf=3, min_samples_split=8, n_estimators=200, total=   0.2s\n",
      "[CV] bootstrap=True, max_depth=11, max_features=2, min_samples_leaf=3, min_samples_split=8, n_estimators=200 \n",
      "[CV]  bootstrap=True, max_depth=11, max_features=2, min_samples_leaf=3, min_samples_split=8, n_estimators=200, total=   0.1s\n",
      "[CV] bootstrap=True, max_depth=11, max_features=2, min_samples_leaf=3, min_samples_split=8, n_estimators=200 \n",
      "[CV]  bootstrap=True, max_depth=11, max_features=2, min_samples_leaf=3, min_samples_split=8, n_estimators=200, total=   0.1s\n",
      "[CV] bootstrap=True, max_depth=11, max_features=2, min_samples_leaf=3, min_samples_split=8, n_estimators=300 \n",
      "[CV]  bootstrap=True, max_depth=11, max_features=2, min_samples_leaf=3, min_samples_split=8, n_estimators=300, total=   0.2s\n",
      "[CV] bootstrap=True, max_depth=11, max_features=2, min_samples_leaf=3, min_samples_split=8, n_estimators=300 \n",
      "[CV]  bootstrap=True, max_depth=11, max_features=2, min_samples_leaf=3, min_samples_split=8, n_estimators=300, total=   0.2s\n",
      "[CV] bootstrap=True, max_depth=11, max_features=2, min_samples_leaf=3, min_samples_split=8, n_estimators=300 \n",
      "[CV]  bootstrap=True, max_depth=11, max_features=2, min_samples_leaf=3, min_samples_split=8, n_estimators=300, total=   0.2s\n",
      "[CV] bootstrap=True, max_depth=11, max_features=2, min_samples_leaf=3, min_samples_split=8, n_estimators=1000 \n",
      "[CV]  bootstrap=True, max_depth=11, max_features=2, min_samples_leaf=3, min_samples_split=8, n_estimators=1000, total=   0.9s\n",
      "[CV] bootstrap=True, max_depth=11, max_features=2, min_samples_leaf=3, min_samples_split=8, n_estimators=1000 \n",
      "[CV]  bootstrap=True, max_depth=11, max_features=2, min_samples_leaf=3, min_samples_split=8, n_estimators=1000, total=   0.9s\n",
      "[CV] bootstrap=True, max_depth=11, max_features=2, min_samples_leaf=3, min_samples_split=8, n_estimators=1000 \n",
      "[CV]  bootstrap=True, max_depth=11, max_features=2, min_samples_leaf=3, min_samples_split=8, n_estimators=1000, total=   0.9s\n",
      "[CV] bootstrap=True, max_depth=11, max_features=2, min_samples_leaf=3, min_samples_split=10, n_estimators=100 \n",
      "[CV]  bootstrap=True, max_depth=11, max_features=2, min_samples_leaf=3, min_samples_split=10, n_estimators=100, total=   0.0s\n",
      "[CV] bootstrap=True, max_depth=11, max_features=2, min_samples_leaf=3, min_samples_split=10, n_estimators=100 \n",
      "[CV]  bootstrap=True, max_depth=11, max_features=2, min_samples_leaf=3, min_samples_split=10, n_estimators=100, total=   0.0s\n",
      "[CV] bootstrap=True, max_depth=11, max_features=2, min_samples_leaf=3, min_samples_split=10, n_estimators=100 \n",
      "[CV]  bootstrap=True, max_depth=11, max_features=2, min_samples_leaf=3, min_samples_split=10, n_estimators=100, total=   0.0s\n",
      "[CV] bootstrap=True, max_depth=11, max_features=2, min_samples_leaf=3, min_samples_split=10, n_estimators=200 \n",
      "[CV]  bootstrap=True, max_depth=11, max_features=2, min_samples_leaf=3, min_samples_split=10, n_estimators=200, total=   0.1s\n",
      "[CV] bootstrap=True, max_depth=11, max_features=2, min_samples_leaf=3, min_samples_split=10, n_estimators=200 \n",
      "[CV]  bootstrap=True, max_depth=11, max_features=2, min_samples_leaf=3, min_samples_split=10, n_estimators=200, total=   0.1s\n",
      "[CV] bootstrap=True, max_depth=11, max_features=2, min_samples_leaf=3, min_samples_split=10, n_estimators=200 \n",
      "[CV]  bootstrap=True, max_depth=11, max_features=2, min_samples_leaf=3, min_samples_split=10, n_estimators=200, total=   0.1s\n",
      "[CV] bootstrap=True, max_depth=11, max_features=2, min_samples_leaf=3, min_samples_split=10, n_estimators=300 \n",
      "[CV]  bootstrap=True, max_depth=11, max_features=2, min_samples_leaf=3, min_samples_split=10, n_estimators=300, total=   0.2s\n",
      "[CV] bootstrap=True, max_depth=11, max_features=2, min_samples_leaf=3, min_samples_split=10, n_estimators=300 \n",
      "[CV]  bootstrap=True, max_depth=11, max_features=2, min_samples_leaf=3, min_samples_split=10, n_estimators=300, total=   0.2s\n",
      "[CV] bootstrap=True, max_depth=11, max_features=2, min_samples_leaf=3, min_samples_split=10, n_estimators=300 \n",
      "[CV]  bootstrap=True, max_depth=11, max_features=2, min_samples_leaf=3, min_samples_split=10, n_estimators=300, total=   0.2s\n",
      "[CV] bootstrap=True, max_depth=11, max_features=2, min_samples_leaf=3, min_samples_split=10, n_estimators=1000 \n",
      "[CV]  bootstrap=True, max_depth=11, max_features=2, min_samples_leaf=3, min_samples_split=10, n_estimators=1000, total=   0.9s\n",
      "[CV] bootstrap=True, max_depth=11, max_features=2, min_samples_leaf=3, min_samples_split=10, n_estimators=1000 \n",
      "[CV]  bootstrap=True, max_depth=11, max_features=2, min_samples_leaf=3, min_samples_split=10, n_estimators=1000, total=   0.9s\n",
      "[CV] bootstrap=True, max_depth=11, max_features=2, min_samples_leaf=3, min_samples_split=10, n_estimators=1000 \n",
      "[CV]  bootstrap=True, max_depth=11, max_features=2, min_samples_leaf=3, min_samples_split=10, n_estimators=1000, total=   0.9s\n",
      "[CV] bootstrap=True, max_depth=11, max_features=2, min_samples_leaf=3, min_samples_split=12, n_estimators=100 \n",
      "[CV]  bootstrap=True, max_depth=11, max_features=2, min_samples_leaf=3, min_samples_split=12, n_estimators=100, total=   0.0s\n",
      "[CV] bootstrap=True, max_depth=11, max_features=2, min_samples_leaf=3, min_samples_split=12, n_estimators=100 \n",
      "[CV]  bootstrap=True, max_depth=11, max_features=2, min_samples_leaf=3, min_samples_split=12, n_estimators=100, total=   0.0s\n",
      "[CV] bootstrap=True, max_depth=11, max_features=2, min_samples_leaf=3, min_samples_split=12, n_estimators=100 \n",
      "[CV]  bootstrap=True, max_depth=11, max_features=2, min_samples_leaf=3, min_samples_split=12, n_estimators=100, total=   0.0s\n",
      "[CV] bootstrap=True, max_depth=11, max_features=2, min_samples_leaf=3, min_samples_split=12, n_estimators=200 \n",
      "[CV]  bootstrap=True, max_depth=11, max_features=2, min_samples_leaf=3, min_samples_split=12, n_estimators=200, total=   0.1s\n",
      "[CV] bootstrap=True, max_depth=11, max_features=2, min_samples_leaf=3, min_samples_split=12, n_estimators=200 \n",
      "[CV]  bootstrap=True, max_depth=11, max_features=2, min_samples_leaf=3, min_samples_split=12, n_estimators=200, total=   0.1s\n",
      "[CV] bootstrap=True, max_depth=11, max_features=2, min_samples_leaf=3, min_samples_split=12, n_estimators=200 \n",
      "[CV]  bootstrap=True, max_depth=11, max_features=2, min_samples_leaf=3, min_samples_split=12, n_estimators=200, total=   0.1s\n",
      "[CV] bootstrap=True, max_depth=11, max_features=2, min_samples_leaf=3, min_samples_split=12, n_estimators=300 \n",
      "[CV]  bootstrap=True, max_depth=11, max_features=2, min_samples_leaf=3, min_samples_split=12, n_estimators=300, total=   0.2s\n",
      "[CV] bootstrap=True, max_depth=11, max_features=2, min_samples_leaf=3, min_samples_split=12, n_estimators=300 \n",
      "[CV]  bootstrap=True, max_depth=11, max_features=2, min_samples_leaf=3, min_samples_split=12, n_estimators=300, total=   0.2s\n",
      "[CV] bootstrap=True, max_depth=11, max_features=2, min_samples_leaf=3, min_samples_split=12, n_estimators=300 \n",
      "[CV]  bootstrap=True, max_depth=11, max_features=2, min_samples_leaf=3, min_samples_split=12, n_estimators=300, total=   0.2s\n",
      "[CV] bootstrap=True, max_depth=11, max_features=2, min_samples_leaf=3, min_samples_split=12, n_estimators=1000 \n",
      "[CV]  bootstrap=True, max_depth=11, max_features=2, min_samples_leaf=3, min_samples_split=12, n_estimators=1000, total=   0.9s\n",
      "[CV] bootstrap=True, max_depth=11, max_features=2, min_samples_leaf=3, min_samples_split=12, n_estimators=1000 \n",
      "[CV]  bootstrap=True, max_depth=11, max_features=2, min_samples_leaf=3, min_samples_split=12, n_estimators=1000, total=   0.9s\n",
      "[CV] bootstrap=True, max_depth=11, max_features=2, min_samples_leaf=3, min_samples_split=12, n_estimators=1000 \n",
      "[CV]  bootstrap=True, max_depth=11, max_features=2, min_samples_leaf=3, min_samples_split=12, n_estimators=1000, total=   0.9s\n",
      "[CV] bootstrap=True, max_depth=11, max_features=2, min_samples_leaf=4, min_samples_split=8, n_estimators=100 \n",
      "[CV]  bootstrap=True, max_depth=11, max_features=2, min_samples_leaf=4, min_samples_split=8, n_estimators=100, total=   0.0s\n",
      "[CV] bootstrap=True, max_depth=11, max_features=2, min_samples_leaf=4, min_samples_split=8, n_estimators=100 \n"
     ]
    },
    {
     "name": "stdout",
     "output_type": "stream",
     "text": [
      "[CV]  bootstrap=True, max_depth=11, max_features=2, min_samples_leaf=4, min_samples_split=8, n_estimators=100, total=   0.0s\n",
      "[CV] bootstrap=True, max_depth=11, max_features=2, min_samples_leaf=4, min_samples_split=8, n_estimators=100 \n",
      "[CV]  bootstrap=True, max_depth=11, max_features=2, min_samples_leaf=4, min_samples_split=8, n_estimators=100, total=   0.0s\n",
      "[CV] bootstrap=True, max_depth=11, max_features=2, min_samples_leaf=4, min_samples_split=8, n_estimators=200 \n",
      "[CV]  bootstrap=True, max_depth=11, max_features=2, min_samples_leaf=4, min_samples_split=8, n_estimators=200, total=   0.1s\n",
      "[CV] bootstrap=True, max_depth=11, max_features=2, min_samples_leaf=4, min_samples_split=8, n_estimators=200 \n",
      "[CV]  bootstrap=True, max_depth=11, max_features=2, min_samples_leaf=4, min_samples_split=8, n_estimators=200, total=   0.1s\n",
      "[CV] bootstrap=True, max_depth=11, max_features=2, min_samples_leaf=4, min_samples_split=8, n_estimators=200 \n",
      "[CV]  bootstrap=True, max_depth=11, max_features=2, min_samples_leaf=4, min_samples_split=8, n_estimators=200, total=   0.1s\n",
      "[CV] bootstrap=True, max_depth=11, max_features=2, min_samples_leaf=4, min_samples_split=8, n_estimators=300 \n",
      "[CV]  bootstrap=True, max_depth=11, max_features=2, min_samples_leaf=4, min_samples_split=8, n_estimators=300, total=   0.2s\n",
      "[CV] bootstrap=True, max_depth=11, max_features=2, min_samples_leaf=4, min_samples_split=8, n_estimators=300 \n",
      "[CV]  bootstrap=True, max_depth=11, max_features=2, min_samples_leaf=4, min_samples_split=8, n_estimators=300, total=   0.2s\n",
      "[CV] bootstrap=True, max_depth=11, max_features=2, min_samples_leaf=4, min_samples_split=8, n_estimators=300 \n",
      "[CV]  bootstrap=True, max_depth=11, max_features=2, min_samples_leaf=4, min_samples_split=8, n_estimators=300, total=   0.2s\n",
      "[CV] bootstrap=True, max_depth=11, max_features=2, min_samples_leaf=4, min_samples_split=8, n_estimators=1000 \n",
      "[CV]  bootstrap=True, max_depth=11, max_features=2, min_samples_leaf=4, min_samples_split=8, n_estimators=1000, total=   0.9s\n",
      "[CV] bootstrap=True, max_depth=11, max_features=2, min_samples_leaf=4, min_samples_split=8, n_estimators=1000 \n",
      "[CV]  bootstrap=True, max_depth=11, max_features=2, min_samples_leaf=4, min_samples_split=8, n_estimators=1000, total=   0.9s\n",
      "[CV] bootstrap=True, max_depth=11, max_features=2, min_samples_leaf=4, min_samples_split=8, n_estimators=1000 \n",
      "[CV]  bootstrap=True, max_depth=11, max_features=2, min_samples_leaf=4, min_samples_split=8, n_estimators=1000, total=   0.9s\n",
      "[CV] bootstrap=True, max_depth=11, max_features=2, min_samples_leaf=4, min_samples_split=10, n_estimators=100 \n",
      "[CV]  bootstrap=True, max_depth=11, max_features=2, min_samples_leaf=4, min_samples_split=10, n_estimators=100, total=   0.0s\n",
      "[CV] bootstrap=True, max_depth=11, max_features=2, min_samples_leaf=4, min_samples_split=10, n_estimators=100 \n",
      "[CV]  bootstrap=True, max_depth=11, max_features=2, min_samples_leaf=4, min_samples_split=10, n_estimators=100, total=   0.0s\n",
      "[CV] bootstrap=True, max_depth=11, max_features=2, min_samples_leaf=4, min_samples_split=10, n_estimators=100 \n",
      "[CV]  bootstrap=True, max_depth=11, max_features=2, min_samples_leaf=4, min_samples_split=10, n_estimators=100, total=   0.0s\n",
      "[CV] bootstrap=True, max_depth=11, max_features=2, min_samples_leaf=4, min_samples_split=10, n_estimators=200 \n",
      "[CV]  bootstrap=True, max_depth=11, max_features=2, min_samples_leaf=4, min_samples_split=10, n_estimators=200, total=   0.1s\n",
      "[CV] bootstrap=True, max_depth=11, max_features=2, min_samples_leaf=4, min_samples_split=10, n_estimators=200 \n",
      "[CV]  bootstrap=True, max_depth=11, max_features=2, min_samples_leaf=4, min_samples_split=10, n_estimators=200, total=   0.1s\n",
      "[CV] bootstrap=True, max_depth=11, max_features=2, min_samples_leaf=4, min_samples_split=10, n_estimators=200 \n",
      "[CV]  bootstrap=True, max_depth=11, max_features=2, min_samples_leaf=4, min_samples_split=10, n_estimators=200, total=   0.1s\n",
      "[CV] bootstrap=True, max_depth=11, max_features=2, min_samples_leaf=4, min_samples_split=10, n_estimators=300 \n",
      "[CV]  bootstrap=True, max_depth=11, max_features=2, min_samples_leaf=4, min_samples_split=10, n_estimators=300, total=   0.2s\n",
      "[CV] bootstrap=True, max_depth=11, max_features=2, min_samples_leaf=4, min_samples_split=10, n_estimators=300 \n",
      "[CV]  bootstrap=True, max_depth=11, max_features=2, min_samples_leaf=4, min_samples_split=10, n_estimators=300, total=   0.2s\n",
      "[CV] bootstrap=True, max_depth=11, max_features=2, min_samples_leaf=4, min_samples_split=10, n_estimators=300 \n",
      "[CV]  bootstrap=True, max_depth=11, max_features=2, min_samples_leaf=4, min_samples_split=10, n_estimators=300, total=   0.2s\n",
      "[CV] bootstrap=True, max_depth=11, max_features=2, min_samples_leaf=4, min_samples_split=10, n_estimators=1000 \n",
      "[CV]  bootstrap=True, max_depth=11, max_features=2, min_samples_leaf=4, min_samples_split=10, n_estimators=1000, total=   1.0s\n",
      "[CV] bootstrap=True, max_depth=11, max_features=2, min_samples_leaf=4, min_samples_split=10, n_estimators=1000 \n",
      "[CV]  bootstrap=True, max_depth=11, max_features=2, min_samples_leaf=4, min_samples_split=10, n_estimators=1000, total=   0.9s\n",
      "[CV] bootstrap=True, max_depth=11, max_features=2, min_samples_leaf=4, min_samples_split=10, n_estimators=1000 \n",
      "[CV]  bootstrap=True, max_depth=11, max_features=2, min_samples_leaf=4, min_samples_split=10, n_estimators=1000, total=   0.9s\n",
      "[CV] bootstrap=True, max_depth=11, max_features=2, min_samples_leaf=4, min_samples_split=12, n_estimators=100 \n",
      "[CV]  bootstrap=True, max_depth=11, max_features=2, min_samples_leaf=4, min_samples_split=12, n_estimators=100, total=   0.0s\n",
      "[CV] bootstrap=True, max_depth=11, max_features=2, min_samples_leaf=4, min_samples_split=12, n_estimators=100 \n",
      "[CV]  bootstrap=True, max_depth=11, max_features=2, min_samples_leaf=4, min_samples_split=12, n_estimators=100, total=   0.0s\n",
      "[CV] bootstrap=True, max_depth=11, max_features=2, min_samples_leaf=4, min_samples_split=12, n_estimators=100 \n",
      "[CV]  bootstrap=True, max_depth=11, max_features=2, min_samples_leaf=4, min_samples_split=12, n_estimators=100, total=   0.0s\n",
      "[CV] bootstrap=True, max_depth=11, max_features=2, min_samples_leaf=4, min_samples_split=12, n_estimators=200 \n",
      "[CV]  bootstrap=True, max_depth=11, max_features=2, min_samples_leaf=4, min_samples_split=12, n_estimators=200, total=   0.1s\n",
      "[CV] bootstrap=True, max_depth=11, max_features=2, min_samples_leaf=4, min_samples_split=12, n_estimators=200 \n",
      "[CV]  bootstrap=True, max_depth=11, max_features=2, min_samples_leaf=4, min_samples_split=12, n_estimators=200, total=   0.1s\n",
      "[CV] bootstrap=True, max_depth=11, max_features=2, min_samples_leaf=4, min_samples_split=12, n_estimators=200 \n",
      "[CV]  bootstrap=True, max_depth=11, max_features=2, min_samples_leaf=4, min_samples_split=12, n_estimators=200, total=   0.1s\n",
      "[CV] bootstrap=True, max_depth=11, max_features=2, min_samples_leaf=4, min_samples_split=12, n_estimators=300 \n",
      "[CV]  bootstrap=True, max_depth=11, max_features=2, min_samples_leaf=4, min_samples_split=12, n_estimators=300, total=   0.2s\n",
      "[CV] bootstrap=True, max_depth=11, max_features=2, min_samples_leaf=4, min_samples_split=12, n_estimators=300 \n",
      "[CV]  bootstrap=True, max_depth=11, max_features=2, min_samples_leaf=4, min_samples_split=12, n_estimators=300, total=   0.2s\n",
      "[CV] bootstrap=True, max_depth=11, max_features=2, min_samples_leaf=4, min_samples_split=12, n_estimators=300 \n",
      "[CV]  bootstrap=True, max_depth=11, max_features=2, min_samples_leaf=4, min_samples_split=12, n_estimators=300, total=   0.2s\n",
      "[CV] bootstrap=True, max_depth=11, max_features=2, min_samples_leaf=4, min_samples_split=12, n_estimators=1000 \n",
      "[CV]  bootstrap=True, max_depth=11, max_features=2, min_samples_leaf=4, min_samples_split=12, n_estimators=1000, total=   0.9s\n",
      "[CV] bootstrap=True, max_depth=11, max_features=2, min_samples_leaf=4, min_samples_split=12, n_estimators=1000 \n",
      "[CV]  bootstrap=True, max_depth=11, max_features=2, min_samples_leaf=4, min_samples_split=12, n_estimators=1000, total=   0.9s\n",
      "[CV] bootstrap=True, max_depth=11, max_features=2, min_samples_leaf=4, min_samples_split=12, n_estimators=1000 \n",
      "[CV]  bootstrap=True, max_depth=11, max_features=2, min_samples_leaf=4, min_samples_split=12, n_estimators=1000, total=   0.9s\n",
      "[CV] bootstrap=True, max_depth=11, max_features=2, min_samples_leaf=5, min_samples_split=8, n_estimators=100 \n",
      "[CV]  bootstrap=True, max_depth=11, max_features=2, min_samples_leaf=5, min_samples_split=8, n_estimators=100, total=   0.0s\n",
      "[CV] bootstrap=True, max_depth=11, max_features=2, min_samples_leaf=5, min_samples_split=8, n_estimators=100 \n"
     ]
    },
    {
     "name": "stdout",
     "output_type": "stream",
     "text": [
      "[CV]  bootstrap=True, max_depth=11, max_features=2, min_samples_leaf=5, min_samples_split=8, n_estimators=100, total=   0.0s\n",
      "[CV] bootstrap=True, max_depth=11, max_features=2, min_samples_leaf=5, min_samples_split=8, n_estimators=100 \n",
      "[CV]  bootstrap=True, max_depth=11, max_features=2, min_samples_leaf=5, min_samples_split=8, n_estimators=100, total=   0.0s\n",
      "[CV] bootstrap=True, max_depth=11, max_features=2, min_samples_leaf=5, min_samples_split=8, n_estimators=200 \n",
      "[CV]  bootstrap=True, max_depth=11, max_features=2, min_samples_leaf=5, min_samples_split=8, n_estimators=200, total=   0.1s\n",
      "[CV] bootstrap=True, max_depth=11, max_features=2, min_samples_leaf=5, min_samples_split=8, n_estimators=200 \n",
      "[CV]  bootstrap=True, max_depth=11, max_features=2, min_samples_leaf=5, min_samples_split=8, n_estimators=200, total=   0.1s\n",
      "[CV] bootstrap=True, max_depth=11, max_features=2, min_samples_leaf=5, min_samples_split=8, n_estimators=200 \n",
      "[CV]  bootstrap=True, max_depth=11, max_features=2, min_samples_leaf=5, min_samples_split=8, n_estimators=200, total=   0.1s\n",
      "[CV] bootstrap=True, max_depth=11, max_features=2, min_samples_leaf=5, min_samples_split=8, n_estimators=300 \n",
      "[CV]  bootstrap=True, max_depth=11, max_features=2, min_samples_leaf=5, min_samples_split=8, n_estimators=300, total=   0.2s\n",
      "[CV] bootstrap=True, max_depth=11, max_features=2, min_samples_leaf=5, min_samples_split=8, n_estimators=300 \n",
      "[CV]  bootstrap=True, max_depth=11, max_features=2, min_samples_leaf=5, min_samples_split=8, n_estimators=300, total=   0.2s\n",
      "[CV] bootstrap=True, max_depth=11, max_features=2, min_samples_leaf=5, min_samples_split=8, n_estimators=300 \n",
      "[CV]  bootstrap=True, max_depth=11, max_features=2, min_samples_leaf=5, min_samples_split=8, n_estimators=300, total=   0.2s\n",
      "[CV] bootstrap=True, max_depth=11, max_features=2, min_samples_leaf=5, min_samples_split=8, n_estimators=1000 \n",
      "[CV]  bootstrap=True, max_depth=11, max_features=2, min_samples_leaf=5, min_samples_split=8, n_estimators=1000, total=   0.9s\n",
      "[CV] bootstrap=True, max_depth=11, max_features=2, min_samples_leaf=5, min_samples_split=8, n_estimators=1000 \n",
      "[CV]  bootstrap=True, max_depth=11, max_features=2, min_samples_leaf=5, min_samples_split=8, n_estimators=1000, total=   0.9s\n",
      "[CV] bootstrap=True, max_depth=11, max_features=2, min_samples_leaf=5, min_samples_split=8, n_estimators=1000 \n",
      "[CV]  bootstrap=True, max_depth=11, max_features=2, min_samples_leaf=5, min_samples_split=8, n_estimators=1000, total=   0.9s\n",
      "[CV] bootstrap=True, max_depth=11, max_features=2, min_samples_leaf=5, min_samples_split=10, n_estimators=100 \n",
      "[CV]  bootstrap=True, max_depth=11, max_features=2, min_samples_leaf=5, min_samples_split=10, n_estimators=100, total=   0.0s\n",
      "[CV] bootstrap=True, max_depth=11, max_features=2, min_samples_leaf=5, min_samples_split=10, n_estimators=100 \n",
      "[CV]  bootstrap=True, max_depth=11, max_features=2, min_samples_leaf=5, min_samples_split=10, n_estimators=100, total=   0.0s\n",
      "[CV] bootstrap=True, max_depth=11, max_features=2, min_samples_leaf=5, min_samples_split=10, n_estimators=100 \n",
      "[CV]  bootstrap=True, max_depth=11, max_features=2, min_samples_leaf=5, min_samples_split=10, n_estimators=100, total=   0.0s\n",
      "[CV] bootstrap=True, max_depth=11, max_features=2, min_samples_leaf=5, min_samples_split=10, n_estimators=200 \n",
      "[CV]  bootstrap=True, max_depth=11, max_features=2, min_samples_leaf=5, min_samples_split=10, n_estimators=200, total=   0.1s\n",
      "[CV] bootstrap=True, max_depth=11, max_features=2, min_samples_leaf=5, min_samples_split=10, n_estimators=200 \n",
      "[CV]  bootstrap=True, max_depth=11, max_features=2, min_samples_leaf=5, min_samples_split=10, n_estimators=200, total=   0.1s\n",
      "[CV] bootstrap=True, max_depth=11, max_features=2, min_samples_leaf=5, min_samples_split=10, n_estimators=200 \n",
      "[CV]  bootstrap=True, max_depth=11, max_features=2, min_samples_leaf=5, min_samples_split=10, n_estimators=200, total=   0.1s\n",
      "[CV] bootstrap=True, max_depth=11, max_features=2, min_samples_leaf=5, min_samples_split=10, n_estimators=300 \n",
      "[CV]  bootstrap=True, max_depth=11, max_features=2, min_samples_leaf=5, min_samples_split=10, n_estimators=300, total=   0.2s\n",
      "[CV] bootstrap=True, max_depth=11, max_features=2, min_samples_leaf=5, min_samples_split=10, n_estimators=300 \n",
      "[CV]  bootstrap=True, max_depth=11, max_features=2, min_samples_leaf=5, min_samples_split=10, n_estimators=300, total=   0.2s\n",
      "[CV] bootstrap=True, max_depth=11, max_features=2, min_samples_leaf=5, min_samples_split=10, n_estimators=300 \n",
      "[CV]  bootstrap=True, max_depth=11, max_features=2, min_samples_leaf=5, min_samples_split=10, n_estimators=300, total=   0.2s\n",
      "[CV] bootstrap=True, max_depth=11, max_features=2, min_samples_leaf=5, min_samples_split=10, n_estimators=1000 \n",
      "[CV]  bootstrap=True, max_depth=11, max_features=2, min_samples_leaf=5, min_samples_split=10, n_estimators=1000, total=   0.9s\n",
      "[CV] bootstrap=True, max_depth=11, max_features=2, min_samples_leaf=5, min_samples_split=10, n_estimators=1000 \n",
      "[CV]  bootstrap=True, max_depth=11, max_features=2, min_samples_leaf=5, min_samples_split=10, n_estimators=1000, total=   0.9s\n",
      "[CV] bootstrap=True, max_depth=11, max_features=2, min_samples_leaf=5, min_samples_split=10, n_estimators=1000 \n",
      "[CV]  bootstrap=True, max_depth=11, max_features=2, min_samples_leaf=5, min_samples_split=10, n_estimators=1000, total=   0.9s\n",
      "[CV] bootstrap=True, max_depth=11, max_features=2, min_samples_leaf=5, min_samples_split=12, n_estimators=100 \n",
      "[CV]  bootstrap=True, max_depth=11, max_features=2, min_samples_leaf=5, min_samples_split=12, n_estimators=100, total=   0.0s\n",
      "[CV] bootstrap=True, max_depth=11, max_features=2, min_samples_leaf=5, min_samples_split=12, n_estimators=100 \n",
      "[CV]  bootstrap=True, max_depth=11, max_features=2, min_samples_leaf=5, min_samples_split=12, n_estimators=100, total=   0.0s\n",
      "[CV] bootstrap=True, max_depth=11, max_features=2, min_samples_leaf=5, min_samples_split=12, n_estimators=100 \n",
      "[CV]  bootstrap=True, max_depth=11, max_features=2, min_samples_leaf=5, min_samples_split=12, n_estimators=100, total=   0.0s\n",
      "[CV] bootstrap=True, max_depth=11, max_features=2, min_samples_leaf=5, min_samples_split=12, n_estimators=200 \n",
      "[CV]  bootstrap=True, max_depth=11, max_features=2, min_samples_leaf=5, min_samples_split=12, n_estimators=200, total=   0.1s\n",
      "[CV] bootstrap=True, max_depth=11, max_features=2, min_samples_leaf=5, min_samples_split=12, n_estimators=200 \n",
      "[CV]  bootstrap=True, max_depth=11, max_features=2, min_samples_leaf=5, min_samples_split=12, n_estimators=200, total=   0.1s\n",
      "[CV] bootstrap=True, max_depth=11, max_features=2, min_samples_leaf=5, min_samples_split=12, n_estimators=200 \n",
      "[CV]  bootstrap=True, max_depth=11, max_features=2, min_samples_leaf=5, min_samples_split=12, n_estimators=200, total=   0.1s\n",
      "[CV] bootstrap=True, max_depth=11, max_features=2, min_samples_leaf=5, min_samples_split=12, n_estimators=300 \n",
      "[CV]  bootstrap=True, max_depth=11, max_features=2, min_samples_leaf=5, min_samples_split=12, n_estimators=300, total=   0.2s\n",
      "[CV] bootstrap=True, max_depth=11, max_features=2, min_samples_leaf=5, min_samples_split=12, n_estimators=300 \n",
      "[CV]  bootstrap=True, max_depth=11, max_features=2, min_samples_leaf=5, min_samples_split=12, n_estimators=300, total=   0.2s\n",
      "[CV] bootstrap=True, max_depth=11, max_features=2, min_samples_leaf=5, min_samples_split=12, n_estimators=300 \n",
      "[CV]  bootstrap=True, max_depth=11, max_features=2, min_samples_leaf=5, min_samples_split=12, n_estimators=300, total=   0.2s\n",
      "[CV] bootstrap=True, max_depth=11, max_features=2, min_samples_leaf=5, min_samples_split=12, n_estimators=1000 \n",
      "[CV]  bootstrap=True, max_depth=11, max_features=2, min_samples_leaf=5, min_samples_split=12, n_estimators=1000, total=   0.9s\n",
      "[CV] bootstrap=True, max_depth=11, max_features=2, min_samples_leaf=5, min_samples_split=12, n_estimators=1000 \n",
      "[CV]  bootstrap=True, max_depth=11, max_features=2, min_samples_leaf=5, min_samples_split=12, n_estimators=1000, total=   0.9s\n",
      "[CV] bootstrap=True, max_depth=11, max_features=2, min_samples_leaf=5, min_samples_split=12, n_estimators=1000 \n",
      "[CV]  bootstrap=True, max_depth=11, max_features=2, min_samples_leaf=5, min_samples_split=12, n_estimators=1000, total=   0.9s\n",
      "[CV] bootstrap=True, max_depth=11, max_features=3, min_samples_leaf=3, min_samples_split=8, n_estimators=100 \n",
      "[CV]  bootstrap=True, max_depth=11, max_features=3, min_samples_leaf=3, min_samples_split=8, n_estimators=100, total=   0.0s\n",
      "[CV] bootstrap=True, max_depth=11, max_features=3, min_samples_leaf=3, min_samples_split=8, n_estimators=100 \n"
     ]
    },
    {
     "name": "stdout",
     "output_type": "stream",
     "text": [
      "[CV]  bootstrap=True, max_depth=11, max_features=3, min_samples_leaf=3, min_samples_split=8, n_estimators=100, total=   0.0s\n",
      "[CV] bootstrap=True, max_depth=11, max_features=3, min_samples_leaf=3, min_samples_split=8, n_estimators=100 \n",
      "[CV]  bootstrap=True, max_depth=11, max_features=3, min_samples_leaf=3, min_samples_split=8, n_estimators=100, total=   0.1s\n",
      "[CV] bootstrap=True, max_depth=11, max_features=3, min_samples_leaf=3, min_samples_split=8, n_estimators=200 \n",
      "[CV]  bootstrap=True, max_depth=11, max_features=3, min_samples_leaf=3, min_samples_split=8, n_estimators=200, total=   0.2s\n",
      "[CV] bootstrap=True, max_depth=11, max_features=3, min_samples_leaf=3, min_samples_split=8, n_estimators=200 \n",
      "[CV]  bootstrap=True, max_depth=11, max_features=3, min_samples_leaf=3, min_samples_split=8, n_estimators=200, total=   0.1s\n",
      "[CV] bootstrap=True, max_depth=11, max_features=3, min_samples_leaf=3, min_samples_split=8, n_estimators=200 \n",
      "[CV]  bootstrap=True, max_depth=11, max_features=3, min_samples_leaf=3, min_samples_split=8, n_estimators=200, total=   0.2s\n",
      "[CV] bootstrap=True, max_depth=11, max_features=3, min_samples_leaf=3, min_samples_split=8, n_estimators=300 \n",
      "[CV]  bootstrap=True, max_depth=11, max_features=3, min_samples_leaf=3, min_samples_split=8, n_estimators=300, total=   0.2s\n",
      "[CV] bootstrap=True, max_depth=11, max_features=3, min_samples_leaf=3, min_samples_split=8, n_estimators=300 \n",
      "[CV]  bootstrap=True, max_depth=11, max_features=3, min_samples_leaf=3, min_samples_split=8, n_estimators=300, total=   0.2s\n",
      "[CV] bootstrap=True, max_depth=11, max_features=3, min_samples_leaf=3, min_samples_split=8, n_estimators=300 \n",
      "[CV]  bootstrap=True, max_depth=11, max_features=3, min_samples_leaf=3, min_samples_split=8, n_estimators=300, total=   0.2s\n",
      "[CV] bootstrap=True, max_depth=11, max_features=3, min_samples_leaf=3, min_samples_split=8, n_estimators=1000 \n",
      "[CV]  bootstrap=True, max_depth=11, max_features=3, min_samples_leaf=3, min_samples_split=8, n_estimators=1000, total=   1.0s\n",
      "[CV] bootstrap=True, max_depth=11, max_features=3, min_samples_leaf=3, min_samples_split=8, n_estimators=1000 \n",
      "[CV]  bootstrap=True, max_depth=11, max_features=3, min_samples_leaf=3, min_samples_split=8, n_estimators=1000, total=   1.5s\n",
      "[CV] bootstrap=True, max_depth=11, max_features=3, min_samples_leaf=3, min_samples_split=8, n_estimators=1000 \n",
      "[CV]  bootstrap=True, max_depth=11, max_features=3, min_samples_leaf=3, min_samples_split=8, n_estimators=1000, total=   1.0s\n",
      "[CV] bootstrap=True, max_depth=11, max_features=3, min_samples_leaf=3, min_samples_split=10, n_estimators=100 \n",
      "[CV]  bootstrap=True, max_depth=11, max_features=3, min_samples_leaf=3, min_samples_split=10, n_estimators=100, total=   0.0s\n",
      "[CV] bootstrap=True, max_depth=11, max_features=3, min_samples_leaf=3, min_samples_split=10, n_estimators=100 \n",
      "[CV]  bootstrap=True, max_depth=11, max_features=3, min_samples_leaf=3, min_samples_split=10, n_estimators=100, total=   0.0s\n",
      "[CV] bootstrap=True, max_depth=11, max_features=3, min_samples_leaf=3, min_samples_split=10, n_estimators=100 \n",
      "[CV]  bootstrap=True, max_depth=11, max_features=3, min_samples_leaf=3, min_samples_split=10, n_estimators=100, total=   0.0s\n",
      "[CV] bootstrap=True, max_depth=11, max_features=3, min_samples_leaf=3, min_samples_split=10, n_estimators=200 \n",
      "[CV]  bootstrap=True, max_depth=11, max_features=3, min_samples_leaf=3, min_samples_split=10, n_estimators=200, total=   0.1s\n",
      "[CV] bootstrap=True, max_depth=11, max_features=3, min_samples_leaf=3, min_samples_split=10, n_estimators=200 \n",
      "[CV]  bootstrap=True, max_depth=11, max_features=3, min_samples_leaf=3, min_samples_split=10, n_estimators=200, total=   0.1s\n",
      "[CV] bootstrap=True, max_depth=11, max_features=3, min_samples_leaf=3, min_samples_split=10, n_estimators=200 \n",
      "[CV]  bootstrap=True, max_depth=11, max_features=3, min_samples_leaf=3, min_samples_split=10, n_estimators=200, total=   0.1s\n",
      "[CV] bootstrap=True, max_depth=11, max_features=3, min_samples_leaf=3, min_samples_split=10, n_estimators=300 \n",
      "[CV]  bootstrap=True, max_depth=11, max_features=3, min_samples_leaf=3, min_samples_split=10, n_estimators=300, total=   0.2s\n",
      "[CV] bootstrap=True, max_depth=11, max_features=3, min_samples_leaf=3, min_samples_split=10, n_estimators=300 \n",
      "[CV]  bootstrap=True, max_depth=11, max_features=3, min_samples_leaf=3, min_samples_split=10, n_estimators=300, total=   0.2s\n",
      "[CV] bootstrap=True, max_depth=11, max_features=3, min_samples_leaf=3, min_samples_split=10, n_estimators=300 \n",
      "[CV]  bootstrap=True, max_depth=11, max_features=3, min_samples_leaf=3, min_samples_split=10, n_estimators=300, total=   0.2s\n",
      "[CV] bootstrap=True, max_depth=11, max_features=3, min_samples_leaf=3, min_samples_split=10, n_estimators=1000 \n",
      "[CV]  bootstrap=True, max_depth=11, max_features=3, min_samples_leaf=3, min_samples_split=10, n_estimators=1000, total=   1.0s\n",
      "[CV] bootstrap=True, max_depth=11, max_features=3, min_samples_leaf=3, min_samples_split=10, n_estimators=1000 \n",
      "[CV]  bootstrap=True, max_depth=11, max_features=3, min_samples_leaf=3, min_samples_split=10, n_estimators=1000, total=   1.0s\n",
      "[CV] bootstrap=True, max_depth=11, max_features=3, min_samples_leaf=3, min_samples_split=10, n_estimators=1000 \n",
      "[CV]  bootstrap=True, max_depth=11, max_features=3, min_samples_leaf=3, min_samples_split=10, n_estimators=1000, total=   1.0s\n",
      "[CV] bootstrap=True, max_depth=11, max_features=3, min_samples_leaf=3, min_samples_split=12, n_estimators=100 \n",
      "[CV]  bootstrap=True, max_depth=11, max_features=3, min_samples_leaf=3, min_samples_split=12, n_estimators=100, total=   0.0s\n",
      "[CV] bootstrap=True, max_depth=11, max_features=3, min_samples_leaf=3, min_samples_split=12, n_estimators=100 \n",
      "[CV]  bootstrap=True, max_depth=11, max_features=3, min_samples_leaf=3, min_samples_split=12, n_estimators=100, total=   0.0s\n",
      "[CV] bootstrap=True, max_depth=11, max_features=3, min_samples_leaf=3, min_samples_split=12, n_estimators=100 \n",
      "[CV]  bootstrap=True, max_depth=11, max_features=3, min_samples_leaf=3, min_samples_split=12, n_estimators=100, total=   0.0s\n",
      "[CV] bootstrap=True, max_depth=11, max_features=3, min_samples_leaf=3, min_samples_split=12, n_estimators=200 \n",
      "[CV]  bootstrap=True, max_depth=11, max_features=3, min_samples_leaf=3, min_samples_split=12, n_estimators=200, total=   0.1s\n",
      "[CV] bootstrap=True, max_depth=11, max_features=3, min_samples_leaf=3, min_samples_split=12, n_estimators=200 \n",
      "[CV]  bootstrap=True, max_depth=11, max_features=3, min_samples_leaf=3, min_samples_split=12, n_estimators=200, total=   0.1s\n",
      "[CV] bootstrap=True, max_depth=11, max_features=3, min_samples_leaf=3, min_samples_split=12, n_estimators=200 \n",
      "[CV]  bootstrap=True, max_depth=11, max_features=3, min_samples_leaf=3, min_samples_split=12, n_estimators=200, total=   0.1s\n",
      "[CV] bootstrap=True, max_depth=11, max_features=3, min_samples_leaf=3, min_samples_split=12, n_estimators=300 \n",
      "[CV]  bootstrap=True, max_depth=11, max_features=3, min_samples_leaf=3, min_samples_split=12, n_estimators=300, total=   0.2s\n",
      "[CV] bootstrap=True, max_depth=11, max_features=3, min_samples_leaf=3, min_samples_split=12, n_estimators=300 \n",
      "[CV]  bootstrap=True, max_depth=11, max_features=3, min_samples_leaf=3, min_samples_split=12, n_estimators=300, total=   0.2s\n",
      "[CV] bootstrap=True, max_depth=11, max_features=3, min_samples_leaf=3, min_samples_split=12, n_estimators=300 \n",
      "[CV]  bootstrap=True, max_depth=11, max_features=3, min_samples_leaf=3, min_samples_split=12, n_estimators=300, total=   0.2s\n",
      "[CV] bootstrap=True, max_depth=11, max_features=3, min_samples_leaf=3, min_samples_split=12, n_estimators=1000 \n",
      "[CV]  bootstrap=True, max_depth=11, max_features=3, min_samples_leaf=3, min_samples_split=12, n_estimators=1000, total=   1.0s\n",
      "[CV] bootstrap=True, max_depth=11, max_features=3, min_samples_leaf=3, min_samples_split=12, n_estimators=1000 \n",
      "[CV]  bootstrap=True, max_depth=11, max_features=3, min_samples_leaf=3, min_samples_split=12, n_estimators=1000, total=   1.0s\n",
      "[CV] bootstrap=True, max_depth=11, max_features=3, min_samples_leaf=3, min_samples_split=12, n_estimators=1000 \n",
      "[CV]  bootstrap=True, max_depth=11, max_features=3, min_samples_leaf=3, min_samples_split=12, n_estimators=1000, total=   1.0s\n",
      "[CV] bootstrap=True, max_depth=11, max_features=3, min_samples_leaf=4, min_samples_split=8, n_estimators=100 \n",
      "[CV]  bootstrap=True, max_depth=11, max_features=3, min_samples_leaf=4, min_samples_split=8, n_estimators=100, total=   0.0s\n",
      "[CV] bootstrap=True, max_depth=11, max_features=3, min_samples_leaf=4, min_samples_split=8, n_estimators=100 \n"
     ]
    },
    {
     "name": "stdout",
     "output_type": "stream",
     "text": [
      "[CV]  bootstrap=True, max_depth=11, max_features=3, min_samples_leaf=4, min_samples_split=8, n_estimators=100, total=   0.0s\n",
      "[CV] bootstrap=True, max_depth=11, max_features=3, min_samples_leaf=4, min_samples_split=8, n_estimators=100 \n",
      "[CV]  bootstrap=True, max_depth=11, max_features=3, min_samples_leaf=4, min_samples_split=8, n_estimators=100, total=   0.0s\n",
      "[CV] bootstrap=True, max_depth=11, max_features=3, min_samples_leaf=4, min_samples_split=8, n_estimators=200 \n",
      "[CV]  bootstrap=True, max_depth=11, max_features=3, min_samples_leaf=4, min_samples_split=8, n_estimators=200, total=   0.1s\n",
      "[CV] bootstrap=True, max_depth=11, max_features=3, min_samples_leaf=4, min_samples_split=8, n_estimators=200 \n",
      "[CV]  bootstrap=True, max_depth=11, max_features=3, min_samples_leaf=4, min_samples_split=8, n_estimators=200, total=   0.1s\n",
      "[CV] bootstrap=True, max_depth=11, max_features=3, min_samples_leaf=4, min_samples_split=8, n_estimators=200 \n",
      "[CV]  bootstrap=True, max_depth=11, max_features=3, min_samples_leaf=4, min_samples_split=8, n_estimators=200, total=   0.1s\n",
      "[CV] bootstrap=True, max_depth=11, max_features=3, min_samples_leaf=4, min_samples_split=8, n_estimators=300 \n",
      "[CV]  bootstrap=True, max_depth=11, max_features=3, min_samples_leaf=4, min_samples_split=8, n_estimators=300, total=   0.2s\n",
      "[CV] bootstrap=True, max_depth=11, max_features=3, min_samples_leaf=4, min_samples_split=8, n_estimators=300 \n",
      "[CV]  bootstrap=True, max_depth=11, max_features=3, min_samples_leaf=4, min_samples_split=8, n_estimators=300, total=   0.2s\n",
      "[CV] bootstrap=True, max_depth=11, max_features=3, min_samples_leaf=4, min_samples_split=8, n_estimators=300 \n",
      "[CV]  bootstrap=True, max_depth=11, max_features=3, min_samples_leaf=4, min_samples_split=8, n_estimators=300, total=   0.2s\n",
      "[CV] bootstrap=True, max_depth=11, max_features=3, min_samples_leaf=4, min_samples_split=8, n_estimators=1000 \n",
      "[CV]  bootstrap=True, max_depth=11, max_features=3, min_samples_leaf=4, min_samples_split=8, n_estimators=1000, total=   1.1s\n",
      "[CV] bootstrap=True, max_depth=11, max_features=3, min_samples_leaf=4, min_samples_split=8, n_estimators=1000 \n",
      "[CV]  bootstrap=True, max_depth=11, max_features=3, min_samples_leaf=4, min_samples_split=8, n_estimators=1000, total=   1.1s\n",
      "[CV] bootstrap=True, max_depth=11, max_features=3, min_samples_leaf=4, min_samples_split=8, n_estimators=1000 \n",
      "[CV]  bootstrap=True, max_depth=11, max_features=3, min_samples_leaf=4, min_samples_split=8, n_estimators=1000, total=   1.1s\n",
      "[CV] bootstrap=True, max_depth=11, max_features=3, min_samples_leaf=4, min_samples_split=10, n_estimators=100 \n",
      "[CV]  bootstrap=True, max_depth=11, max_features=3, min_samples_leaf=4, min_samples_split=10, n_estimators=100, total=   0.0s\n",
      "[CV] bootstrap=True, max_depth=11, max_features=3, min_samples_leaf=4, min_samples_split=10, n_estimators=100 \n",
      "[CV]  bootstrap=True, max_depth=11, max_features=3, min_samples_leaf=4, min_samples_split=10, n_estimators=100, total=   0.0s\n",
      "[CV] bootstrap=True, max_depth=11, max_features=3, min_samples_leaf=4, min_samples_split=10, n_estimators=100 \n",
      "[CV]  bootstrap=True, max_depth=11, max_features=3, min_samples_leaf=4, min_samples_split=10, n_estimators=100, total=   0.0s\n",
      "[CV] bootstrap=True, max_depth=11, max_features=3, min_samples_leaf=4, min_samples_split=10, n_estimators=200 \n",
      "[CV]  bootstrap=True, max_depth=11, max_features=3, min_samples_leaf=4, min_samples_split=10, n_estimators=200, total=   0.1s\n",
      "[CV] bootstrap=True, max_depth=11, max_features=3, min_samples_leaf=4, min_samples_split=10, n_estimators=200 \n",
      "[CV]  bootstrap=True, max_depth=11, max_features=3, min_samples_leaf=4, min_samples_split=10, n_estimators=200, total=   0.2s\n",
      "[CV] bootstrap=True, max_depth=11, max_features=3, min_samples_leaf=4, min_samples_split=10, n_estimators=200 \n",
      "[CV]  bootstrap=True, max_depth=11, max_features=3, min_samples_leaf=4, min_samples_split=10, n_estimators=200, total=   0.3s\n",
      "[CV] bootstrap=True, max_depth=11, max_features=3, min_samples_leaf=4, min_samples_split=10, n_estimators=300 \n",
      "[CV]  bootstrap=True, max_depth=11, max_features=3, min_samples_leaf=4, min_samples_split=10, n_estimators=300, total=   0.3s\n",
      "[CV] bootstrap=True, max_depth=11, max_features=3, min_samples_leaf=4, min_samples_split=10, n_estimators=300 \n",
      "[CV]  bootstrap=True, max_depth=11, max_features=3, min_samples_leaf=4, min_samples_split=10, n_estimators=300, total=   0.2s\n",
      "[CV] bootstrap=True, max_depth=11, max_features=3, min_samples_leaf=4, min_samples_split=10, n_estimators=300 \n",
      "[CV]  bootstrap=True, max_depth=11, max_features=3, min_samples_leaf=4, min_samples_split=10, n_estimators=300, total=   0.3s\n",
      "[CV] bootstrap=True, max_depth=11, max_features=3, min_samples_leaf=4, min_samples_split=10, n_estimators=1000 \n",
      "[CV]  bootstrap=True, max_depth=11, max_features=3, min_samples_leaf=4, min_samples_split=10, n_estimators=1000, total=   1.4s\n",
      "[CV] bootstrap=True, max_depth=11, max_features=3, min_samples_leaf=4, min_samples_split=10, n_estimators=1000 \n",
      "[CV]  bootstrap=True, max_depth=11, max_features=3, min_samples_leaf=4, min_samples_split=10, n_estimators=1000, total=   1.0s\n",
      "[CV] bootstrap=True, max_depth=11, max_features=3, min_samples_leaf=4, min_samples_split=10, n_estimators=1000 \n",
      "[CV]  bootstrap=True, max_depth=11, max_features=3, min_samples_leaf=4, min_samples_split=10, n_estimators=1000, total=   1.1s\n",
      "[CV] bootstrap=True, max_depth=11, max_features=3, min_samples_leaf=4, min_samples_split=12, n_estimators=100 \n",
      "[CV]  bootstrap=True, max_depth=11, max_features=3, min_samples_leaf=4, min_samples_split=12, n_estimators=100, total=   0.0s\n",
      "[CV] bootstrap=True, max_depth=11, max_features=3, min_samples_leaf=4, min_samples_split=12, n_estimators=100 \n",
      "[CV]  bootstrap=True, max_depth=11, max_features=3, min_samples_leaf=4, min_samples_split=12, n_estimators=100, total=   0.0s\n",
      "[CV] bootstrap=True, max_depth=11, max_features=3, min_samples_leaf=4, min_samples_split=12, n_estimators=100 \n",
      "[CV]  bootstrap=True, max_depth=11, max_features=3, min_samples_leaf=4, min_samples_split=12, n_estimators=100, total=   0.0s\n",
      "[CV] bootstrap=True, max_depth=11, max_features=3, min_samples_leaf=4, min_samples_split=12, n_estimators=200 \n",
      "[CV]  bootstrap=True, max_depth=11, max_features=3, min_samples_leaf=4, min_samples_split=12, n_estimators=200, total=   0.1s\n",
      "[CV] bootstrap=True, max_depth=11, max_features=3, min_samples_leaf=4, min_samples_split=12, n_estimators=200 \n",
      "[CV]  bootstrap=True, max_depth=11, max_features=3, min_samples_leaf=4, min_samples_split=12, n_estimators=200, total=   0.1s\n",
      "[CV] bootstrap=True, max_depth=11, max_features=3, min_samples_leaf=4, min_samples_split=12, n_estimators=200 \n",
      "[CV]  bootstrap=True, max_depth=11, max_features=3, min_samples_leaf=4, min_samples_split=12, n_estimators=200, total=   0.2s\n",
      "[CV] bootstrap=True, max_depth=11, max_features=3, min_samples_leaf=4, min_samples_split=12, n_estimators=300 \n",
      "[CV]  bootstrap=True, max_depth=11, max_features=3, min_samples_leaf=4, min_samples_split=12, n_estimators=300, total=   0.4s\n",
      "[CV] bootstrap=True, max_depth=11, max_features=3, min_samples_leaf=4, min_samples_split=12, n_estimators=300 \n",
      "[CV]  bootstrap=True, max_depth=11, max_features=3, min_samples_leaf=4, min_samples_split=12, n_estimators=300, total=   0.4s\n",
      "[CV] bootstrap=True, max_depth=11, max_features=3, min_samples_leaf=4, min_samples_split=12, n_estimators=300 \n",
      "[CV]  bootstrap=True, max_depth=11, max_features=3, min_samples_leaf=4, min_samples_split=12, n_estimators=300, total=   0.5s\n",
      "[CV] bootstrap=True, max_depth=11, max_features=3, min_samples_leaf=4, min_samples_split=12, n_estimators=1000 \n",
      "[CV]  bootstrap=True, max_depth=11, max_features=3, min_samples_leaf=4, min_samples_split=12, n_estimators=1000, total=   1.0s\n",
      "[CV] bootstrap=True, max_depth=11, max_features=3, min_samples_leaf=4, min_samples_split=12, n_estimators=1000 \n",
      "[CV]  bootstrap=True, max_depth=11, max_features=3, min_samples_leaf=4, min_samples_split=12, n_estimators=1000, total=   1.1s\n",
      "[CV] bootstrap=True, max_depth=11, max_features=3, min_samples_leaf=4, min_samples_split=12, n_estimators=1000 \n",
      "[CV]  bootstrap=True, max_depth=11, max_features=3, min_samples_leaf=4, min_samples_split=12, n_estimators=1000, total=   1.2s\n",
      "[CV] bootstrap=True, max_depth=11, max_features=3, min_samples_leaf=5, min_samples_split=8, n_estimators=100 \n",
      "[CV]  bootstrap=True, max_depth=11, max_features=3, min_samples_leaf=5, min_samples_split=8, n_estimators=100, total=   0.0s\n",
      "[CV] bootstrap=True, max_depth=11, max_features=3, min_samples_leaf=5, min_samples_split=8, n_estimators=100 \n"
     ]
    },
    {
     "name": "stdout",
     "output_type": "stream",
     "text": [
      "[CV]  bootstrap=True, max_depth=11, max_features=3, min_samples_leaf=5, min_samples_split=8, n_estimators=100, total=   0.0s\n",
      "[CV] bootstrap=True, max_depth=11, max_features=3, min_samples_leaf=5, min_samples_split=8, n_estimators=100 \n",
      "[CV]  bootstrap=True, max_depth=11, max_features=3, min_samples_leaf=5, min_samples_split=8, n_estimators=100, total=   0.0s\n",
      "[CV] bootstrap=True, max_depth=11, max_features=3, min_samples_leaf=5, min_samples_split=8, n_estimators=200 \n",
      "[CV]  bootstrap=True, max_depth=11, max_features=3, min_samples_leaf=5, min_samples_split=8, n_estimators=200, total=   0.2s\n",
      "[CV] bootstrap=True, max_depth=11, max_features=3, min_samples_leaf=5, min_samples_split=8, n_estimators=200 \n",
      "[CV]  bootstrap=True, max_depth=11, max_features=3, min_samples_leaf=5, min_samples_split=8, n_estimators=200, total=   0.2s\n",
      "[CV] bootstrap=True, max_depth=11, max_features=3, min_samples_leaf=5, min_samples_split=8, n_estimators=200 \n",
      "[CV]  bootstrap=True, max_depth=11, max_features=3, min_samples_leaf=5, min_samples_split=8, n_estimators=200, total=   0.2s\n",
      "[CV] bootstrap=True, max_depth=11, max_features=3, min_samples_leaf=5, min_samples_split=8, n_estimators=300 \n",
      "[CV]  bootstrap=True, max_depth=11, max_features=3, min_samples_leaf=5, min_samples_split=8, n_estimators=300, total=   0.3s\n",
      "[CV] bootstrap=True, max_depth=11, max_features=3, min_samples_leaf=5, min_samples_split=8, n_estimators=300 \n",
      "[CV]  bootstrap=True, max_depth=11, max_features=3, min_samples_leaf=5, min_samples_split=8, n_estimators=300, total=   0.3s\n",
      "[CV] bootstrap=True, max_depth=11, max_features=3, min_samples_leaf=5, min_samples_split=8, n_estimators=300 \n",
      "[CV]  bootstrap=True, max_depth=11, max_features=3, min_samples_leaf=5, min_samples_split=8, n_estimators=300, total=   0.3s\n",
      "[CV] bootstrap=True, max_depth=11, max_features=3, min_samples_leaf=5, min_samples_split=8, n_estimators=1000 \n",
      "[CV]  bootstrap=True, max_depth=11, max_features=3, min_samples_leaf=5, min_samples_split=8, n_estimators=1000, total=   1.1s\n",
      "[CV] bootstrap=True, max_depth=11, max_features=3, min_samples_leaf=5, min_samples_split=8, n_estimators=1000 \n",
      "[CV]  bootstrap=True, max_depth=11, max_features=3, min_samples_leaf=5, min_samples_split=8, n_estimators=1000, total=   1.0s\n",
      "[CV] bootstrap=True, max_depth=11, max_features=3, min_samples_leaf=5, min_samples_split=8, n_estimators=1000 \n",
      "[CV]  bootstrap=True, max_depth=11, max_features=3, min_samples_leaf=5, min_samples_split=8, n_estimators=1000, total=   1.0s\n",
      "[CV] bootstrap=True, max_depth=11, max_features=3, min_samples_leaf=5, min_samples_split=10, n_estimators=100 \n",
      "[CV]  bootstrap=True, max_depth=11, max_features=3, min_samples_leaf=5, min_samples_split=10, n_estimators=100, total=   0.0s\n",
      "[CV] bootstrap=True, max_depth=11, max_features=3, min_samples_leaf=5, min_samples_split=10, n_estimators=100 \n",
      "[CV]  bootstrap=True, max_depth=11, max_features=3, min_samples_leaf=5, min_samples_split=10, n_estimators=100, total=   0.0s\n",
      "[CV] bootstrap=True, max_depth=11, max_features=3, min_samples_leaf=5, min_samples_split=10, n_estimators=100 \n",
      "[CV]  bootstrap=True, max_depth=11, max_features=3, min_samples_leaf=5, min_samples_split=10, n_estimators=100, total=   0.0s\n",
      "[CV] bootstrap=True, max_depth=11, max_features=3, min_samples_leaf=5, min_samples_split=10, n_estimators=200 \n",
      "[CV]  bootstrap=True, max_depth=11, max_features=3, min_samples_leaf=5, min_samples_split=10, n_estimators=200, total=   0.1s\n",
      "[CV] bootstrap=True, max_depth=11, max_features=3, min_samples_leaf=5, min_samples_split=10, n_estimators=200 \n",
      "[CV]  bootstrap=True, max_depth=11, max_features=3, min_samples_leaf=5, min_samples_split=10, n_estimators=200, total=   0.1s\n",
      "[CV] bootstrap=True, max_depth=11, max_features=3, min_samples_leaf=5, min_samples_split=10, n_estimators=200 \n",
      "[CV]  bootstrap=True, max_depth=11, max_features=3, min_samples_leaf=5, min_samples_split=10, n_estimators=200, total=   0.1s\n",
      "[CV] bootstrap=True, max_depth=11, max_features=3, min_samples_leaf=5, min_samples_split=10, n_estimators=300 \n",
      "[CV]  bootstrap=True, max_depth=11, max_features=3, min_samples_leaf=5, min_samples_split=10, n_estimators=300, total=   0.2s\n",
      "[CV] bootstrap=True, max_depth=11, max_features=3, min_samples_leaf=5, min_samples_split=10, n_estimators=300 \n",
      "[CV]  bootstrap=True, max_depth=11, max_features=3, min_samples_leaf=5, min_samples_split=10, n_estimators=300, total=   0.2s\n",
      "[CV] bootstrap=True, max_depth=11, max_features=3, min_samples_leaf=5, min_samples_split=10, n_estimators=300 \n",
      "[CV]  bootstrap=True, max_depth=11, max_features=3, min_samples_leaf=5, min_samples_split=10, n_estimators=300, total=   0.3s\n",
      "[CV] bootstrap=True, max_depth=11, max_features=3, min_samples_leaf=5, min_samples_split=10, n_estimators=1000 \n",
      "[CV]  bootstrap=True, max_depth=11, max_features=3, min_samples_leaf=5, min_samples_split=10, n_estimators=1000, total=   1.2s\n",
      "[CV] bootstrap=True, max_depth=11, max_features=3, min_samples_leaf=5, min_samples_split=10, n_estimators=1000 \n",
      "[CV]  bootstrap=True, max_depth=11, max_features=3, min_samples_leaf=5, min_samples_split=10, n_estimators=1000, total=   1.1s\n",
      "[CV] bootstrap=True, max_depth=11, max_features=3, min_samples_leaf=5, min_samples_split=10, n_estimators=1000 \n",
      "[CV]  bootstrap=True, max_depth=11, max_features=3, min_samples_leaf=5, min_samples_split=10, n_estimators=1000, total=   1.0s\n",
      "[CV] bootstrap=True, max_depth=11, max_features=3, min_samples_leaf=5, min_samples_split=12, n_estimators=100 \n",
      "[CV]  bootstrap=True, max_depth=11, max_features=3, min_samples_leaf=5, min_samples_split=12, n_estimators=100, total=   0.0s\n",
      "[CV] bootstrap=True, max_depth=11, max_features=3, min_samples_leaf=5, min_samples_split=12, n_estimators=100 \n",
      "[CV]  bootstrap=True, max_depth=11, max_features=3, min_samples_leaf=5, min_samples_split=12, n_estimators=100, total=   0.0s\n",
      "[CV] bootstrap=True, max_depth=11, max_features=3, min_samples_leaf=5, min_samples_split=12, n_estimators=100 \n",
      "[CV]  bootstrap=True, max_depth=11, max_features=3, min_samples_leaf=5, min_samples_split=12, n_estimators=100, total=   0.0s\n",
      "[CV] bootstrap=True, max_depth=11, max_features=3, min_samples_leaf=5, min_samples_split=12, n_estimators=200 \n",
      "[CV]  bootstrap=True, max_depth=11, max_features=3, min_samples_leaf=5, min_samples_split=12, n_estimators=200, total=   0.1s\n",
      "[CV] bootstrap=True, max_depth=11, max_features=3, min_samples_leaf=5, min_samples_split=12, n_estimators=200 \n",
      "[CV]  bootstrap=True, max_depth=11, max_features=3, min_samples_leaf=5, min_samples_split=12, n_estimators=200, total=   0.1s\n",
      "[CV] bootstrap=True, max_depth=11, max_features=3, min_samples_leaf=5, min_samples_split=12, n_estimators=200 \n",
      "[CV]  bootstrap=True, max_depth=11, max_features=3, min_samples_leaf=5, min_samples_split=12, n_estimators=200, total=   0.1s\n",
      "[CV] bootstrap=True, max_depth=11, max_features=3, min_samples_leaf=5, min_samples_split=12, n_estimators=300 \n",
      "[CV]  bootstrap=True, max_depth=11, max_features=3, min_samples_leaf=5, min_samples_split=12, n_estimators=300, total=   0.2s\n",
      "[CV] bootstrap=True, max_depth=11, max_features=3, min_samples_leaf=5, min_samples_split=12, n_estimators=300 \n",
      "[CV]  bootstrap=True, max_depth=11, max_features=3, min_samples_leaf=5, min_samples_split=12, n_estimators=300, total=   0.2s\n",
      "[CV] bootstrap=True, max_depth=11, max_features=3, min_samples_leaf=5, min_samples_split=12, n_estimators=300 \n",
      "[CV]  bootstrap=True, max_depth=11, max_features=3, min_samples_leaf=5, min_samples_split=12, n_estimators=300, total=   0.2s\n",
      "[CV] bootstrap=True, max_depth=11, max_features=3, min_samples_leaf=5, min_samples_split=12, n_estimators=1000 \n",
      "[CV]  bootstrap=True, max_depth=11, max_features=3, min_samples_leaf=5, min_samples_split=12, n_estimators=1000, total=   0.9s\n",
      "[CV] bootstrap=True, max_depth=11, max_features=3, min_samples_leaf=5, min_samples_split=12, n_estimators=1000 \n",
      "[CV]  bootstrap=True, max_depth=11, max_features=3, min_samples_leaf=5, min_samples_split=12, n_estimators=1000, total=   0.9s\n",
      "[CV] bootstrap=True, max_depth=11, max_features=3, min_samples_leaf=5, min_samples_split=12, n_estimators=1000 \n",
      "[CV]  bootstrap=True, max_depth=11, max_features=3, min_samples_leaf=5, min_samples_split=12, n_estimators=1000, total=   0.9s\n"
     ]
    },
    {
     "name": "stderr",
     "output_type": "stream",
     "text": [
      "[Parallel(n_jobs=1)]: Done 864 out of 864 | elapsed:  6.9min finished\n"
     ]
    },
    {
     "data": {
      "text/plain": [
       "GridSearchCV(cv=3, error_score='raise-deprecating',\n",
       "       estimator=RandomForestClassifier(bootstrap=True, class_weight=None, criterion='gini',\n",
       "            max_depth=None, max_features='auto', max_leaf_nodes=None,\n",
       "            min_impurity_decrease=0.0, min_impurity_split=None,\n",
       "            min_samples_leaf=1, min_samples_split=2,\n",
       "            min_weight_fraction_leaf=0.0, n_estimators='warn', n_jobs=None,\n",
       "            oob_score=False, random_state=None, verbose=0,\n",
       "            warm_start=False),\n",
       "       fit_params=None, iid='warn', n_jobs=None,\n",
       "       param_grid={'bootstrap': [True], 'max_depth': [8, 9, 10, 11], 'max_features': [2, 3], 'min_samples_leaf': [3, 4, 5], 'min_samples_split': [8, 10, 12], 'n_estimators': [100, 200, 300, 1000]},\n",
       "       pre_dispatch='2*n_jobs', refit=True, return_train_score='warn',\n",
       "       scoring='roc_auc', verbose=2)"
      ]
     },
     "execution_count": 254,
     "metadata": {},
     "output_type": "execute_result"
    }
   ],
   "source": [
    "mod.fit(xtrain,ytrain)  # fitting the model based on the results from grid search"
   ]
  },
  {
   "cell_type": "code",
   "execution_count": 255,
   "metadata": {},
   "outputs": [
    {
     "data": {
      "text/plain": [
       "{'bootstrap': True,\n",
       " 'max_depth': 8,\n",
       " 'max_features': 3,\n",
       " 'min_samples_leaf': 5,\n",
       " 'min_samples_split': 8,\n",
       " 'n_estimators': 300}"
      ]
     },
     "execution_count": 255,
     "metadata": {},
     "output_type": "execute_result"
    }
   ],
   "source": [
    "mod.best_params_    # looking for the best parameters for the Random Forest Classifier"
   ]
  },
  {
   "cell_type": "code",
   "execution_count": 276,
   "metadata": {},
   "outputs": [
    {
     "data": {
      "text/plain": [
       "0.7848101265822786"
      ]
     },
     "execution_count": 276,
     "metadata": {},
     "output_type": "execute_result"
    }
   ],
   "source": [
    "# Training the model based on the best fit Hyperparameter Tuning \n",
    "clf = RandomForestClassifier(n_estimators =300,random_state=0,max_features=10,max_depth=8,min_samples_leaf=5,\n",
    "                             min_samples_split=7).fit(xtrain, ytrain)\n",
    "pred = clf.predict(xtest)\n",
    "f1_score(ytest,pred)"
   ]
  },
  {
   "cell_type": "code",
   "execution_count": 277,
   "metadata": {},
   "outputs": [],
   "source": [
    "# Test data\n",
    "Xtest = pd.read_csv('testdf.csv')"
   ]
  },
  {
   "cell_type": "code",
   "execution_count": 292,
   "metadata": {},
   "outputs": [],
   "source": [
    "# Training the model on the whole of Train Data and taking predictions for the entire Test csv\n",
    "clf = RandomForestClassifier(n_estimators =300,random_state=0,max_features=10,max_depth=8,min_samples_leaf=5,\n",
    "                             min_samples_split=7).fit(X,y)\n",
    "pred = clf.predict(Xtest)\n"
   ]
  },
  {
   "cell_type": "code",
   "execution_count": 293,
   "metadata": {},
   "outputs": [],
   "source": [
    "# Saving Ouput as csv based on the instructions given\n",
    "output = pd.DataFrame({'PassengerId': test.PassengerId, 'Survived': pred})\n",
    "output.to_csv('my_submission.csv', index=False)"
   ]
  }
 ],
 "metadata": {
  "kernelspec": {
   "display_name": "Python 3",
   "language": "python",
   "name": "python3"
  },
  "language_info": {
   "codemirror_mode": {
    "name": "ipython",
    "version": 3
   },
   "file_extension": ".py",
   "mimetype": "text/x-python",
   "name": "python",
   "nbconvert_exporter": "python",
   "pygments_lexer": "ipython3",
   "version": "3.7.3"
  }
 },
 "nbformat": 4,
 "nbformat_minor": 2
}
