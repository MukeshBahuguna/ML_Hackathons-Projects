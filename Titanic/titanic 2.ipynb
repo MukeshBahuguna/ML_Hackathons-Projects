{
 "cells": [
  {
   "cell_type": "code",
   "execution_count": 17,
   "metadata": {},
   "outputs": [],
   "source": [
    "import matplotlib.pyplot as plt\n",
    "import seaborn as sns\n",
    "import pandas as pd\n",
    "import numpy as np\n",
    "from sklearn.model_selection import train_test_split\n",
    "from sklearn.linear_model import LogisticRegression\n",
    "from sklearn.svm import SVC, LinearSVC\n",
    "from sklearn.ensemble import RandomForestClassifier\n",
    "from sklearn.tree import DecisionTreeClassifier\n",
    "from sklearn.neighbors import KNeighborsClassifier\n",
    "from sklearn.naive_bayes import GaussianNB\n",
    "from sklearn.ensemble import GradientBoostingClassifier\n",
    "from sklearn.neural_network import MLPClassifier\n",
    "from sklearn.preprocessing import LabelEncoder\n",
    "from sklearn.metrics import f1_score\n",
    "from sklearn.preprocessing import MinMaxScaler"
   ]
  },
  {
   "cell_type": "code",
   "execution_count": 18,
   "metadata": {},
   "outputs": [],
   "source": [
    "train = pd.read_csv('downloads/train.csv')\n",
    "test = pd.read_csv('downloads/test.csv')"
   ]
  },
  {
   "cell_type": "code",
   "execution_count": 19,
   "metadata": {},
   "outputs": [],
   "source": [
    "train['Embarked'] = train.Embarked.fillna('S')\n",
    "train['Sex'] = LabelEncoder().fit_transform(train['Sex'])\n",
    "train['Embarked'] = LabelEncoder().fit_transform(train['Embarked'])\n",
    "test['Sex'] = LabelEncoder().fit_transform(test['Sex'])\n",
    "test['Embarked'] = LabelEncoder().fit_transform(test['Embarked'])"
   ]
  },
  {
   "cell_type": "code",
   "execution_count": 51,
   "metadata": {},
   "outputs": [],
   "source": [
    "train['Age'] = train.groupby(['Sex', 'Pclass'])['Age'].apply(lambda x: x.fillna(x.median()))\n",
    "test['Age'] = test.groupby(['Sex', 'Pclass'])['Age'].apply(lambda x: x.fillna(x.median()))\n"
   ]
  },
  {
   "cell_type": "code",
   "execution_count": 75,
   "metadata": {},
   "outputs": [
    {
     "data": {
      "text/plain": [
       "[[1.0, 'Survived'],\n",
       " [0.5433513806577552, 'Sex'],\n",
       " [0.5424928737857646, 'psex'],\n",
       " [0.33848103596101536, 'Pclass'],\n",
       " [0.33180491185789374, 'Fare'],\n",
       " [0.2033670856998919, 'IsAlone'],\n",
       " [0.16767531386772133, 'Embarked'],\n",
       " [0.08162940708348349, 'Parch'],\n",
       " [0.06243325091426857, 'title'],\n",
       " [0.03638364552959677, 'Age'],\n",
       " [0.0353224988857356, 'SibSp'],\n",
       " [0.01663898928274522, 'Family'],\n",
       " [0.0050066607670664915, 'PassengerId']]"
      ]
     },
     "execution_count": 75,
     "metadata": {},
     "output_type": "execute_result"
    }
   ],
   "source": [
    "lst = []\n",
    "for col in train.drop(['Name','Ticket','Cabin'],axis=1).columns:\n",
    "    lst.append([abs(train.Survived.corr(train[col])),col])\n",
    "    #print([col,train.Survived.corr(train[col])])\n",
    "lst.sort(reverse=True)\n",
    "lst"
   ]
  },
  {
   "cell_type": "code",
   "execution_count": 52,
   "metadata": {},
   "outputs": [],
   "source": [
    "train['title'] = train['Name'].str.extract('([A-za-z]+)\\.')\n",
    "train['title'] = train['title'].replace(['Capt', 'Col','Don', 'Dr', 'Major', 'Rev', 'Sir', 'Jonkheer', 'Dona'], 'Rare')\n",
    "train['title'] = train['title'].replace(['Lady','Mme','Mlle', 'Countess'],'Mrs')\n",
    "\n",
    "test['title'] = test['Name'].str.extract('([A-za-z]+)\\.')\n",
    "test['title'] = test['title'].replace(['Capt', 'Col','Don', 'Dr', 'Major', 'Rev', 'Sir', 'Jonkheer', 'Dona'], 'Rare')\n",
    "test['title'] = test['title'].replace(['Lady','Mme','Mlle', 'Countess'],'Mrs')"
   ]
  },
  {
   "cell_type": "code",
   "execution_count": 53,
   "metadata": {},
   "outputs": [],
   "source": [
    "train['title'] = LabelEncoder().fit_transform(train['title'])\n",
    "test['title'] = LabelEncoder().fit_transform(test['title'])"
   ]
  },
  {
   "cell_type": "code",
   "execution_count": 54,
   "metadata": {},
   "outputs": [],
   "source": [
    "train['Family'] = train['SibSp'] +train['Parch']+1\n",
    "train['IsAlone'] = 0\n",
    "train.loc[train['Family'] ==1,'IsAlone'] = 1\n",
    "\n",
    "test['Family'] = test['SibSp'] +test['Parch']+1\n",
    "test['IsAlone'] = 0\n",
    "test.loc[test['Family'] ==1,'IsAlone'] = 1"
   ]
  },
  {
   "cell_type": "code",
   "execution_count": 33,
   "metadata": {},
   "outputs": [],
   "source": [
    "train['psex'] = train['Pclass'] * train['Sex']"
   ]
  },
  {
   "cell_type": "code",
   "execution_count": 169,
   "metadata": {},
   "outputs": [
    {
     "data": {
      "text/html": [
       "<div>\n",
       "<style scoped>\n",
       "    .dataframe tbody tr th:only-of-type {\n",
       "        vertical-align: middle;\n",
       "    }\n",
       "\n",
       "    .dataframe tbody tr th {\n",
       "        vertical-align: top;\n",
       "    }\n",
       "\n",
       "    .dataframe thead th {\n",
       "        text-align: right;\n",
       "    }\n",
       "</style>\n",
       "<table border=\"1\" class=\"dataframe\">\n",
       "  <thead>\n",
       "    <tr style=\"text-align: right;\">\n",
       "      <th></th>\n",
       "      <th>PassengerId</th>\n",
       "      <th>Survived</th>\n",
       "      <th>Pclass</th>\n",
       "      <th>Name</th>\n",
       "      <th>Sex</th>\n",
       "      <th>Age</th>\n",
       "      <th>SibSp</th>\n",
       "      <th>Parch</th>\n",
       "      <th>Ticket</th>\n",
       "      <th>Fare</th>\n",
       "      <th>Cabin</th>\n",
       "      <th>Embarked</th>\n",
       "      <th>title</th>\n",
       "      <th>Family</th>\n",
       "      <th>IsAlone</th>\n",
       "      <th>psex</th>\n",
       "      <th>Famname</th>\n",
       "    </tr>\n",
       "  </thead>\n",
       "  <tbody>\n",
       "    <tr>\n",
       "      <th>0</th>\n",
       "      <td>1</td>\n",
       "      <td>0</td>\n",
       "      <td>3</td>\n",
       "      <td>Braund, Mr. Owen Harris</td>\n",
       "      <td>1</td>\n",
       "      <td>1.0</td>\n",
       "      <td>1</td>\n",
       "      <td>0</td>\n",
       "      <td>A/5 21171</td>\n",
       "      <td>0.683603</td>\n",
       "      <td>47</td>\n",
       "      <td>2</td>\n",
       "      <td>2</td>\n",
       "      <td>2</td>\n",
       "      <td>0</td>\n",
       "      <td>3</td>\n",
       "      <td>73</td>\n",
       "    </tr>\n",
       "    <tr>\n",
       "      <th>1</th>\n",
       "      <td>2</td>\n",
       "      <td>1</td>\n",
       "      <td>1</td>\n",
       "      <td>Cumings, Mrs. John Bradley (Florence Briggs Th...</td>\n",
       "      <td>0</td>\n",
       "      <td>2.0</td>\n",
       "      <td>1</td>\n",
       "      <td>0</td>\n",
       "      <td>PC 17599</td>\n",
       "      <td>1.450832</td>\n",
       "      <td>81</td>\n",
       "      <td>0</td>\n",
       "      <td>3</td>\n",
       "      <td>2</td>\n",
       "      <td>0</td>\n",
       "      <td>0</td>\n",
       "      <td>142</td>\n",
       "    </tr>\n",
       "    <tr>\n",
       "      <th>2</th>\n",
       "      <td>3</td>\n",
       "      <td>1</td>\n",
       "      <td>3</td>\n",
       "      <td>Heikkinen, Miss. Laina</td>\n",
       "      <td>0</td>\n",
       "      <td>1.0</td>\n",
       "      <td>0</td>\n",
       "      <td>0</td>\n",
       "      <td>STON/O2. 3101282</td>\n",
       "      <td>0.727559</td>\n",
       "      <td>47</td>\n",
       "      <td>2</td>\n",
       "      <td>1</td>\n",
       "      <td>1</td>\n",
       "      <td>1</td>\n",
       "      <td>0</td>\n",
       "      <td>258</td>\n",
       "    </tr>\n",
       "    <tr>\n",
       "      <th>3</th>\n",
       "      <td>4</td>\n",
       "      <td>1</td>\n",
       "      <td>1</td>\n",
       "      <td>Futrelle, Mrs. Jacques Heath (Lily May Peel)</td>\n",
       "      <td>0</td>\n",
       "      <td>2.0</td>\n",
       "      <td>1</td>\n",
       "      <td>0</td>\n",
       "      <td>113803</td>\n",
       "      <td>1.379314</td>\n",
       "      <td>55</td>\n",
       "      <td>2</td>\n",
       "      <td>3</td>\n",
       "      <td>2</td>\n",
       "      <td>0</td>\n",
       "      <td>0</td>\n",
       "      <td>204</td>\n",
       "    </tr>\n",
       "    <tr>\n",
       "      <th>4</th>\n",
       "      <td>5</td>\n",
       "      <td>0</td>\n",
       "      <td>3</td>\n",
       "      <td>Allen, Mr. William Henry</td>\n",
       "      <td>1</td>\n",
       "      <td>2.0</td>\n",
       "      <td>0</td>\n",
       "      <td>0</td>\n",
       "      <td>373450</td>\n",
       "      <td>0.735091</td>\n",
       "      <td>47</td>\n",
       "      <td>2</td>\n",
       "      <td>2</td>\n",
       "      <td>1</td>\n",
       "      <td>1</td>\n",
       "      <td>3</td>\n",
       "      <td>11</td>\n",
       "    </tr>\n",
       "  </tbody>\n",
       "</table>\n",
       "</div>"
      ],
      "text/plain": [
       "   PassengerId  Survived  Pclass  \\\n",
       "0            1         0       3   \n",
       "1            2         1       1   \n",
       "2            3         1       3   \n",
       "3            4         1       1   \n",
       "4            5         0       3   \n",
       "\n",
       "                                                Name  Sex  Age  SibSp  Parch  \\\n",
       "0                            Braund, Mr. Owen Harris    1  1.0      1      0   \n",
       "1  Cumings, Mrs. John Bradley (Florence Briggs Th...    0  2.0      1      0   \n",
       "2                             Heikkinen, Miss. Laina    0  1.0      0      0   \n",
       "3       Futrelle, Mrs. Jacques Heath (Lily May Peel)    0  2.0      1      0   \n",
       "4                           Allen, Mr. William Henry    1  2.0      0      0   \n",
       "\n",
       "             Ticket      Fare  Cabin  Embarked  title  Family  IsAlone  psex  \\\n",
       "0         A/5 21171  0.683603     47         2      2       2        0     3   \n",
       "1          PC 17599  1.450832     81         0      3       2        0     0   \n",
       "2  STON/O2. 3101282  0.727559     47         2      1       1        1     0   \n",
       "3            113803  1.379314     55         2      3       2        0     0   \n",
       "4            373450  0.735091     47         2      2       1        1     3   \n",
       "\n",
       "   Famname  \n",
       "0       73  \n",
       "1      142  \n",
       "2      258  \n",
       "3      204  \n",
       "4       11  "
      ]
     },
     "execution_count": 169,
     "metadata": {},
     "output_type": "execute_result"
    }
   ],
   "source": [
    "train.head()"
   ]
  },
  {
   "cell_type": "code",
   "execution_count": 95,
   "metadata": {},
   "outputs": [
    {
     "data": {
      "text/plain": [
       "0                              Braund, Mr. Owen Harris\n",
       "1    Cumings, Mrs. John Bradley (Florence Briggs Th...\n",
       "2                               Heikkinen, Miss. Laina\n",
       "3         Futrelle, Mrs. Jacques Heath (Lily May Peel)\n",
       "4                             Allen, Mr. William Henry\n",
       "Name: Name, dtype: object"
      ]
     },
     "execution_count": 95,
     "metadata": {},
     "output_type": "execute_result"
    }
   ],
   "source": [
    "train.Name.head()"
   ]
  },
  {
   "cell_type": "code",
   "execution_count": 103,
   "metadata": {},
   "outputs": [],
   "source": [
    "train['Famname'] = train['Name'].str.extract('([A-Za-z]+),')\n",
    "len(train.Famname.unique())\n",
    "train['Famname'] = LabelEncoder().fit_transform(train['Famname'])\n",
    "\n",
    "test['Famname'] = test['Name'].str.extract('([A-Za-z]+),')\n",
    "test['Famname'] = LabelEncoder().fit_transform(test['Famname'])\n",
    "\n"
   ]
  },
  {
   "cell_type": "code",
   "execution_count": 122,
   "metadata": {},
   "outputs": [
    {
     "data": {
      "text/plain": [
       "0.17569045103556682"
      ]
     },
     "execution_count": 122,
     "metadata": {},
     "output_type": "execute_result"
    }
   ],
   "source": [
    "train.Cabin.corr(train.Survived)"
   ]
  },
  {
   "cell_type": "code",
   "execution_count": 117,
   "metadata": {},
   "outputs": [],
   "source": [
    "tmp = pd.read_csv('downloads/train.csv')\n",
    "train['Cabin'] = tmp['Cabin']\n",
    "train['Cabin'] = train.groupby(['Pclass','Family'])['Cabin'].apply(lambda x: x.fillna(train.Cabin.mode()[0]))"
   ]
  },
  {
   "cell_type": "code",
   "execution_count": 150,
   "metadata": {},
   "outputs": [],
   "source": [
    "#train[\"Fare\"] = train[\"Fare\"].map(lambda i: np.log(i) if i > 0 else 0)\n",
    "#test[\"Fare\"] = test[\"Fare\"].map(lambda i: np.log(i) if i > 0 else 0)\n",
    "#train.Cabin = LabelEncoder().fit_transform(train.Cabin)"
   ]
  },
  {
   "cell_type": "code",
   "execution_count": 132,
   "metadata": {},
   "outputs": [],
   "source": [
    "#train[['Pclass','Sex','Fare','Embarked','IsAlone','Age','Parch','title']] = MinMaxScaler().fit_transform(train[['Pclass','Sex','Fare','Embarked','IsAlone','Age','Parch','title']])\n",
    "X = train[['Pclass','Sex','Fare','Embarked','IsAlone','Cabin','Age','title','Famname']]\n",
    "y = train['Survived']\n",
    "xt = test[['Pclass','Sex','Fare','Embarked','IsAlone','Age','Parch','title']]"
   ]
  },
  {
   "cell_type": "code",
   "execution_count": 29,
   "metadata": {},
   "outputs": [],
   "source": [
    "train.loc[train['Age'] <= 16,'Age'] = 0\n",
    "train.loc[(train['Age'] > 16) & (train['Age'] <= 32),'Age'] = 1\n",
    "train.loc[(train['Age'] > 32) & (train['Age'] <= 48),'Age'] = 2\n",
    "train.loc[(train['Age'] > 48) & (train['Age'] <= 64),'Age'] = 3\n",
    "train.loc[train['Age'] >= 64,'Age'] = 4"
   ]
  },
  {
   "cell_type": "code",
   "execution_count": 56,
   "metadata": {},
   "outputs": [],
   "source": [
    "test.loc[test['Age'] <= 16,'Age'] = 0\n",
    "test.loc[(test['Age'] > 16) & (test['Age'] <= 32),'Age'] = 1\n",
    "test.loc[(test['Age'] > 32) & (test['Age'] <= 48),'Age'] = 2\n",
    "test.loc[(test['Age'] > 48) & (test['Age'] <= 64),'Age'] = 3\n",
    "test.loc[test['Age'] >= 64,'Age'] = 4"
   ]
  },
  {
   "cell_type": "code",
   "execution_count": 151,
   "metadata": {},
   "outputs": [],
   "source": [
    "xtrain,xtest,ytrain,ytest = train_test_split(pd.get_dummies(X),y, random_state = 0)"
   ]
  },
  {
   "cell_type": "code",
   "execution_count": 64,
   "metadata": {},
   "outputs": [
    {
     "name": "stdout",
     "output_type": "stream",
     "text": [
      "<class 'pandas.core.frame.DataFrame'>\n",
      "RangeIndex: 418 entries, 0 to 417\n",
      "Data columns (total 14 columns):\n",
      "PassengerId    418 non-null int64\n",
      "Pclass         418 non-null int64\n",
      "Name           418 non-null object\n",
      "Sex            418 non-null int32\n",
      "Age            418 non-null float64\n",
      "SibSp          418 non-null int64\n",
      "Parch          418 non-null int64\n",
      "Ticket         418 non-null object\n",
      "Fare           418 non-null float64\n",
      "Cabin          91 non-null object\n",
      "Embarked       418 non-null int32\n",
      "title          418 non-null int32\n",
      "Family         418 non-null int64\n",
      "IsAlone        418 non-null int64\n",
      "dtypes: float64(2), int32(3), int64(6), object(3)\n",
      "memory usage: 40.9+ KB\n"
     ]
    }
   ],
   "source": [
    "#test['Fare'] = test['Fare'].fillna(test['Fare'].median())\n",
    "test.info()"
   ]
  },
  {
   "cell_type": "code",
   "execution_count": 152,
   "metadata": {},
   "outputs": [
    {
     "data": {
      "image/png": "[encoded data removed]",
      "text/plain": [
       "<Figure size 432x288 with 2 Axes>"
      ]
     },
     "metadata": {
      "needs_background": "light"
     },
     "output_type": "display_data"
    }
   ],
   "source": [
    "g = sns.heatmap(train[['Pclass','Sex','Fare','Embarked','IsAlone','Age','title','Survived','Cabin']].corr(),annot=True, fmt = \".2f\", cmap = \"coolwarm\")"
   ]
  },
  {
   "cell_type": "code",
   "execution_count": 168,
   "metadata": {},
   "outputs": [
    {
     "data": {
      "text/plain": [
       "0.7901234567901233"
      ]
     },
     "execution_count": 168,
     "metadata": {},
     "output_type": "execute_result"
    }
   ],
   "source": [
    "\n",
    "#svm = SVC(kernel = 'rbf', C=10, gamma=1).fit(xtrain, ytrain)\n",
    "#pred = svm.predict(xtest)\n",
    "#acc = svm.score(xtest,ytest) #0.8251\n",
    "\n",
    "#lr = LogisticRegression(C=6).fit(xtrain,ytrain)\n",
    "#pred = lr.predict(xtest)\n",
    "#acc = lr.score(xtest,ytest) #0.7802\n",
    "\n",
    "#knn = KNeighborsClassifier(n_neighbors = 6).fit(xtrain,ytrain)\n",
    "#pred = knn.predict(xtest)\n",
    "#acc = knn.score(xtest,ytest) # 0.8116\n",
    "\n",
    "#dt = DecisionTreeClassifier(max_depth=4).fit(xtrain, ytrain)\n",
    "#pred = dt.predict(xtest)\n",
    "#acc = dt.score(xtest,ytest) # 0.8116\n",
    "\n",
    "#clf = DecisionTreeClassifier(random_state=0).fit(xtrain, ytrain)\n",
    "#pred = clf.predict(xtest)\n",
    "#acc = clf.score(xtest,ytest) # 0.8206\n",
    "\n",
    "#nbclf = GaussianNB().fit(xtrain, ytrain)\n",
    "#pred = nbclf.predict(xtest)\n",
    "#acc = nbclf.score(xtest,ytest) # 0.74887\n",
    "\n",
    "clf = RandomForestClassifier(n_estimators =1000,random_state=0,max_features=7,max_depth=6).fit(xtrain, ytrain)\n",
    "pred = clf.predict(xtest)\n",
    "#acc = clf.score(xtest,ytest) #0.83856\n",
    "\n",
    "#clf = GradientBoostingClassifier(learning_rate = 1, max_depth = 4, random_state = 0).fit(xtrain,ytrain)\n",
    "#pred = clf.predict(xtest)\n",
    "#acc = clf.score(xtest,ytest) #0.83856\n",
    "\n",
    "#nnclf= MLPClassifier(solver='lbfgs',activation='tanh',alpha = 0.001,random_state=0).fit(xtrain,ytrain)\n",
    "#pred = nnclf.predict(xtest)\n",
    "#acc = nnclf.score(xtest,ytest) #0.83408\n",
    "\n",
    "#clf = RandomForestClassifier(n_estimators =1000,random_state=0,max_features=7,max_depth=6).fit(X, y)\n",
    "#pred = clf.predict(xt)\n",
    "\n",
    "f1_score(ytest,pred)\n",
    "#output = pd.DataFrame({'PassengerId': test.PassengerId, 'Survived': pred})\n",
    "#output.to_csv('my_submission.csv', index=False)"
   ]
  },
  {
   "cell_type": "code",
   "execution_count": 197,
   "metadata": {},
   "outputs": [
    {
     "data": {
      "text/plain": [
       "0.26050281916730206"
      ]
     },
     "execution_count": 197,
     "metadata": {},
     "output_type": "execute_result"
    }
   ],
   "source": [
    "tmp['Tick'] = tmp['Ticket'].str.extract('([^0-9]+)')\n",
    "tmp.Tick = tmp.Tick.fillna('X')\n",
    "tmp.Tick = LabelEncoder().fit_transform(tmp.Tick)\n",
    "tmp['test'] = tmp.Tick/tmp.Pclass\n",
    "tmp.Survived.corr(tmp.test)"
   ]
  }
 ],
 "metadata": {
  "kernelspec": {
   "display_name": "Python 3",
   "language": "python",
   "name": "python3"
  },
  "language_info": {
   "codemirror_mode": {
    "name": "ipython",
    "version": 3
   },
   "file_extension": ".py",
   "mimetype": "text/x-python",
   "name": "python",
   "nbconvert_exporter": "python",
   "pygments_lexer": "ipython3",
   "version": "3.7.3"
  }
 },
 "nbformat": 4,
 "nbformat_minor": 2
}
